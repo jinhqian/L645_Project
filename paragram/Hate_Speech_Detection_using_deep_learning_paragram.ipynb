{
  "cells": [
    {
      "cell_type": "markdown",
      "metadata": {
        "id": "ZgwdyVxvQXHP"
      },
      "source": [
        "# **1. Dataset**"
      ]
    },
    {
      "cell_type": "markdown",
      "metadata": {
        "id": "JkHSVdYmWc6m"
      },
      "source": [
        "### 1.1 Load the dataset"
      ]
    },
    {
      "cell_type": "code",
      "execution_count": 1,
      "metadata": {
        "id": "9Qh99FEcuqSe"
      },
      "outputs": [],
      "source": [
        "# load the data\n",
        "import pandas as pd\n",
        "dataset = pd.read_csv(\"/content/drive/MyDrive/L645/data/labeled_data.csv\")"
      ]
    },
    {
      "cell_type": "markdown",
      "metadata": {
        "id": "dAuaXQ6-Wgq4"
      },
      "source": [
        "### 1.2 Data analysis"
      ]
    },
    {
      "cell_type": "code",
      "execution_count": 2,
      "metadata": {
        "colab": {
          "base_uri": "https://localhost:8080/"
        },
        "id": "tx22FcqauqNF",
        "outputId": "7b790681-b510-44a7-8c4f-11386544caa5"
      },
      "outputs": [
        {
          "output_type": "stream",
          "name": "stdout",
          "text": [
            "1430\n",
            "19190\n",
            "4163\n"
          ]
        },
        {
          "output_type": "execute_result",
          "data": {
            "text/plain": [
              "Index                 0\n",
              "count                 0\n",
              "hate_speech           0\n",
              "offensive_language    0\n",
              "neither               0\n",
              "class                 0\n",
              "tweet                 0\n",
              "dtype: int64"
            ]
          },
          "metadata": {},
          "execution_count": 2
        }
      ],
      "source": [
        "# Number of tweets that are annotated as hate-speech\n",
        "print(sum(dataset['class'] == 0))\n",
        "\n",
        "# Number of tweets that are annotated as offensive language\n",
        "print(sum(dataset['class'] == 1))\n",
        "\n",
        "# Number of tweets that are annotated as neither hate-speech nor offensive\n",
        "print(sum(dataset['class'] == 2))\n",
        "\n",
        "# # Check if there are any null values in the dataset\n",
        "dataset.isna().sum()"
      ]
    },
    {
      "cell_type": "markdown",
      "metadata": {
        "id": "ObYUyRn-Wfsd"
      },
      "source": []
    },
    {
      "cell_type": "markdown",
      "metadata": {
        "id": "pgG9svUUWmL_"
      },
      "source": [
        "### 1.3 Data visualization"
      ]
    },
    {
      "cell_type": "code",
      "execution_count": 3,
      "metadata": {
        "colab": {
          "base_uri": "https://localhost:8080/",
          "height": 299
        },
        "id": "K49Kk5kdyQb9",
        "outputId": "fd7db3b6-8d9e-4ea6-9b9e-18f55a75a9a3"
      },
      "outputs": [
        {
          "output_type": "execute_result",
          "data": {
            "text/plain": [
              "<matplotlib.axes._subplots.AxesSubplot at 0x7f64512a1cd0>"
            ]
          },
          "metadata": {},
          "execution_count": 3
        },
        {
          "output_type": "display_data",
          "data": {
            "text/plain": [
              "<Figure size 432x288 with 1 Axes>"
            ],
            "image/png": "[encoded data removed]"
          },
          "metadata": {
            "needs_background": "light"
          }
        }
      ],
      "source": [
        "# 0 for hate speech\n",
        "# 1 for offensive language\n",
        "# 2 for neither hate-speech nor offensive\n",
        "\n",
        "import seaborn as sns\n",
        "sns.countplot(x = 'class', data = dataset)"
      ]
    },
    {
      "cell_type": "markdown",
      "metadata": {
        "id": "Cw4ztbU0yghl"
      },
      "source": [
        "# **2. Data preprocessing**"
      ]
    },
    {
      "cell_type": "markdown",
      "metadata": {
        "id": "DYEVMqkHVwnr"
      },
      "source": [
        "### 2.1 Data cleaning"
      ]
    },
    {
      "cell_type": "code",
      "execution_count": 4,
      "metadata": {
        "id": "Xp50as5BchzC",
        "colab": {
          "base_uri": "https://localhost:8080/"
        },
        "outputId": "678b42db-5cd8-40b9-890c-e0a60c71d49f"
      },
      "outputs": [
        {
          "output_type": "stream",
          "name": "stderr",
          "text": [
            "[nltk_data] Downloading package stopwords to /root/nltk_data...\n",
            "[nltk_data]   Package stopwords is already up-to-date!\n",
            "[nltk_data] Downloading package punkt to /root/nltk_data...\n",
            "[nltk_data]   Package punkt is already up-to-date!\n"
          ]
        },
        {
          "output_type": "execute_result",
          "data": {
            "text/plain": [
              "True"
            ]
          },
          "metadata": {},
          "execution_count": 4
        }
      ],
      "source": [
        "import nltk, re\n",
        "from nltk.tokenize import word_tokenize\n",
        "from nltk.corpus import stopwords\n",
        "from collections import Counter\n",
        "nltk.download('stopwords')\n",
        "nltk.download('punkt')"
      ]
    },
    {
      "cell_type": "code",
      "execution_count": 5,
      "metadata": {
        "id": "bpIwDHuyygT7",
        "colab": {
          "base_uri": "https://localhost:8080/"
        },
        "outputId": "72ecb423-504f-4be0-9285-c2f899f4b16d"
      },
      "outputs": [
        {
          "output_type": "stream",
          "name": "stdout",
          "text": [
            "0        atusername woman complain cleaning house andam...\n",
            "1        atusername boy dats cold tyga dwn bad cuffin d...\n",
            "2        atusername dawg atusername ever fuck bitch sta...\n",
            "3                   atusername atusername look like tranny\n",
            "4        atusername shit hear might true might faker bi...\n",
            "                               ...                        \n",
            "24778    muthaf lie atusername atusername right tl tras...\n",
            "24779      gone broke wrong heart baby drove redneck crazy\n",
            "24780    young buck wan na eat dat nigguh like aint fuc...\n",
            "24781                    youu got wild bitches tellin lies\n",
            "24782    ruffled ntac eileen dahlia beautiful color com...\n",
            "Name: tweet, Length: 24783, dtype: object\n"
          ]
        }
      ],
      "source": [
        "stop_words = stopwords.words('english')\n",
        "stop_words_dict = Counter(stop_words)\n",
        "contract_patterns = [(r'won\\'t', 'will not'), (r'can\\'t', 'cannot'), (r'i\\'m', 'i am'), (r'ain\\'t', 'be not'), (r'(\\w+)\\'ll', '\\g<1> will'), (r'(\\w+)n\\'t', '\\g<1> not'),\n",
        "                        (r'(\\w+)\\'ve', '\\g<1> have'), (r'(\\w+)\\'s', '\\g<1> is'), (r'(\\w+)\\'re', '\\g<1> are'), (r'(\\w+)\\'d', '\\g<1> would'), (r'&', 'and'), (r'dammit', 'damn it')]\n",
        "\n",
        "# Replace contractions from tweets\n",
        "def replace_contraction(text):\n",
        "    patterns = [(re.compile(regex), rpl) for (regex, rpl) in contract_patterns]\n",
        "    for (pattern, rpl) in patterns:\n",
        "        (text, count) = re.subn(pattern, rpl, text)\n",
        "    return text\n",
        "\n",
        "# Clean the tweets by removing and replacing the unrequired characters\n",
        "def clean_tweets(tweet):\n",
        "    tweet = re.sub(r' RT ', ' ', tweet) # Remove RT\n",
        "    tweet = re.sub(r'http\\S+', 'url', tweet) # Replaces url address with \"url\"\n",
        "    tweet = re.sub(r'@[^\\s]+','atusername',tweet) # Replaces \"@user\" with \"atusername\"\n",
        "    tweet = re.sub(r'#[^\\s]+', ' ', tweet) # Removes hastag in front of a word \n",
        "    tweet = re.sub(r'[^\\w\\s]', ' ', tweet) # Remove everything except characters and whitespace\n",
        "    tweet = re.sub(r'[^a-zA-Z] ', ' ', tweet) # Remove numbers\n",
        "    tweet = re.sub(r'\\s\\s+', ' ', tweet) # Remove multiple spaces\n",
        "    tweet = tweet.lower() # Convert each character to lower case and remove spaces around them\n",
        "    return tweet\n",
        "\n",
        "# Removes stop words\n",
        "def remove_stop_words(tweet):\n",
        "    tokens = word_tokenize(tweet)\n",
        "    tokens = [word for word in tokens if word not in stop_words_dict]\n",
        "    return ' '.join(tokens)\n",
        "\n",
        "# Replace contractions in the tweets\n",
        "dataset[\"tweet\"] = dataset.tweet.apply(replace_contraction)\n",
        "\n",
        "# Clean the tweets\n",
        "dataset[\"tweet\"] = dataset.tweet.apply(clean_tweets)\n",
        "\n",
        "# Remove stop words in the tweets\n",
        "dataset['tweet'] = dataset.tweet.apply(remove_stop_words)\n",
        "\n",
        "print(dataset['tweet'])"
      ]
    },
    {
      "cell_type": "markdown",
      "metadata": {
        "id": "7tQJNKk7WAzP"
      },
      "source": [
        "### 2.2 Lemmatization or Stemming"
      ]
    },
    {
      "cell_type": "code",
      "execution_count": 6,
      "metadata": {
        "id": "tFVOB3WHrzzL",
        "colab": {
          "base_uri": "https://localhost:8080/"
        },
        "outputId": "049d5701-2bc0-4055-8161-5bd8cad1fdd9"
      },
      "outputs": [
        {
          "output_type": "stream",
          "name": "stderr",
          "text": [
            "[nltk_data] Downloading package wordnet to /root/nltk_data...\n",
            "[nltk_data]   Package wordnet is already up-to-date!\n",
            "[nltk_data] Downloading package omw-1.4 to /root/nltk_data...\n",
            "[nltk_data]   Package omw-1.4 is already up-to-date!\n"
          ]
        },
        {
          "output_type": "execute_result",
          "data": {
            "text/plain": [
              "True"
            ]
          },
          "metadata": {},
          "execution_count": 6
        }
      ],
      "source": [
        "from nltk.stem import WordNetLemmatizer, PorterStemmer\n",
        "nltk.download('wordnet')\n",
        "nltk.download('omw-1.4')"
      ]
    },
    {
      "cell_type": "code",
      "execution_count": 7,
      "metadata": {
        "id": "wlW_bd-dyaKv",
        "colab": {
          "base_uri": "https://localhost:8080/"
        },
        "outputId": "11b5f220-1351-4f0a-d258-dc73d8aefe87"
      },
      "outputs": [
        {
          "output_type": "execute_result",
          "data": {
            "text/plain": [
              "0        atusername woman complain cleaning house andam...\n",
              "1        atusername boy dat cold tyga dwn bad cuffin da...\n",
              "2        atusername dawg atusername ever fuck bitch sta...\n",
              "3                   atusername atusername look like tranny\n",
              "4        atusername shit hear might true might faker bi...\n",
              "                               ...                        \n",
              "24778    muthaf lie atusername atusername right tl tras...\n",
              "24779      gone broke wrong heart baby drove redneck crazy\n",
              "24780    young buck wan na eat dat nigguh like aint fuc...\n",
              "24781                       youu got wild bitch tellin lie\n",
              "24782    ruffled ntac eileen dahlia beautiful color com...\n",
              "Name: tweet, Length: 24783, dtype: object"
            ]
          },
          "metadata": {},
          "execution_count": 7
        }
      ],
      "source": [
        "# Lemmatization\n",
        "def lemmatize_tweets(tweet):\n",
        "    tokens = word_tokenize(tweet)\n",
        "    lemmatizer = nltk.WordNetLemmatizer()\n",
        "    tokens = [lemmatizer.lemmatize(word) for word in tokens]\n",
        "    return ' '.join(tokens)\n",
        "\n",
        "# Stemming\n",
        "def stemming_tweets(tweet):\n",
        "    tokens = word_tokenize(tweet)\n",
        "    ps = PorterStemmer()\n",
        "    tokens = [ps.stem(word) for word in tokens]\n",
        "    return ' '.join(tokens)\n",
        "\n",
        "# Create word representation\n",
        "def word_representation(dataset, type = 'lemmatization'):\n",
        "    if type == 'lemmatization':\n",
        "        dataset['tweet'] = list(map(lemmatize_tweets, dataset['tweet']))\n",
        "    else:\n",
        "        dataset['tweet'] = list(map(stemming_tweets, dataset['tweet']))\n",
        "    return dataset\n",
        "\n",
        "dataset = word_representation(dataset)\n",
        "dataset[\"tweet\"]"
      ]
    },
    {
      "cell_type": "markdown",
      "metadata": {
        "id": "tXTJ1i9YI2En"
      },
      "source": [
        "# **3. Sequence Data Transformation**"
      ]
    },
    {
      "cell_type": "markdown",
      "metadata": {
        "id": "CaIfbVe3J1LZ"
      },
      "source": [
        "### 3.1 Spliting the dataset into train and test set"
      ]
    },
    {
      "cell_type": "code",
      "execution_count": 8,
      "metadata": {
        "id": "htzxhfth1f_N"
      },
      "outputs": [],
      "source": [
        "# Split the train and test dataset\n",
        "from sklearn.model_selection import train_test_split\n",
        "X_train, X_test, y_train, y_test = train_test_split(dataset['tweet'], dataset['class'], random_state = 42, test_size=0.1, shuffle = True)"
      ]
    },
    {
      "cell_type": "markdown",
      "metadata": {
        "id": "uA9YKboLJ_hS"
      },
      "source": [
        "### 3.2 Data preparation using tokenization, data sequence preparation, padding for equal length sequence."
      ]
    },
    {
      "cell_type": "code",
      "execution_count": 9,
      "metadata": {
        "id": "EJMInnAO1f7t"
      },
      "outputs": [],
      "source": [
        "# Define Hyperparameters\n",
        "VOCABULARY_SIZE = 2000\n",
        "MAX_LENGTH = 60\n",
        "\n",
        "# Tokenization\n",
        "from keras.preprocessing.text import Tokenizer\n",
        "tokenizer = Tokenizer(num_words=VOCABULARY_SIZE, oov_token = '<OOV>')\n",
        "tokenizer.fit_on_texts(list(X_train) + list(X_test))\n",
        "\n",
        "# Save the toeknizer\n",
        "import pickle\n",
        "with open('tokenizer.pickle', 'wb') as handle:\n",
        "    pickle.dump(tokenizer, handle, protocol=pickle.HIGHEST_PROTOCOL)\n",
        "\n",
        "# Sequences\n",
        "X_train_sequence = tokenizer.texts_to_sequences(X_train)\n",
        "X_test_sequence = tokenizer.texts_to_sequences(X_test)\n",
        "\n",
        "# Padding\n",
        "from keras_preprocessing.sequence import pad_sequences\n",
        "X_train_padding = pad_sequences(X_train_sequence, maxlen = MAX_LENGTH, padding = 'post', truncating = 'post')\n",
        "X_test_padding = pad_sequences(X_test_sequence, maxlen = MAX_LENGTH, padding = 'post', truncating = 'post')\n",
        "\n",
        "word_index = tokenizer.word_index"
      ]
    },
    {
      "cell_type": "markdown",
      "metadata": {
        "id": "tXkEC8zyKGwl"
      },
      "source": [
        "### 3.3 Sequence representation using word embeddings (GloVe, Word2Vec, and Paragram)"
      ]
    },
    {
      "cell_type": "markdown",
      "metadata": {
        "id": "ZXw0SpxmLm5L"
      },
      "source": [
        "### 3.3.1 Golve"
      ]
    },
    {
      "cell_type": "code",
      "execution_count": 10,
      "metadata": {
        "id": "qglqkgL_TfOa"
      },
      "outputs": [],
      "source": [
        "# from tqdm import tqdm\n",
        "# import numpy as np\n",
        "# glove_embeddings_index = {}\n",
        "# f = open('/content/drive/MyDrive/L645/data/glove.6B.100d.txt', encoding='utf8') #100d\n",
        "\n",
        "# for line in tqdm(f):\n",
        "#     values = line.split()\n",
        "#     word = values[0]\n",
        "#     coefs = np.asarray(values[1:],dtype='float32')\n",
        "#     glove_embeddings_index[word] = coefs\n",
        "# f.close()\n",
        "\n",
        "# print('Found %s word vectors.' % len(glove_embeddings_index))\n"
      ]
    },
    {
      "cell_type": "code",
      "execution_count": 11,
      "metadata": {
        "id": "v_5972Z4TfLq"
      },
      "outputs": [],
      "source": [
        "# embedding_matrix = np.zeros((len(word_index)+ 1, 100))\n",
        "# for word, i in tqdm(word_index.items()):\n",
        "#     embedding_vector = glove_embeddings_index.get(word)\n",
        "#     if embedding_vector is not None:\n",
        "#         embedding_matrix[i] = embedding_vector"
      ]
    },
    {
      "cell_type": "markdown",
      "metadata": {
        "id": "LCAZUmjTL9wM"
      },
      "source": [
        "### 3.3.2 Word2Vec"
      ]
    },
    {
      "cell_type": "code",
      "execution_count": 12,
      "metadata": {
        "id": "rvYSgxgJTfI7"
      },
      "outputs": [],
      "source": [
        "# from tqdm import tqdm\n",
        "# import numpy as np\n",
        "# W2V_embeddings_index = {}\n",
        "# f = open('/content/drive/MyDrive/L645/data/word2vec.txt', encoding='utf8')  #100d\n",
        "\n",
        "# for line in tqdm(f):\n",
        "#     values = line.split()\n",
        "#     word = values[0]\n",
        "#     coefs = np.asarray(values[1:],dtype='float32')\n",
        "#     W2V_embeddings_index[word] = coefs\n",
        "# f.close()\n",
        "\n",
        "# print('Found %s word vectors.' % len(W2V_embeddings_index))"
      ]
    },
    {
      "cell_type": "code",
      "execution_count": 13,
      "metadata": {
        "id": "1Cw4gsSITfGD"
      },
      "outputs": [],
      "source": [
        "# embedding_matrix = np.zeros((len(word_index)+ 1, 100))\n",
        "# for word, i in tqdm(word_index.items()):\n",
        "#     embedding_vector = W2V_embeddings_index.get(word)\n",
        "#     if embedding_vector is not None:\n",
        "#         embedding_matrix[i] = embedding_vector"
      ]
    },
    {
      "cell_type": "markdown",
      "metadata": {
        "id": "F7b2y-GuMx9t"
      },
      "source": [
        "### 3.3.3 Paragram"
      ]
    },
    {
      "cell_type": "code",
      "execution_count": 14,
      "metadata": {
        "id": "vvKSn1WDTfDU",
        "colab": {
          "base_uri": "https://localhost:8080/"
        },
        "outputId": "4d4b51f7-dbb2-4863-9184-f2c59582699a"
      },
      "outputs": [
        {
          "output_type": "stream",
          "name": "stderr",
          "text": [
            "66199it [00:16, 4111.94it/s]"
          ]
        },
        {
          "output_type": "stream",
          "name": "stdout",
          "text": [
            "Found 66195 word vectors.\n"
          ]
        },
        {
          "output_type": "stream",
          "name": "stderr",
          "text": [
            "\n"
          ]
        }
      ],
      "source": [
        "from tqdm import tqdm\n",
        "import numpy as np\n",
        "P_embeddings_index = {}\n",
        "f = open('/content/drive/MyDrive/L645/data/paragram_300_sl999.txt', encoding='utf8')  #300d\n",
        "\n",
        "for line in tqdm(f):\n",
        "    values = line.split()\n",
        "    word = values[0]\n",
        "    coefs = np.asarray(values[1:])\n",
        "    P_embeddings_index[word] = coefs\n",
        "f.close()\n",
        "\n",
        "print('Found %s word vectors.' % len(P_embeddings_index))"
      ]
    },
    {
      "cell_type": "code",
      "execution_count": 15,
      "metadata": {
        "id": "Pov1lAvXTfAz",
        "colab": {
          "base_uri": "https://localhost:8080/"
        },
        "outputId": "4411cb93-f1f3-4ae7-c3e7-08772ece2e07"
      },
      "outputs": [
        {
          "output_type": "stream",
          "name": "stderr",
          "text": [
            "100%|██████████| 17815/17815 [00:03<00:00, 5403.91it/s]\n"
          ]
        }
      ],
      "source": [
        "embedding_matrix = np.zeros((len(word_index)+ 1, 300))\n",
        "for word, i in tqdm(word_index.items()):\n",
        "    embedding_vector = P_embeddings_index.get(word)\n",
        "    if embedding_vector is not None:\n",
        "        embedding_matrix[i] = embedding_vector"
      ]
    },
    {
      "cell_type": "markdown",
      "metadata": {
        "id": "ZSOmjAhCNZHW"
      },
      "source": [
        "# **4. Building models**"
      ]
    },
    {
      "cell_type": "code",
      "execution_count": 16,
      "metadata": {
        "id": "GH_FHj2zNszn"
      },
      "outputs": [],
      "source": [
        "# binarize the labels for the neural network\n",
        "from keras.utils import np_utils\n",
        "from keras.models import Sequential\n",
        "from tensorflow.keras.layers import Embedding\n",
        "from sklearn.metrics import accuracy_score, precision_score, recall_score, f1_score, confusion_matrix\n",
        "from keras import layers\n",
        "from keras.layers import LSTM, SimpleRNN, GRU\n",
        "from keras.layers import SpatialDropout1D, Bidirectional\n",
        "from keras.layers.core import Dense, Activation, Dropout\n",
        "\n",
        "y_train_encode = np_utils.to_categorical(y_train)\n",
        "y_test_encode = np_utils.to_categorical(y_test)"
      ]
    },
    {
      "cell_type": "markdown",
      "metadata": {
        "id": "IeBbfPR4Nl9p"
      },
      "source": [
        "### 4.1 Simple RNN"
      ]
    },
    {
      "cell_type": "code",
      "execution_count": 17,
      "metadata": {
        "id": "Qu_RYUryTe-C"
      },
      "outputs": [],
      "source": [
        "# Build the RNN model\n",
        "def build_RNN_model():\n",
        "    model = Sequential()\n",
        "    model.add(Embedding(len(word_index) + 1, 300, weights = [embedding_matrix], input_length = MAX_LENGTH, trainable = False))\n",
        "    model.add(SpatialDropout1D(0.2))\n",
        "    model.add(Bidirectional(SimpleRNN(300, dropout = 0.2, recurrent_dropout=0.2)))\n",
        "    model.add(Dense(300, activation = 'relu'))\n",
        "    model.add(Dropout(0.2))\n",
        "    model.add(Dense(3))\n",
        "    model.add(Activation('softmax'))\n",
        "    model.compile(loss = 'categorical_crossentropy', optimizer = 'adam', metrics = ['accuracy'])\n",
        "    return model"
      ]
    },
    {
      "cell_type": "code",
      "execution_count": 18,
      "metadata": {
        "id": "36mv1LhbTe7T",
        "colab": {
          "base_uri": "https://localhost:8080/"
        },
        "outputId": "d90117cb-efc8-46f1-d236-f1ced4f58326"
      },
      "outputs": [
        {
          "output_type": "stream",
          "name": "stdout",
          "text": [
            "Epoch 1/15\n",
            "44/44 [==============================] - 10s 177ms/step - loss: 0.5853 - accuracy: 0.7732 - val_loss: 0.4377 - val_accuracy: 0.8411\n",
            "Epoch 2/15\n",
            "44/44 [==============================] - 7s 170ms/step - loss: 0.4274 - accuracy: 0.8433 - val_loss: 0.3916 - val_accuracy: 0.8657\n",
            "Epoch 3/15\n",
            "44/44 [==============================] - 8s 171ms/step - loss: 0.4126 - accuracy: 0.8490 - val_loss: 0.4186 - val_accuracy: 0.8399\n",
            "Epoch 4/15\n",
            "44/44 [==============================] - 7s 166ms/step - loss: 0.4297 - accuracy: 0.8429 - val_loss: 0.3786 - val_accuracy: 0.8681\n",
            "Epoch 5/15\n",
            "44/44 [==============================] - 7s 166ms/step - loss: 0.3745 - accuracy: 0.8618 - val_loss: 0.3545 - val_accuracy: 0.8713\n",
            "Epoch 6/15\n",
            "44/44 [==============================] - 7s 168ms/step - loss: 0.3522 - accuracy: 0.8698 - val_loss: 0.3564 - val_accuracy: 0.8689\n",
            "Epoch 7/15\n",
            "44/44 [==============================] - 7s 169ms/step - loss: 0.3467 - accuracy: 0.8713 - val_loss: 0.3493 - val_accuracy: 0.8737\n",
            "Epoch 8/15\n",
            "44/44 [==============================] - 8s 173ms/step - loss: 0.3400 - accuracy: 0.8726 - val_loss: 0.3394 - val_accuracy: 0.8665\n",
            "Epoch 9/15\n",
            "44/44 [==============================] - 7s 170ms/step - loss: 0.3305 - accuracy: 0.8746 - val_loss: 0.3361 - val_accuracy: 0.8669\n",
            "Epoch 10/15\n",
            "44/44 [==============================] - 7s 169ms/step - loss: 0.3328 - accuracy: 0.8735 - val_loss: 0.3415 - val_accuracy: 0.8645\n",
            "Epoch 11/15\n",
            "44/44 [==============================] - 10s 218ms/step - loss: 0.3325 - accuracy: 0.8734 - val_loss: 0.3309 - val_accuracy: 0.8677\n",
            "Epoch 12/15\n",
            "44/44 [==============================] - 8s 172ms/step - loss: 0.3260 - accuracy: 0.8770 - val_loss: 0.3475 - val_accuracy: 0.8677\n",
            "Epoch 13/15\n",
            "44/44 [==============================] - 8s 172ms/step - loss: 0.3207 - accuracy: 0.8805 - val_loss: 0.3221 - val_accuracy: 0.8725\n",
            "Epoch 14/15\n",
            "44/44 [==============================] - 7s 167ms/step - loss: 0.3175 - accuracy: 0.8785 - val_loss: 0.3326 - val_accuracy: 0.8717\n",
            "Epoch 15/15\n",
            "44/44 [==============================] - 8s 175ms/step - loss: 0.3165 - accuracy: 0.8809 - val_loss: 0.3285 - val_accuracy: 0.8701\n"
          ]
        }
      ],
      "source": [
        "# Train the model\n",
        "model_rnn = build_RNN_model()\n",
        "history_rnn = model_rnn.fit(X_train_padding, y=y_train_encode, batch_size=512, epochs=15, verbose=1, validation_data=(X_test_padding, y_test_encode))"
      ]
    },
    {
      "cell_type": "markdown",
      "metadata": {
        "id": "dCV7f_PBOmDm"
      },
      "source": [
        "### 4.2 LSTM"
      ]
    },
    {
      "cell_type": "code",
      "execution_count": 19,
      "metadata": {
        "id": "57bUUagG-O7-"
      },
      "outputs": [],
      "source": [
        "# Build LSTM model\n",
        "\n",
        "def build_LSTM_model():\n",
        "    model = Sequential()\n",
        "    # model.add(Embedding(len(word_index) + 1, 100, weights = [embedding_matrix], input_length = MAX_LENGTH, trainable = False))\n",
        "    model.add(Embedding(len(word_index) + 1, 300, weights = [embedding_matrix], input_length = MAX_LENGTH, trainable = False))\n",
        "    model.add(SpatialDropout1D(0.2))\n",
        "    model.add(Bidirectional(LSTM(300, dropout = 0.2, recurrent_dropout=0.2)))\n",
        "    model.add(Dense(300, activation = 'relu'))\n",
        "    model.add(Dropout(0.2))\n",
        "    model.add(Dense(3))\n",
        "    model.add(Activation('softmax'))\n",
        "    model.compile(loss = 'categorical_crossentropy', optimizer = 'adam', metrics = ['accuracy'])\n",
        "    return model"
      ]
    },
    {
      "cell_type": "code",
      "execution_count": 20,
      "metadata": {
        "id": "la8XICpKOpb5",
        "colab": {
          "base_uri": "https://localhost:8080/"
        },
        "outputId": "1ccae217-69f8-44f3-d5ea-dbd402cf575a"
      },
      "outputs": [
        {
          "output_type": "stream",
          "name": "stderr",
          "text": [
            "WARNING:tensorflow:Layer lstm will not use cuDNN kernels since it doesn't meet the criteria. It will use a generic GPU kernel as fallback when running on GPU.\n",
            "WARNING:tensorflow:Layer lstm will not use cuDNN kernels since it doesn't meet the criteria. It will use a generic GPU kernel as fallback when running on GPU.\n",
            "WARNING:tensorflow:Layer lstm will not use cuDNN kernels since it doesn't meet the criteria. It will use a generic GPU kernel as fallback when running on GPU.\n"
          ]
        },
        {
          "output_type": "stream",
          "name": "stdout",
          "text": [
            "Epoch 1/15\n",
            "44/44 [==============================] - 29s 555ms/step - loss: 0.4583 - accuracy: 0.8295 - val_loss: 0.3663 - val_accuracy: 0.8552\n",
            "Epoch 2/15\n",
            "44/44 [==============================] - 22s 503ms/step - loss: 0.3189 - accuracy: 0.8779 - val_loss: 0.3199 - val_accuracy: 0.8741\n",
            "Epoch 3/15\n",
            "44/44 [==============================] - 22s 508ms/step - loss: 0.2940 - accuracy: 0.8854 - val_loss: 0.3079 - val_accuracy: 0.8745\n",
            "Epoch 4/15\n",
            "44/44 [==============================] - 22s 499ms/step - loss: 0.2821 - accuracy: 0.8897 - val_loss: 0.3043 - val_accuracy: 0.8774\n",
            "Epoch 5/15\n",
            "44/44 [==============================] - 22s 503ms/step - loss: 0.2680 - accuracy: 0.8962 - val_loss: 0.3017 - val_accuracy: 0.8770\n",
            "Epoch 6/15\n",
            "44/44 [==============================] - 22s 511ms/step - loss: 0.2561 - accuracy: 0.8993 - val_loss: 0.3055 - val_accuracy: 0.8814\n",
            "Epoch 7/15\n",
            "44/44 [==============================] - 22s 504ms/step - loss: 0.2489 - accuracy: 0.9037 - val_loss: 0.3053 - val_accuracy: 0.8806\n",
            "Epoch 8/15\n",
            "44/44 [==============================] - 24s 546ms/step - loss: 0.2368 - accuracy: 0.9115 - val_loss: 0.3116 - val_accuracy: 0.8846\n",
            "Epoch 9/15\n",
            "44/44 [==============================] - 22s 502ms/step - loss: 0.2213 - accuracy: 0.9155 - val_loss: 0.3230 - val_accuracy: 0.8806\n",
            "Epoch 10/15\n",
            "44/44 [==============================] - 22s 500ms/step - loss: 0.2100 - accuracy: 0.9179 - val_loss: 0.3278 - val_accuracy: 0.8810\n",
            "Epoch 11/15\n",
            "44/44 [==============================] - 22s 501ms/step - loss: 0.2017 - accuracy: 0.9209 - val_loss: 0.3465 - val_accuracy: 0.8766\n",
            "Epoch 12/15\n",
            "44/44 [==============================] - 22s 500ms/step - loss: 0.1864 - accuracy: 0.9275 - val_loss: 0.3523 - val_accuracy: 0.8758\n",
            "Epoch 13/15\n",
            "44/44 [==============================] - 22s 497ms/step - loss: 0.1733 - accuracy: 0.9332 - val_loss: 0.3675 - val_accuracy: 0.8782\n",
            "Epoch 14/15\n",
            "44/44 [==============================] - 22s 504ms/step - loss: 0.1582 - accuracy: 0.9385 - val_loss: 0.3860 - val_accuracy: 0.8729\n",
            "Epoch 15/15\n",
            "44/44 [==============================] - 22s 498ms/step - loss: 0.1495 - accuracy: 0.9417 - val_loss: 0.4201 - val_accuracy: 0.8774\n"
          ]
        }
      ],
      "source": [
        "# Train the model\n",
        "model_lstm = build_LSTM_model()\n",
        "history_lstm = model_lstm.fit(X_train_padding, y=y_train_encode, batch_size=512, epochs=15, verbose=1, validation_data=(X_test_padding, y_test_encode))"
      ]
    },
    {
      "cell_type": "markdown",
      "metadata": {
        "id": "w7h7YavGOyKN"
      },
      "source": [
        "### 4.3 GRU"
      ]
    },
    {
      "cell_type": "code",
      "execution_count": 21,
      "metadata": {
        "id": "D3l7UoWPOpX0"
      },
      "outputs": [],
      "source": [
        "# Build GRU model\n",
        "def build_GRU_model():\n",
        "    model = Sequential()\n",
        "    model.add(Embedding(len(word_index) + 1, 300, weights = [embedding_matrix], input_length = MAX_LENGTH, trainable = False))\n",
        "    model.add(SpatialDropout1D(0.2))\n",
        "    model.add(Bidirectional(GRU(300, dropout = 0.2, recurrent_dropout=0.2)))\n",
        "    model.add(Dense(300, activation = 'relu'))\n",
        "    model.add(Dropout(0.2))\n",
        "    model.add(Dense(3))\n",
        "    model.add(Activation('softmax'))\n",
        "    model.compile(loss = 'categorical_crossentropy', optimizer = 'adam', metrics = ['accuracy'])\n",
        "    return model"
      ]
    },
    {
      "cell_type": "code",
      "execution_count": 22,
      "metadata": {
        "id": "iq5KvMz4OpVT",
        "colab": {
          "base_uri": "https://localhost:8080/"
        },
        "outputId": "a6bc5c12-44b5-4f6d-be89-43cc445ed03f"
      },
      "outputs": [
        {
          "output_type": "stream",
          "name": "stderr",
          "text": [
            "WARNING:tensorflow:Layer gru will not use cuDNN kernels since it doesn't meet the criteria. It will use a generic GPU kernel as fallback when running on GPU.\n",
            "WARNING:tensorflow:Layer gru will not use cuDNN kernels since it doesn't meet the criteria. It will use a generic GPU kernel as fallback when running on GPU.\n",
            "WARNING:tensorflow:Layer gru will not use cuDNN kernels since it doesn't meet the criteria. It will use a generic GPU kernel as fallback when running on GPU.\n"
          ]
        },
        {
          "output_type": "stream",
          "name": "stdout",
          "text": [
            "Epoch 1/15\n",
            "44/44 [==============================] - 26s 504ms/step - loss: 0.4659 - accuracy: 0.8260 - val_loss: 0.3326 - val_accuracy: 0.8717\n",
            "Epoch 2/15\n",
            "44/44 [==============================] - 20s 456ms/step - loss: 0.3163 - accuracy: 0.8780 - val_loss: 0.3100 - val_accuracy: 0.8733\n",
            "Epoch 3/15\n",
            "44/44 [==============================] - 20s 455ms/step - loss: 0.2954 - accuracy: 0.8856 - val_loss: 0.3075 - val_accuracy: 0.8762\n",
            "Epoch 4/15\n",
            "44/44 [==============================] - 20s 455ms/step - loss: 0.2828 - accuracy: 0.8924 - val_loss: 0.2976 - val_accuracy: 0.8778\n",
            "Epoch 5/15\n",
            "44/44 [==============================] - 20s 458ms/step - loss: 0.2710 - accuracy: 0.8949 - val_loss: 0.2981 - val_accuracy: 0.8758\n",
            "Epoch 6/15\n",
            "44/44 [==============================] - 20s 453ms/step - loss: 0.2630 - accuracy: 0.8995 - val_loss: 0.2943 - val_accuracy: 0.8810\n",
            "Epoch 7/15\n",
            "44/44 [==============================] - 20s 461ms/step - loss: 0.2559 - accuracy: 0.9000 - val_loss: 0.3051 - val_accuracy: 0.8782\n",
            "Epoch 8/15\n",
            "44/44 [==============================] - 20s 460ms/step - loss: 0.2439 - accuracy: 0.9074 - val_loss: 0.3023 - val_accuracy: 0.8782\n",
            "Epoch 9/15\n",
            "44/44 [==============================] - 22s 499ms/step - loss: 0.2348 - accuracy: 0.9095 - val_loss: 0.3032 - val_accuracy: 0.8830\n",
            "Epoch 10/15\n",
            "44/44 [==============================] - 20s 460ms/step - loss: 0.2235 - accuracy: 0.9127 - val_loss: 0.3094 - val_accuracy: 0.8790\n",
            "Epoch 11/15\n",
            "44/44 [==============================] - 20s 459ms/step - loss: 0.2152 - accuracy: 0.9161 - val_loss: 0.3187 - val_accuracy: 0.8810\n",
            "Epoch 12/15\n",
            "44/44 [==============================] - 20s 452ms/step - loss: 0.2045 - accuracy: 0.9201 - val_loss: 0.3276 - val_accuracy: 0.8802\n",
            "Epoch 13/15\n",
            "44/44 [==============================] - 20s 458ms/step - loss: 0.1963 - accuracy: 0.9250 - val_loss: 0.3341 - val_accuracy: 0.8834\n",
            "Epoch 14/15\n",
            "44/44 [==============================] - 20s 448ms/step - loss: 0.1824 - accuracy: 0.9281 - val_loss: 0.3564 - val_accuracy: 0.8814\n",
            "Epoch 15/15\n",
            "44/44 [==============================] - 20s 450ms/step - loss: 0.1753 - accuracy: 0.9320 - val_loss: 0.3540 - val_accuracy: 0.8790\n"
          ]
        }
      ],
      "source": [
        "# Train the model\n",
        "model_gru = build_GRU_model()\n",
        "history_gru = model_gru.fit(X_train_padding, y=y_train_encode, batch_size=512, epochs=15, verbose=1, validation_data=(X_test_padding, y_test_encode))"
      ]
    },
    {
      "cell_type": "markdown",
      "metadata": {
        "id": "3MnIvGyDPCp3"
      },
      "source": [
        "# **5. Module Validation and Evaluation**"
      ]
    },
    {
      "cell_type": "code",
      "execution_count": 23,
      "metadata": {
        "id": "8WishDk0OpSG"
      },
      "outputs": [],
      "source": [
        "# plot the training and validation accuracy per epoch of a model.\n",
        "def performance_history(history, model_name, image_path, string):\n",
        "    plt.plot(history.history[string])\n",
        "    plt.plot(history.history['val_' + string])\n",
        "    plt.xlabel('Epochs')\n",
        "    plt.ylabel(string)\n",
        "    plt.legend([string, 'val_' + string])\n",
        "    plt.title(model_name + ' ' + string + ' per epoch')\n",
        "    # Save the figure\n",
        "    plt.savefig(image_path + model_name + ' ' + string + ' per epoch.png', dpi = 600)\n",
        "    # Display the figure\n",
        "    plt.show()"
      ]
    },
    {
      "cell_type": "code",
      "execution_count": 24,
      "metadata": {
        "id": "lGbIwn_6OpPI"
      },
      "outputs": [],
      "source": [
        "from sklearn import metrics\n",
        "import matplotlib.pyplot as plt\n",
        "# generate the performance report of a model\n",
        "def performance_report(model, model_name, image_path, testX, testy):\n",
        "\n",
        "    time = date.today()\n",
        "    \n",
        "    yhat_probs=model.predict(testX) \n",
        "    yhat_classes = np.argmax(yhat_probs, axis = 1)\n",
        "    ytest = np.argmax(testy, axis = 1)\n",
        "    \n",
        "    accuracy = accuracy_score(ytest, yhat_classes)  # (tp + tn) / (p + n)\n",
        "    precision = precision_score(ytest, yhat_classes, average = 'macro') # tp / (tp + fp)\n",
        "    recall = recall_score(ytest, yhat_classes, average = 'macro') # tp / (tp + fn)\n",
        "    f1 = f1_score(ytest, yhat_classes, average = 'macro') # 2 tp / (2 tp + fp + fn)\n",
        "    \n",
        "    # confusion matrix\n",
        "    cf_matrix = confusion_matrix(ytest, yhat_classes)\n",
        "    cf_display = metrics.ConfusionMatrixDisplay(confusion_matrix = cf_matrix, display_labels = ['Hate', 'Offensive', 'Neither'])\n",
        "    # plot the confusion matrix\n",
        "    cf_display.plot()\n",
        "    # plt.show()\n",
        "    # save the confusion matrix figure\n",
        "    plt.savefig(image_path + model_name + ' performance_report.png', dpi=600)\n",
        "    # figure.savefig(image_path + model_name + ' performance_report.png', dpi=600, transparent=True, bbox_inches='tight')\n",
        "\n",
        "    total_cost_df = pd.DataFrame(\n",
        "            columns=['Time', 'Model Name', 'Precision', 'Recall', 'F1 Score', 'Accuracy'])\n",
        "\n",
        "    total_cost_df = total_cost_df.append(\n",
        "            {'Time': time, \n",
        "             'Precision': precision,\n",
        "             'Model Name': model_name,\n",
        "             'Recall': recall, \n",
        "             'F1 Score': f1,\n",
        "             'Accuracy':accuracy},\n",
        "            ignore_index=True)\n",
        "    return total_cost_df"
      ]
    },
    {
      "cell_type": "code",
      "execution_count": 25,
      "metadata": {
        "id": "AcHTaC8iOpMk"
      },
      "outputs": [],
      "source": [
        "## Create folders to save the models and plot\n",
        "import os \n",
        "\n",
        "image_path = '/content/drive/MyDrive/L645/project/paragram/images/'\n",
        "model_path = '/content/drive/MyDrive/L645/project/paragram/'\n",
        "\n",
        "# Create image and model folder if they don't exist\n",
        "def create_directry(path):\n",
        "    # Check whether the specified path exists or not\n",
        "    isExist = os.path.exists(path)\n",
        "    if not isExist:\n",
        "      # Create a new directory because it does not exist \n",
        "      os.makedirs(path)\n",
        "\n",
        "# Create image path\n",
        "create_directry(image_path)\n",
        "\n",
        "# Create model path\n",
        "create_directry(model_path)"
      ]
    },
    {
      "cell_type": "code",
      "execution_count": 26,
      "metadata": {
        "id": "XWdGRi8BOpJc",
        "colab": {
          "base_uri": "https://localhost:8080/",
          "height": 360
        },
        "outputId": "a771ae4d-9a60-4836-a1a3-c799dd61db56"
      },
      "outputs": [
        {
          "output_type": "stream",
          "name": "stdout",
          "text": [
            "78/78 [==============================] - 1s 14ms/step\n"
          ]
        },
        {
          "output_type": "execute_result",
          "data": {
            "text/plain": [
              "         Time  Model Name  Precision    Recall  F1 Score  Accuracy\n",
              "0  2022-12-11  Simple RNN   0.697894  0.654591  0.635024  0.870109"
            ],
            "text/html": [
              "\n",
              "  <div id=\"df-87b2982c-a538-4977-9c9b-e0a1200279c3\">\n",
              "    <div class=\"colab-df-container\">\n",
              "      <div>\n",
              "<style scoped>\n",
              "    .dataframe tbody tr th:only-of-type {\n",
              "        vertical-align: middle;\n",
              "    }\n",
              "\n",
              "    .dataframe tbody tr th {\n",
              "        vertical-align: top;\n",
              "    }\n",
              "\n",
              "    .dataframe thead th {\n",
              "        text-align: right;\n",
              "    }\n",
              "</style>\n",
              "<table border=\"1\" class=\"dataframe\">\n",
              "  <thead>\n",
              "    <tr style=\"text-align: right;\">\n",
              "      <th></th>\n",
              "      <th>Time</th>\n",
              "      <th>Model Name</th>\n",
              "      <th>Precision</th>\n",
              "      <th>Recall</th>\n",
              "      <th>F1 Score</th>\n",
              "      <th>Accuracy</th>\n",
              "    </tr>\n",
              "  </thead>\n",
              "  <tbody>\n",
              "    <tr>\n",
              "      <th>0</th>\n",
              "      <td>2022-12-11</td>\n",
              "      <td>Simple RNN</td>\n",
              "      <td>0.697894</td>\n",
              "      <td>0.654591</td>\n",
              "      <td>0.635024</td>\n",
              "      <td>0.870109</td>\n",
              "    </tr>\n",
              "  </tbody>\n",
              "</table>\n",
              "</div>\n",
              "      <button class=\"colab-df-convert\" onclick=\"convertToInteractive('df-87b2982c-a538-4977-9c9b-e0a1200279c3')\"\n",
              "              title=\"Convert this dataframe to an interactive table.\"\n",
              "              style=\"display:none;\">\n",
              "        \n",
              "  <svg xmlns=\"http://www.w3.org/2000/svg\" height=\"24px\"viewBox=\"0 0 24 24\"\n",
              "       width=\"24px\">\n",
              "    <path d=\"M0 0h24v24H0V0z\" fill=\"none\"/>\n",
              "    <path d=\"M18.56 5.44l.94 2.06.94-2.06 2.06-.94-2.06-.94-.94-2.06-.94 2.06-2.06.94zm-11 1L8.5 8.5l.94-2.06 2.06-.94-2.06-.94L8.5 2.5l-.94 2.06-2.06.94zm10 10l.94 2.06.94-2.06 2.06-.94-2.06-.94-.94-2.06-.94 2.06-2.06.94z\"/><path d=\"M17.41 7.96l-1.37-1.37c-.4-.4-.92-.59-1.43-.59-.52 0-1.04.2-1.43.59L10.3 9.45l-7.72 7.72c-.78.78-.78 2.05 0 2.83L4 21.41c.39.39.9.59 1.41.59.51 0 1.02-.2 1.41-.59l7.78-7.78 2.81-2.81c.8-.78.8-2.07 0-2.86zM5.41 20L4 18.59l7.72-7.72 1.47 1.35L5.41 20z\"/>\n",
              "  </svg>\n",
              "      </button>\n",
              "      \n",
              "  <style>\n",
              "    .colab-df-container {\n",
              "      display:flex;\n",
              "      flex-wrap:wrap;\n",
              "      gap: 12px;\n",
              "    }\n",
              "\n",
              "    .colab-df-convert {\n",
              "      background-color: #E8F0FE;\n",
              "      border: none;\n",
              "      border-radius: 50%;\n",
              "      cursor: pointer;\n",
              "      display: none;\n",
              "      fill: #1967D2;\n",
              "      height: 32px;\n",
              "      padding: 0 0 0 0;\n",
              "      width: 32px;\n",
              "    }\n",
              "\n",
              "    .colab-df-convert:hover {\n",
              "      background-color: #E2EBFA;\n",
              "      box-shadow: 0px 1px 2px rgba(60, 64, 67, 0.3), 0px 1px 3px 1px rgba(60, 64, 67, 0.15);\n",
              "      fill: #174EA6;\n",
              "    }\n",
              "\n",
              "    [theme=dark] .colab-df-convert {\n",
              "      background-color: #3B4455;\n",
              "      fill: #D2E3FC;\n",
              "    }\n",
              "\n",
              "    [theme=dark] .colab-df-convert:hover {\n",
              "      background-color: #434B5C;\n",
              "      box-shadow: 0px 1px 3px 1px rgba(0, 0, 0, 0.15);\n",
              "      filter: drop-shadow(0px 1px 2px rgba(0, 0, 0, 0.3));\n",
              "      fill: #FFFFFF;\n",
              "    }\n",
              "  </style>\n",
              "\n",
              "      <script>\n",
              "        const buttonEl =\n",
              "          document.querySelector('#df-87b2982c-a538-4977-9c9b-e0a1200279c3 button.colab-df-convert');\n",
              "        buttonEl.style.display =\n",
              "          google.colab.kernel.accessAllowed ? 'block' : 'none';\n",
              "\n",
              "        async function convertToInteractive(key) {\n",
              "          const element = document.querySelector('#df-87b2982c-a538-4977-9c9b-e0a1200279c3');\n",
              "          const dataTable =\n",
              "            await google.colab.kernel.invokeFunction('convertToInteractive',\n",
              "                                                     [key], {});\n",
              "          if (!dataTable) return;\n",
              "\n",
              "          const docLinkHtml = 'Like what you see? Visit the ' +\n",
              "            '<a target=\"_blank\" href=https://colab.research.google.com/notebooks/data_table.ipynb>data table notebook</a>'\n",
              "            + ' to learn more about interactive tables.';\n",
              "          element.innerHTML = '';\n",
              "          dataTable['output_type'] = 'display_data';\n",
              "          await google.colab.output.renderOutput(dataTable, element);\n",
              "          const docLink = document.createElement('div');\n",
              "          docLink.innerHTML = docLinkHtml;\n",
              "          element.appendChild(docLink);\n",
              "        }\n",
              "      </script>\n",
              "    </div>\n",
              "  </div>\n",
              "  "
            ]
          },
          "metadata": {},
          "execution_count": 26
        },
        {
          "output_type": "display_data",
          "data": {
            "text/plain": [
              "<Figure size 432x288 with 2 Axes>"
            ],
            "image/png": "[encoded data removed]"
          },
          "metadata": {
            "needs_background": "light"
          }
        }
      ],
      "source": [
        "# Compare models\n",
        "from datetime import date\n",
        "import seaborn as sns\n",
        "from sklearn.metrics import accuracy_score, precision_score, recall_score, f1_score, confusion_matrix\n",
        "import seaborn as sns\n",
        "import matplotlib.pyplot as plt\n",
        "rnn_report = performance_report(model_rnn, \"Simple RNN\", image_path, X_test_padding, y_test_encode)\n",
        "rnn_report"
      ]
    },
    {
      "cell_type": "code",
      "execution_count": 27,
      "metadata": {
        "id": "Q-jYQl7MZJ9N",
        "colab": {
          "base_uri": "https://localhost:8080/",
          "height": 360
        },
        "outputId": "0d6c2925-74e9-42e1-ae7e-b15f08149efd"
      },
      "outputs": [
        {
          "output_type": "stream",
          "name": "stdout",
          "text": [
            "78/78 [==============================] - 4s 47ms/step\n"
          ]
        },
        {
          "output_type": "execute_result",
          "data": {
            "text/plain": [
              "         Time Model Name  Precision    Recall  F1 Score  Accuracy\n",
              "0  2022-12-11       LSTM   0.725818  0.682147  0.698595   0.87737"
            ],
            "text/html": [
              "\n",
              "  <div id=\"df-aaf54afa-42db-4be9-b71c-a2a95a3a7ac9\">\n",
              "    <div class=\"colab-df-container\">\n",
              "      <div>\n",
              "<style scoped>\n",
              "    .dataframe tbody tr th:only-of-type {\n",
              "        vertical-align: middle;\n",
              "    }\n",
              "\n",
              "    .dataframe tbody tr th {\n",
              "        vertical-align: top;\n",
              "    }\n",
              "\n",
              "    .dataframe thead th {\n",
              "        text-align: right;\n",
              "    }\n",
              "</style>\n",
              "<table border=\"1\" class=\"dataframe\">\n",
              "  <thead>\n",
              "    <tr style=\"text-align: right;\">\n",
              "      <th></th>\n",
              "      <th>Time</th>\n",
              "      <th>Model Name</th>\n",
              "      <th>Precision</th>\n",
              "      <th>Recall</th>\n",
              "      <th>F1 Score</th>\n",
              "      <th>Accuracy</th>\n",
              "    </tr>\n",
              "  </thead>\n",
              "  <tbody>\n",
              "    <tr>\n",
              "      <th>0</th>\n",
              "      <td>2022-12-11</td>\n",
              "      <td>LSTM</td>\n",
              "      <td>0.725818</td>\n",
              "      <td>0.682147</td>\n",
              "      <td>0.698595</td>\n",
              "      <td>0.87737</td>\n",
              "    </tr>\n",
              "  </tbody>\n",
              "</table>\n",
              "</div>\n",
              "      <button class=\"colab-df-convert\" onclick=\"convertToInteractive('df-aaf54afa-42db-4be9-b71c-a2a95a3a7ac9')\"\n",
              "              title=\"Convert this dataframe to an interactive table.\"\n",
              "              style=\"display:none;\">\n",
              "        \n",
              "  <svg xmlns=\"http://www.w3.org/2000/svg\" height=\"24px\"viewBox=\"0 0 24 24\"\n",
              "       width=\"24px\">\n",
              "    <path d=\"M0 0h24v24H0V0z\" fill=\"none\"/>\n",
              "    <path d=\"M18.56 5.44l.94 2.06.94-2.06 2.06-.94-2.06-.94-.94-2.06-.94 2.06-2.06.94zm-11 1L8.5 8.5l.94-2.06 2.06-.94-2.06-.94L8.5 2.5l-.94 2.06-2.06.94zm10 10l.94 2.06.94-2.06 2.06-.94-2.06-.94-.94-2.06-.94 2.06-2.06.94z\"/><path d=\"M17.41 7.96l-1.37-1.37c-.4-.4-.92-.59-1.43-.59-.52 0-1.04.2-1.43.59L10.3 9.45l-7.72 7.72c-.78.78-.78 2.05 0 2.83L4 21.41c.39.39.9.59 1.41.59.51 0 1.02-.2 1.41-.59l7.78-7.78 2.81-2.81c.8-.78.8-2.07 0-2.86zM5.41 20L4 18.59l7.72-7.72 1.47 1.35L5.41 20z\"/>\n",
              "  </svg>\n",
              "      </button>\n",
              "      \n",
              "  <style>\n",
              "    .colab-df-container {\n",
              "      display:flex;\n",
              "      flex-wrap:wrap;\n",
              "      gap: 12px;\n",
              "    }\n",
              "\n",
              "    .colab-df-convert {\n",
              "      background-color: #E8F0FE;\n",
              "      border: none;\n",
              "      border-radius: 50%;\n",
              "      cursor: pointer;\n",
              "      display: none;\n",
              "      fill: #1967D2;\n",
              "      height: 32px;\n",
              "      padding: 0 0 0 0;\n",
              "      width: 32px;\n",
              "    }\n",
              "\n",
              "    .colab-df-convert:hover {\n",
              "      background-color: #E2EBFA;\n",
              "      box-shadow: 0px 1px 2px rgba(60, 64, 67, 0.3), 0px 1px 3px 1px rgba(60, 64, 67, 0.15);\n",
              "      fill: #174EA6;\n",
              "    }\n",
              "\n",
              "    [theme=dark] .colab-df-convert {\n",
              "      background-color: #3B4455;\n",
              "      fill: #D2E3FC;\n",
              "    }\n",
              "\n",
              "    [theme=dark] .colab-df-convert:hover {\n",
              "      background-color: #434B5C;\n",
              "      box-shadow: 0px 1px 3px 1px rgba(0, 0, 0, 0.15);\n",
              "      filter: drop-shadow(0px 1px 2px rgba(0, 0, 0, 0.3));\n",
              "      fill: #FFFFFF;\n",
              "    }\n",
              "  </style>\n",
              "\n",
              "      <script>\n",
              "        const buttonEl =\n",
              "          document.querySelector('#df-aaf54afa-42db-4be9-b71c-a2a95a3a7ac9 button.colab-df-convert');\n",
              "        buttonEl.style.display =\n",
              "          google.colab.kernel.accessAllowed ? 'block' : 'none';\n",
              "\n",
              "        async function convertToInteractive(key) {\n",
              "          const element = document.querySelector('#df-aaf54afa-42db-4be9-b71c-a2a95a3a7ac9');\n",
              "          const dataTable =\n",
              "            await google.colab.kernel.invokeFunction('convertToInteractive',\n",
              "                                                     [key], {});\n",
              "          if (!dataTable) return;\n",
              "\n",
              "          const docLinkHtml = 'Like what you see? Visit the ' +\n",
              "            '<a target=\"_blank\" href=https://colab.research.google.com/notebooks/data_table.ipynb>data table notebook</a>'\n",
              "            + ' to learn more about interactive tables.';\n",
              "          element.innerHTML = '';\n",
              "          dataTable['output_type'] = 'display_data';\n",
              "          await google.colab.output.renderOutput(dataTable, element);\n",
              "          const docLink = document.createElement('div');\n",
              "          docLink.innerHTML = docLinkHtml;\n",
              "          element.appendChild(docLink);\n",
              "        }\n",
              "      </script>\n",
              "    </div>\n",
              "  </div>\n",
              "  "
            ]
          },
          "metadata": {},
          "execution_count": 27
        },
        {
          "output_type": "display_data",
          "data": {
            "text/plain": [
              "<Figure size 432x288 with 2 Axes>"
            ],
            "image/png": "[encoded data removed]"
          },
          "metadata": {
            "needs_background": "light"
          }
        }
      ],
      "source": [
        "lstm_report = performance_report(model_lstm, \"LSTM\", image_path, X_test_padding, y_test_encode)\n",
        "lstm_report\n"
      ]
    },
    {
      "cell_type": "code",
      "execution_count": 28,
      "metadata": {
        "id": "L8SLAlznZLaG",
        "colab": {
          "base_uri": "https://localhost:8080/",
          "height": 360
        },
        "outputId": "31b97ad1-498b-42ce-c714-9bf359473770"
      },
      "outputs": [
        {
          "output_type": "stream",
          "name": "stdout",
          "text": [
            "78/78 [==============================] - 4s 50ms/step\n"
          ]
        },
        {
          "output_type": "execute_result",
          "data": {
            "text/plain": [
              "         Time Model Name  Precision    Recall  F1 Score  Accuracy\n",
              "0  2022-12-11        GRU   0.731907  0.662527  0.682137  0.878983"
            ],
            "text/html": [
              "\n",
              "  <div id=\"df-5f4ea0f1-c605-4752-85a2-e79d2d7edca7\">\n",
              "    <div class=\"colab-df-container\">\n",
              "      <div>\n",
              "<style scoped>\n",
              "    .dataframe tbody tr th:only-of-type {\n",
              "        vertical-align: middle;\n",
              "    }\n",
              "\n",
              "    .dataframe tbody tr th {\n",
              "        vertical-align: top;\n",
              "    }\n",
              "\n",
              "    .dataframe thead th {\n",
              "        text-align: right;\n",
              "    }\n",
              "</style>\n",
              "<table border=\"1\" class=\"dataframe\">\n",
              "  <thead>\n",
              "    <tr style=\"text-align: right;\">\n",
              "      <th></th>\n",
              "      <th>Time</th>\n",
              "      <th>Model Name</th>\n",
              "      <th>Precision</th>\n",
              "      <th>Recall</th>\n",
              "      <th>F1 Score</th>\n",
              "      <th>Accuracy</th>\n",
              "    </tr>\n",
              "  </thead>\n",
              "  <tbody>\n",
              "    <tr>\n",
              "      <th>0</th>\n",
              "      <td>2022-12-11</td>\n",
              "      <td>GRU</td>\n",
              "      <td>0.731907</td>\n",
              "      <td>0.662527</td>\n",
              "      <td>0.682137</td>\n",
              "      <td>0.878983</td>\n",
              "    </tr>\n",
              "  </tbody>\n",
              "</table>\n",
              "</div>\n",
              "      <button class=\"colab-df-convert\" onclick=\"convertToInteractive('df-5f4ea0f1-c605-4752-85a2-e79d2d7edca7')\"\n",
              "              title=\"Convert this dataframe to an interactive table.\"\n",
              "              style=\"display:none;\">\n",
              "        \n",
              "  <svg xmlns=\"http://www.w3.org/2000/svg\" height=\"24px\"viewBox=\"0 0 24 24\"\n",
              "       width=\"24px\">\n",
              "    <path d=\"M0 0h24v24H0V0z\" fill=\"none\"/>\n",
              "    <path d=\"M18.56 5.44l.94 2.06.94-2.06 2.06-.94-2.06-.94-.94-2.06-.94 2.06-2.06.94zm-11 1L8.5 8.5l.94-2.06 2.06-.94-2.06-.94L8.5 2.5l-.94 2.06-2.06.94zm10 10l.94 2.06.94-2.06 2.06-.94-2.06-.94-.94-2.06-.94 2.06-2.06.94z\"/><path d=\"M17.41 7.96l-1.37-1.37c-.4-.4-.92-.59-1.43-.59-.52 0-1.04.2-1.43.59L10.3 9.45l-7.72 7.72c-.78.78-.78 2.05 0 2.83L4 21.41c.39.39.9.59 1.41.59.51 0 1.02-.2 1.41-.59l7.78-7.78 2.81-2.81c.8-.78.8-2.07 0-2.86zM5.41 20L4 18.59l7.72-7.72 1.47 1.35L5.41 20z\"/>\n",
              "  </svg>\n",
              "      </button>\n",
              "      \n",
              "  <style>\n",
              "    .colab-df-container {\n",
              "      display:flex;\n",
              "      flex-wrap:wrap;\n",
              "      gap: 12px;\n",
              "    }\n",
              "\n",
              "    .colab-df-convert {\n",
              "      background-color: #E8F0FE;\n",
              "      border: none;\n",
              "      border-radius: 50%;\n",
              "      cursor: pointer;\n",
              "      display: none;\n",
              "      fill: #1967D2;\n",
              "      height: 32px;\n",
              "      padding: 0 0 0 0;\n",
              "      width: 32px;\n",
              "    }\n",
              "\n",
              "    .colab-df-convert:hover {\n",
              "      background-color: #E2EBFA;\n",
              "      box-shadow: 0px 1px 2px rgba(60, 64, 67, 0.3), 0px 1px 3px 1px rgba(60, 64, 67, 0.15);\n",
              "      fill: #174EA6;\n",
              "    }\n",
              "\n",
              "    [theme=dark] .colab-df-convert {\n",
              "      background-color: #3B4455;\n",
              "      fill: #D2E3FC;\n",
              "    }\n",
              "\n",
              "    [theme=dark] .colab-df-convert:hover {\n",
              "      background-color: #434B5C;\n",
              "      box-shadow: 0px 1px 3px 1px rgba(0, 0, 0, 0.15);\n",
              "      filter: drop-shadow(0px 1px 2px rgba(0, 0, 0, 0.3));\n",
              "      fill: #FFFFFF;\n",
              "    }\n",
              "  </style>\n",
              "\n",
              "      <script>\n",
              "        const buttonEl =\n",
              "          document.querySelector('#df-5f4ea0f1-c605-4752-85a2-e79d2d7edca7 button.colab-df-convert');\n",
              "        buttonEl.style.display =\n",
              "          google.colab.kernel.accessAllowed ? 'block' : 'none';\n",
              "\n",
              "        async function convertToInteractive(key) {\n",
              "          const element = document.querySelector('#df-5f4ea0f1-c605-4752-85a2-e79d2d7edca7');\n",
              "          const dataTable =\n",
              "            await google.colab.kernel.invokeFunction('convertToInteractive',\n",
              "                                                     [key], {});\n",
              "          if (!dataTable) return;\n",
              "\n",
              "          const docLinkHtml = 'Like what you see? Visit the ' +\n",
              "            '<a target=\"_blank\" href=https://colab.research.google.com/notebooks/data_table.ipynb>data table notebook</a>'\n",
              "            + ' to learn more about interactive tables.';\n",
              "          element.innerHTML = '';\n",
              "          dataTable['output_type'] = 'display_data';\n",
              "          await google.colab.output.renderOutput(dataTable, element);\n",
              "          const docLink = document.createElement('div');\n",
              "          docLink.innerHTML = docLinkHtml;\n",
              "          element.appendChild(docLink);\n",
              "        }\n",
              "      </script>\n",
              "    </div>\n",
              "  </div>\n",
              "  "
            ]
          },
          "metadata": {},
          "execution_count": 28
        },
        {
          "output_type": "display_data",
          "data": {
            "text/plain": [
              "<Figure size 432x288 with 2 Axes>"
            ],
            "image/png": "[encoded data removed]"
          },
          "metadata": {
            "needs_background": "light"
          }
        }
      ],
      "source": [
        "GRU_report = performance_report(model_gru, \"GRU\", image_path, X_test_padding, y_test_encode)\n",
        "GRU_report"
      ]
    },
    {
      "cell_type": "code",
      "execution_count": 29,
      "metadata": {
        "id": "0_gGEZvrQl2Q",
        "colab": {
          "base_uri": "https://localhost:8080/",
          "height": 1000
        },
        "outputId": "d46814c3-bc8b-4288-f025-e9e6f4452f5f"
      },
      "outputs": [
        {
          "output_type": "display_data",
          "data": {
            "text/plain": [
              "<Figure size 432x288 with 1 Axes>"
            ],
            "image/png": "[encoded data removed]"
          },
          "metadata": {
            "needs_background": "light"
          }
        },
        {
          "output_type": "display_data",
          "data": {
            "text/plain": [
              "<Figure size 432x288 with 1 Axes>"
            ],
            "image/png": "[encoded data removed]"
          },
          "metadata": {
            "needs_background": "light"
          }
        },
        {
          "output_type": "display_data",
          "data": {
            "text/plain": [
              "<Figure size 432x288 with 1 Axes>"
            ],
            "image/png": "[encoded data removed]"
          },
          "metadata": {
            "needs_background": "light"
          }
        },
        {
          "output_type": "display_data",
          "data": {
            "text/plain": [
              "<Figure size 432x288 with 1 Axes>"
            ],
            "image/png": "[encoded data removed]"
          },
          "metadata": {
            "needs_background": "light"
          }
        },
        {
          "output_type": "display_data",
          "data": {
            "text/plain": [
              "<Figure size 432x288 with 1 Axes>"
            ],
            "image/png": "[encoded data removed]"
          },
          "metadata": {
            "needs_background": "light"
          }
        },
        {
          "output_type": "display_data",
          "data": {
            "text/plain": [
              "<Figure size 432x288 with 1 Axes>"
            ],
            "image/png": "[encoded data removed]"
          },
          "metadata": {
            "needs_background": "light"
          }
        }
      ],
      "source": [
        "performance_history(history_lstm, \"Simple RNN\", image_path, 'accuracy')\n",
        "performance_history(history_lstm, \"Simple RNN\", image_path, 'loss')\n",
        "\n",
        "performance_history(history_lstm, \"LSTM\", image_path, 'accuracy')\n",
        "performance_history(history_lstm, \"LSTM\", image_path, 'loss')\n",
        "\n",
        "performance_history(history_lstm, \"GRU\", image_path, 'accuracy')\n",
        "performance_history(history_lstm, \"GRU\", image_path, 'loss')\n",
        "\n"
      ]
    },
    {
      "cell_type": "markdown",
      "metadata": {
        "id": "td-TqAMBEK5_"
      },
      "source": [
        "# **6. Add class weight to handel unbalanced dataset**"
      ]
    },
    {
      "cell_type": "markdown",
      "metadata": {
        "id": "ywejZr2zT3iG"
      },
      "source": [
        "### 6.1 Calculate class weight using fomula: w_j = n_samples / (n_classes * n_samples_j)\n",
        "    "
      ]
    },
    {
      "cell_type": "code",
      "execution_count": 30,
      "metadata": {
        "id": "yZ3FjqvMEYsv",
        "colab": {
          "base_uri": "https://localhost:8080/"
        },
        "outputId": "5934ee51-286a-4238-da2d-cb65ecafb816"
      },
      "outputs": [
        {
          "output_type": "execute_result",
          "data": {
            "text/plain": [
              "{0: 5.776923076923077, 1: 0.43048462741010945, 2: 1.9843862599087196}"
            ]
          },
          "metadata": {},
          "execution_count": 30
        }
      ],
      "source": [
        "# Total number of samples\n",
        "n_samples = len(dataset)\n",
        "\n",
        "# Total number of classes\n",
        "n_classes = len(pd.unique(dataset['class']))\n",
        "\n",
        "# Total number of samples in each class\n",
        "n_sample_0 = sum(dataset['class'] == 0)\n",
        "n_sample_1 = sum(dataset['class'] == 1)\n",
        "n_sample_2 = sum(dataset['class'] == 2)\n",
        "\n",
        "# The weights of each calss\n",
        "w_0 = n_samples / (n_classes * n_sample_0)\n",
        "w_1 = n_samples / (n_classes * n_sample_1)\n",
        "w_2 = n_samples / (n_classes * n_sample_2)\n",
        "\n",
        "# Class weights\n",
        "class_weights = {\n",
        "    0: w_0,\n",
        "    1: w_1,\n",
        "    2: w_2\n",
        "}\n",
        "\n",
        "class_weights"
      ]
    },
    {
      "cell_type": "markdown",
      "metadata": {
        "id": "Q8DFPnIrUM_1"
      },
      "source": [
        "6.2 Train GRU model with class weight "
      ]
    },
    {
      "cell_type": "code",
      "source": [
        "# #Train the model\n",
        "# model_GRU_weighted = build_GRU_model()\n",
        "# history_GRU_weighted = model_GRU_weighted.fit(X_train_padding, y=y_train_encode, batch_size=512, epochs=15, verbose=1, validation_data=(X_test_padding, y_test_encode), class_weight = class_weights)"
      ],
      "metadata": {
        "colab": {
          "base_uri": "https://localhost:8080/"
        },
        "id": "qGWGlK7kNqMj",
        "outputId": "0246bd78-962b-495e-cb14-9c9fe092545f"
      },
      "execution_count": 31,
      "outputs": [
        {
          "output_type": "stream",
          "name": "stderr",
          "text": [
            "WARNING:tensorflow:Layer gru_1 will not use cuDNN kernels since it doesn't meet the criteria. It will use a generic GPU kernel as fallback when running on GPU.\n",
            "WARNING:tensorflow:Layer gru_1 will not use cuDNN kernels since it doesn't meet the criteria. It will use a generic GPU kernel as fallback when running on GPU.\n",
            "WARNING:tensorflow:Layer gru_1 will not use cuDNN kernels since it doesn't meet the criteria. It will use a generic GPU kernel as fallback when running on GPU.\n"
          ]
        },
        {
          "output_type": "stream",
          "name": "stdout",
          "text": [
            "Epoch 1/15\n",
            "44/44 [==============================] - 30s 586ms/step - loss: 0.7334 - accuracy: 0.7166 - val_loss: 0.4769 - val_accuracy: 0.8378\n",
            "Epoch 2/15\n",
            "44/44 [==============================] - 20s 452ms/step - loss: 0.5544 - accuracy: 0.7976 - val_loss: 0.4749 - val_accuracy: 0.8148\n",
            "Epoch 3/15\n",
            "44/44 [==============================] - 20s 447ms/step - loss: 0.5180 - accuracy: 0.7917 - val_loss: 0.6238 - val_accuracy: 0.7398\n",
            "Epoch 4/15\n",
            "44/44 [==============================] - 20s 450ms/step - loss: 0.4906 - accuracy: 0.8010 - val_loss: 0.4588 - val_accuracy: 0.8253\n",
            "Epoch 5/15\n",
            "44/44 [==============================] - 20s 460ms/step - loss: 0.4718 - accuracy: 0.7979 - val_loss: 0.3971 - val_accuracy: 0.8439\n",
            "Epoch 6/15\n",
            "44/44 [==============================] - 20s 447ms/step - loss: 0.4490 - accuracy: 0.8060 - val_loss: 0.5593 - val_accuracy: 0.7753\n",
            "Epoch 7/15\n",
            "44/44 [==============================] - 20s 451ms/step - loss: 0.4262 - accuracy: 0.8036 - val_loss: 0.5426 - val_accuracy: 0.7664\n",
            "Epoch 8/15\n",
            "44/44 [==============================] - 20s 449ms/step - loss: 0.4005 - accuracy: 0.8124 - val_loss: 0.4551 - val_accuracy: 0.8169\n",
            "Epoch 9/15\n",
            "44/44 [==============================] - 22s 492ms/step - loss: 0.3829 - accuracy: 0.8147 - val_loss: 0.4163 - val_accuracy: 0.8298\n",
            "Epoch 10/15\n",
            "44/44 [==============================] - 20s 457ms/step - loss: 0.3578 - accuracy: 0.8209 - val_loss: 0.5973 - val_accuracy: 0.7313\n",
            "Epoch 11/15\n",
            "44/44 [==============================] - 20s 447ms/step - loss: 0.3523 - accuracy: 0.8183 - val_loss: 0.4825 - val_accuracy: 0.8144\n",
            "Epoch 12/15\n",
            "44/44 [==============================] - 20s 451ms/step - loss: 0.3177 - accuracy: 0.8381 - val_loss: 0.5950 - val_accuracy: 0.7467\n",
            "Epoch 13/15\n",
            "44/44 [==============================] - 20s 449ms/step - loss: 0.2959 - accuracy: 0.8413 - val_loss: 0.5236 - val_accuracy: 0.7878\n",
            "Epoch 14/15\n",
            "44/44 [==============================] - 20s 451ms/step - loss: 0.2876 - accuracy: 0.8465 - val_loss: 0.5225 - val_accuracy: 0.7991\n",
            "Epoch 15/15\n",
            "44/44 [==============================] - 20s 457ms/step - loss: 0.2694 - accuracy: 0.8523 - val_loss: 0.4343 - val_accuracy: 0.8354\n"
          ]
        }
      ]
    },
    {
      "cell_type": "code",
      "source": [
        "# model_GRU_weighted.summary()\n",
        "# performance_report(model_GRU_weighted, \"Weighted GRU\", image_path, X_test_padding, y_test_encode)"
      ],
      "metadata": {
        "colab": {
          "base_uri": "https://localhost:8080/",
          "height": 794
        },
        "id": "Jrp2_w4QN2mB",
        "outputId": "131ee416-4011-4ec7-b00a-1c6805efafd9"
      },
      "execution_count": 32,
      "outputs": [
        {
          "output_type": "stream",
          "name": "stdout",
          "text": [
            "Model: \"sequential_3\"\n",
            "_________________________________________________________________\n",
            " Layer (type)                Output Shape              Param #   \n",
            "=================================================================\n",
            " embedding_3 (Embedding)     (None, 60, 300)           5344800   \n",
            "                                                                 \n",
            " spatial_dropout1d_3 (Spatia  (None, 60, 300)          0         \n",
            " lDropout1D)                                                     \n",
            "                                                                 \n",
            " bidirectional_3 (Bidirectio  (None, 600)              1083600   \n",
            " nal)                                                            \n",
            "                                                                 \n",
            " dense_6 (Dense)             (None, 300)               180300    \n",
            "                                                                 \n",
            " dropout_3 (Dropout)         (None, 300)               0         \n",
            "                                                                 \n",
            " dense_7 (Dense)             (None, 3)                 903       \n",
            "                                                                 \n",
            " activation_3 (Activation)   (None, 3)                 0         \n",
            "                                                                 \n",
            "=================================================================\n",
            "Total params: 6,609,603\n",
            "Trainable params: 1,264,803\n",
            "Non-trainable params: 5,344,800\n",
            "_________________________________________________________________\n",
            "78/78 [==============================] - 5s 53ms/step\n"
          ]
        },
        {
          "output_type": "execute_result",
          "data": {
            "text/plain": [
              "         Time    Model Name  Precision    Recall  F1 Score  Accuracy\n",
              "0  2022-12-11  Weighted GRU   0.681125  0.800923  0.716065  0.835418"
            ],
            "text/html": [
              "\n",
              "  <div id=\"df-2cdea6a6-f27c-44c6-8da2-dd133bc58e5d\">\n",
              "    <div class=\"colab-df-container\">\n",
              "      <div>\n",
              "<style scoped>\n",
              "    .dataframe tbody tr th:only-of-type {\n",
              "        vertical-align: middle;\n",
              "    }\n",
              "\n",
              "    .dataframe tbody tr th {\n",
              "        vertical-align: top;\n",
              "    }\n",
              "\n",
              "    .dataframe thead th {\n",
              "        text-align: right;\n",
              "    }\n",
              "</style>\n",
              "<table border=\"1\" class=\"dataframe\">\n",
              "  <thead>\n",
              "    <tr style=\"text-align: right;\">\n",
              "      <th></th>\n",
              "      <th>Time</th>\n",
              "      <th>Model Name</th>\n",
              "      <th>Precision</th>\n",
              "      <th>Recall</th>\n",
              "      <th>F1 Score</th>\n",
              "      <th>Accuracy</th>\n",
              "    </tr>\n",
              "  </thead>\n",
              "  <tbody>\n",
              "    <tr>\n",
              "      <th>0</th>\n",
              "      <td>2022-12-11</td>\n",
              "      <td>Weighted GRU</td>\n",
              "      <td>0.681125</td>\n",
              "      <td>0.800923</td>\n",
              "      <td>0.716065</td>\n",
              "      <td>0.835418</td>\n",
              "    </tr>\n",
              "  </tbody>\n",
              "</table>\n",
              "</div>\n",
              "      <button class=\"colab-df-convert\" onclick=\"convertToInteractive('df-2cdea6a6-f27c-44c6-8da2-dd133bc58e5d')\"\n",
              "              title=\"Convert this dataframe to an interactive table.\"\n",
              "              style=\"display:none;\">\n",
              "        \n",
              "  <svg xmlns=\"http://www.w3.org/2000/svg\" height=\"24px\"viewBox=\"0 0 24 24\"\n",
              "       width=\"24px\">\n",
              "    <path d=\"M0 0h24v24H0V0z\" fill=\"none\"/>\n",
              "    <path d=\"M18.56 5.44l.94 2.06.94-2.06 2.06-.94-2.06-.94-.94-2.06-.94 2.06-2.06.94zm-11 1L8.5 8.5l.94-2.06 2.06-.94-2.06-.94L8.5 2.5l-.94 2.06-2.06.94zm10 10l.94 2.06.94-2.06 2.06-.94-2.06-.94-.94-2.06-.94 2.06-2.06.94z\"/><path d=\"M17.41 7.96l-1.37-1.37c-.4-.4-.92-.59-1.43-.59-.52 0-1.04.2-1.43.59L10.3 9.45l-7.72 7.72c-.78.78-.78 2.05 0 2.83L4 21.41c.39.39.9.59 1.41.59.51 0 1.02-.2 1.41-.59l7.78-7.78 2.81-2.81c.8-.78.8-2.07 0-2.86zM5.41 20L4 18.59l7.72-7.72 1.47 1.35L5.41 20z\"/>\n",
              "  </svg>\n",
              "      </button>\n",
              "      \n",
              "  <style>\n",
              "    .colab-df-container {\n",
              "      display:flex;\n",
              "      flex-wrap:wrap;\n",
              "      gap: 12px;\n",
              "    }\n",
              "\n",
              "    .colab-df-convert {\n",
              "      background-color: #E8F0FE;\n",
              "      border: none;\n",
              "      border-radius: 50%;\n",
              "      cursor: pointer;\n",
              "      display: none;\n",
              "      fill: #1967D2;\n",
              "      height: 32px;\n",
              "      padding: 0 0 0 0;\n",
              "      width: 32px;\n",
              "    }\n",
              "\n",
              "    .colab-df-convert:hover {\n",
              "      background-color: #E2EBFA;\n",
              "      box-shadow: 0px 1px 2px rgba(60, 64, 67, 0.3), 0px 1px 3px 1px rgba(60, 64, 67, 0.15);\n",
              "      fill: #174EA6;\n",
              "    }\n",
              "\n",
              "    [theme=dark] .colab-df-convert {\n",
              "      background-color: #3B4455;\n",
              "      fill: #D2E3FC;\n",
              "    }\n",
              "\n",
              "    [theme=dark] .colab-df-convert:hover {\n",
              "      background-color: #434B5C;\n",
              "      box-shadow: 0px 1px 3px 1px rgba(0, 0, 0, 0.15);\n",
              "      filter: drop-shadow(0px 1px 2px rgba(0, 0, 0, 0.3));\n",
              "      fill: #FFFFFF;\n",
              "    }\n",
              "  </style>\n",
              "\n",
              "      <script>\n",
              "        const buttonEl =\n",
              "          document.querySelector('#df-2cdea6a6-f27c-44c6-8da2-dd133bc58e5d button.colab-df-convert');\n",
              "        buttonEl.style.display =\n",
              "          google.colab.kernel.accessAllowed ? 'block' : 'none';\n",
              "\n",
              "        async function convertToInteractive(key) {\n",
              "          const element = document.querySelector('#df-2cdea6a6-f27c-44c6-8da2-dd133bc58e5d');\n",
              "          const dataTable =\n",
              "            await google.colab.kernel.invokeFunction('convertToInteractive',\n",
              "                                                     [key], {});\n",
              "          if (!dataTable) return;\n",
              "\n",
              "          const docLinkHtml = 'Like what you see? Visit the ' +\n",
              "            '<a target=\"_blank\" href=https://colab.research.google.com/notebooks/data_table.ipynb>data table notebook</a>'\n",
              "            + ' to learn more about interactive tables.';\n",
              "          element.innerHTML = '';\n",
              "          dataTable['output_type'] = 'display_data';\n",
              "          await google.colab.output.renderOutput(dataTable, element);\n",
              "          const docLink = document.createElement('div');\n",
              "          docLink.innerHTML = docLinkHtml;\n",
              "          element.appendChild(docLink);\n",
              "        }\n",
              "      </script>\n",
              "    </div>\n",
              "  </div>\n",
              "  "
            ]
          },
          "metadata": {},
          "execution_count": 32
        },
        {
          "output_type": "display_data",
          "data": {
            "text/plain": [
              "<Figure size 432x288 with 2 Axes>"
            ],
            "image/png": "[encoded data removed]"
          },
          "metadata": {
            "needs_background": "light"
          }
        }
      ]
    },
    {
      "cell_type": "code",
      "source": [
        "# # Accuracy and loss of weighted GRU model\n",
        "# performance_history(history_GRU_weighted, \"Weighted GRU\", image_path, 'accuracy')\n",
        "# performance_history(history_GRU_weighted, \"Weighted GRU\", image_path, 'loss')"
      ],
      "metadata": {
        "id": "xjP6yuQtN_Mg",
        "colab": {
          "base_uri": "https://localhost:8080/",
          "height": 573
        },
        "outputId": "5b42fd20-ece3-4410-ddef-f3098b5ac2fe"
      },
      "execution_count": 33,
      "outputs": [
        {
          "output_type": "display_data",
          "data": {
            "text/plain": [
              "<Figure size 432x288 with 1 Axes>"
            ],
            "image/png": "[encoded data removed]"
          },
          "metadata": {
            "needs_background": "light"
          }
        },
        {
          "output_type": "display_data",
          "data": {
            "text/plain": [
              "<Figure size 432x288 with 1 Axes>"
            ],
            "image/png": "[encoded data removed]"
          },
          "metadata": {
            "needs_background": "light"
          }
        }
      ]
    },
    {
      "cell_type": "code",
      "execution_count": 42,
      "metadata": {
        "id": "Ba9OdfC9EbfU",
        "colab": {
          "base_uri": "https://localhost:8080/"
        },
        "outputId": "e9e9cdb0-a666-432c-ee87-2022f5572635"
      },
      "outputs": [
        {
          "output_type": "stream",
          "name": "stderr",
          "text": [
            "WARNING:tensorflow:Layer lstm_1 will not use cuDNN kernels since it doesn't meet the criteria. It will use a generic GPU kernel as fallback when running on GPU.\n",
            "WARNING:tensorflow:Layer lstm_1 will not use cuDNN kernels since it doesn't meet the criteria. It will use a generic GPU kernel as fallback when running on GPU.\n",
            "WARNING:tensorflow:Layer lstm_1 will not use cuDNN kernels since it doesn't meet the criteria. It will use a generic GPU kernel as fallback when running on GPU.\n"
          ]
        },
        {
          "output_type": "stream",
          "name": "stdout",
          "text": [
            "Epoch 1/15\n",
            "44/44 [==============================] - 28s 508ms/step - loss: 0.7110 - accuracy: 0.7434 - val_loss: 0.5634 - val_accuracy: 0.7737\n",
            "Epoch 2/15\n",
            "44/44 [==============================] - 22s 491ms/step - loss: 0.5528 - accuracy: 0.7921 - val_loss: 0.6657 - val_accuracy: 0.7200\n",
            "Epoch 3/15\n",
            "44/44 [==============================] - 26s 590ms/step - loss: 0.5211 - accuracy: 0.7939 - val_loss: 0.5019 - val_accuracy: 0.8108\n",
            "Epoch 4/15\n",
            "44/44 [==============================] - 22s 498ms/step - loss: 0.4906 - accuracy: 0.7966 - val_loss: 0.4173 - val_accuracy: 0.8479\n",
            "Epoch 5/15\n",
            "44/44 [==============================] - 22s 503ms/step - loss: 0.4630 - accuracy: 0.8042 - val_loss: 0.5505 - val_accuracy: 0.7652\n",
            "Epoch 6/15\n",
            "44/44 [==============================] - 22s 491ms/step - loss: 0.4349 - accuracy: 0.8026 - val_loss: 0.4350 - val_accuracy: 0.8136\n",
            "Epoch 7/15\n",
            "44/44 [==============================] - 22s 495ms/step - loss: 0.4095 - accuracy: 0.8121 - val_loss: 0.4764 - val_accuracy: 0.7991\n",
            "Epoch 8/15\n",
            "44/44 [==============================] - 23s 535ms/step - loss: 0.3919 - accuracy: 0.8080 - val_loss: 0.5012 - val_accuracy: 0.8157\n",
            "Epoch 9/15\n",
            "44/44 [==============================] - 22s 506ms/step - loss: 0.3631 - accuracy: 0.8219 - val_loss: 0.5176 - val_accuracy: 0.7858\n",
            "Epoch 10/15\n",
            "44/44 [==============================] - 22s 495ms/step - loss: 0.3340 - accuracy: 0.8275 - val_loss: 0.4683 - val_accuracy: 0.8169\n",
            "Epoch 11/15\n",
            "44/44 [==============================] - 22s 494ms/step - loss: 0.3223 - accuracy: 0.8287 - val_loss: 0.4607 - val_accuracy: 0.8165\n",
            "Epoch 12/15\n",
            "44/44 [==============================] - 22s 498ms/step - loss: 0.2896 - accuracy: 0.8409 - val_loss: 0.4879 - val_accuracy: 0.8157\n",
            "Epoch 13/15\n",
            "44/44 [==============================] - 22s 489ms/step - loss: 0.2732 - accuracy: 0.8502 - val_loss: 0.5050 - val_accuracy: 0.8056\n",
            "Epoch 14/15\n",
            "44/44 [==============================] - 22s 497ms/step - loss: 0.2389 - accuracy: 0.8639 - val_loss: 0.4890 - val_accuracy: 0.8225\n",
            "Epoch 15/15\n",
            "44/44 [==============================] - 23s 531ms/step - loss: 0.2262 - accuracy: 0.8653 - val_loss: 0.4699 - val_accuracy: 0.8322\n"
          ]
        }
      ],
      "source": [
        "# Train the model\n",
        "model_lstm_weighted = build_LSTM_model()\n",
        "history_lstm_weighted = model_lstm_weighted.fit(X_train_padding, y=y_train_encode, batch_size=512, epochs=15, verbose=1, validation_data=(X_test_padding, y_test_encode), class_weight = class_weights)"
      ]
    },
    {
      "cell_type": "code",
      "execution_count": 43,
      "metadata": {
        "id": "UjYxHy5wEfSx",
        "colab": {
          "base_uri": "https://localhost:8080/",
          "height": 794
        },
        "outputId": "51c760df-508e-4a50-8d1f-89ae6d169a5a"
      },
      "outputs": [
        {
          "output_type": "stream",
          "name": "stdout",
          "text": [
            "Model: \"sequential_4\"\n",
            "_________________________________________________________________\n",
            " Layer (type)                Output Shape              Param #   \n",
            "=================================================================\n",
            " embedding_4 (Embedding)     (None, 60, 300)           5344800   \n",
            "                                                                 \n",
            " spatial_dropout1d_4 (Spatia  (None, 60, 300)          0         \n",
            " lDropout1D)                                                     \n",
            "                                                                 \n",
            " bidirectional_4 (Bidirectio  (None, 600)              1442400   \n",
            " nal)                                                            \n",
            "                                                                 \n",
            " dense_8 (Dense)             (None, 300)               180300    \n",
            "                                                                 \n",
            " dropout_4 (Dropout)         (None, 300)               0         \n",
            "                                                                 \n",
            " dense_9 (Dense)             (None, 3)                 903       \n",
            "                                                                 \n",
            " activation_4 (Activation)   (None, 3)                 0         \n",
            "                                                                 \n",
            "=================================================================\n",
            "Total params: 6,968,403\n",
            "Trainable params: 1,623,603\n",
            "Non-trainable params: 5,344,800\n",
            "_________________________________________________________________\n",
            "78/78 [==============================] - 4s 48ms/step\n"
          ]
        },
        {
          "output_type": "execute_result",
          "data": {
            "text/plain": [
              "         Time     Model Name  Precision    Recall  F1 Score  Accuracy\n",
              "0  2022-12-11  Weighted LSTM   0.671039  0.785301  0.706374   0.83219"
            ],
            "text/html": [
              "\n",
              "  <div id=\"df-1f613385-e88c-42df-95a9-75e6fba4db27\">\n",
              "    <div class=\"colab-df-container\">\n",
              "      <div>\n",
              "<style scoped>\n",
              "    .dataframe tbody tr th:only-of-type {\n",
              "        vertical-align: middle;\n",
              "    }\n",
              "\n",
              "    .dataframe tbody tr th {\n",
              "        vertical-align: top;\n",
              "    }\n",
              "\n",
              "    .dataframe thead th {\n",
              "        text-align: right;\n",
              "    }\n",
              "</style>\n",
              "<table border=\"1\" class=\"dataframe\">\n",
              "  <thead>\n",
              "    <tr style=\"text-align: right;\">\n",
              "      <th></th>\n",
              "      <th>Time</th>\n",
              "      <th>Model Name</th>\n",
              "      <th>Precision</th>\n",
              "      <th>Recall</th>\n",
              "      <th>F1 Score</th>\n",
              "      <th>Accuracy</th>\n",
              "    </tr>\n",
              "  </thead>\n",
              "  <tbody>\n",
              "    <tr>\n",
              "      <th>0</th>\n",
              "      <td>2022-12-11</td>\n",
              "      <td>Weighted LSTM</td>\n",
              "      <td>0.671039</td>\n",
              "      <td>0.785301</td>\n",
              "      <td>0.706374</td>\n",
              "      <td>0.83219</td>\n",
              "    </tr>\n",
              "  </tbody>\n",
              "</table>\n",
              "</div>\n",
              "      <button class=\"colab-df-convert\" onclick=\"convertToInteractive('df-1f613385-e88c-42df-95a9-75e6fba4db27')\"\n",
              "              title=\"Convert this dataframe to an interactive table.\"\n",
              "              style=\"display:none;\">\n",
              "        \n",
              "  <svg xmlns=\"http://www.w3.org/2000/svg\" height=\"24px\"viewBox=\"0 0 24 24\"\n",
              "       width=\"24px\">\n",
              "    <path d=\"M0 0h24v24H0V0z\" fill=\"none\"/>\n",
              "    <path d=\"M18.56 5.44l.94 2.06.94-2.06 2.06-.94-2.06-.94-.94-2.06-.94 2.06-2.06.94zm-11 1L8.5 8.5l.94-2.06 2.06-.94-2.06-.94L8.5 2.5l-.94 2.06-2.06.94zm10 10l.94 2.06.94-2.06 2.06-.94-2.06-.94-.94-2.06-.94 2.06-2.06.94z\"/><path d=\"M17.41 7.96l-1.37-1.37c-.4-.4-.92-.59-1.43-.59-.52 0-1.04.2-1.43.59L10.3 9.45l-7.72 7.72c-.78.78-.78 2.05 0 2.83L4 21.41c.39.39.9.59 1.41.59.51 0 1.02-.2 1.41-.59l7.78-7.78 2.81-2.81c.8-.78.8-2.07 0-2.86zM5.41 20L4 18.59l7.72-7.72 1.47 1.35L5.41 20z\"/>\n",
              "  </svg>\n",
              "      </button>\n",
              "      \n",
              "  <style>\n",
              "    .colab-df-container {\n",
              "      display:flex;\n",
              "      flex-wrap:wrap;\n",
              "      gap: 12px;\n",
              "    }\n",
              "\n",
              "    .colab-df-convert {\n",
              "      background-color: #E8F0FE;\n",
              "      border: none;\n",
              "      border-radius: 50%;\n",
              "      cursor: pointer;\n",
              "      display: none;\n",
              "      fill: #1967D2;\n",
              "      height: 32px;\n",
              "      padding: 0 0 0 0;\n",
              "      width: 32px;\n",
              "    }\n",
              "\n",
              "    .colab-df-convert:hover {\n",
              "      background-color: #E2EBFA;\n",
              "      box-shadow: 0px 1px 2px rgba(60, 64, 67, 0.3), 0px 1px 3px 1px rgba(60, 64, 67, 0.15);\n",
              "      fill: #174EA6;\n",
              "    }\n",
              "\n",
              "    [theme=dark] .colab-df-convert {\n",
              "      background-color: #3B4455;\n",
              "      fill: #D2E3FC;\n",
              "    }\n",
              "\n",
              "    [theme=dark] .colab-df-convert:hover {\n",
              "      background-color: #434B5C;\n",
              "      box-shadow: 0px 1px 3px 1px rgba(0, 0, 0, 0.15);\n",
              "      filter: drop-shadow(0px 1px 2px rgba(0, 0, 0, 0.3));\n",
              "      fill: #FFFFFF;\n",
              "    }\n",
              "  </style>\n",
              "\n",
              "      <script>\n",
              "        const buttonEl =\n",
              "          document.querySelector('#df-1f613385-e88c-42df-95a9-75e6fba4db27 button.colab-df-convert');\n",
              "        buttonEl.style.display =\n",
              "          google.colab.kernel.accessAllowed ? 'block' : 'none';\n",
              "\n",
              "        async function convertToInteractive(key) {\n",
              "          const element = document.querySelector('#df-1f613385-e88c-42df-95a9-75e6fba4db27');\n",
              "          const dataTable =\n",
              "            await google.colab.kernel.invokeFunction('convertToInteractive',\n",
              "                                                     [key], {});\n",
              "          if (!dataTable) return;\n",
              "\n",
              "          const docLinkHtml = 'Like what you see? Visit the ' +\n",
              "            '<a target=\"_blank\" href=https://colab.research.google.com/notebooks/data_table.ipynb>data table notebook</a>'\n",
              "            + ' to learn more about interactive tables.';\n",
              "          element.innerHTML = '';\n",
              "          dataTable['output_type'] = 'display_data';\n",
              "          await google.colab.output.renderOutput(dataTable, element);\n",
              "          const docLink = document.createElement('div');\n",
              "          docLink.innerHTML = docLinkHtml;\n",
              "          element.appendChild(docLink);\n",
              "        }\n",
              "      </script>\n",
              "    </div>\n",
              "  </div>\n",
              "  "
            ]
          },
          "metadata": {},
          "execution_count": 43
        },
        {
          "output_type": "display_data",
          "data": {
            "text/plain": [
              "<Figure size 432x288 with 2 Axes>"
            ],
            "image/png": "[encoded data removed]"
          },
          "metadata": {
            "needs_background": "light"
          }
        }
      ],
      "source": [
        "model_lstm_weighted.summary()\n",
        "performance_report(model_lstm_weighted, \"Weighted LSTM\", image_path, X_test_padding, y_test_encode)"
      ]
    },
    {
      "cell_type": "code",
      "execution_count": 44,
      "metadata": {
        "id": "O8XyeCSUUeoz",
        "colab": {
          "base_uri": "https://localhost:8080/",
          "height": 573
        },
        "outputId": "af6a590d-b404-44de-ecd2-f31d207776d7"
      },
      "outputs": [
        {
          "output_type": "display_data",
          "data": {
            "text/plain": [
              "<Figure size 432x288 with 1 Axes>"
            ],
            "image/png": "[encoded data removed]"
          },
          "metadata": {
            "needs_background": "light"
          }
        },
        {
          "output_type": "display_data",
          "data": {
            "text/plain": [
              "<Figure size 432x288 with 1 Axes>"
            ],
            "image/png": "[encoded data removed]"
          },
          "metadata": {
            "needs_background": "light"
          }
        }
      ],
      "source": [
        "# Accuracy and loss of weighted LSTM model\n",
        "performance_history(history_lstm_weighted, \"Weighted LSTM\", image_path, 'accuracy')\n",
        "performance_history(history_lstm_weighted, \"Weighted LSTM\", image_path, 'loss')"
      ]
    },
    {
      "cell_type": "markdown",
      "metadata": {
        "id": "CVm4ojctUgne"
      },
      "source": [
        "### 6.3 Save the models"
      ]
    },
    {
      "cell_type": "code",
      "execution_count": 57,
      "metadata": {
        "id": "7ABHLE6MGmPe"
      },
      "outputs": [],
      "source": [
        "def save_model(model, model_name, model_path):\n",
        "    model.save(model_path + model_name)"
      ]
    },
    {
      "cell_type": "code",
      "execution_count": 58,
      "metadata": {
        "id": "l9bYVxDtGn1o"
      },
      "outputs": [],
      "source": [
        "save_model(model_rnn, \"Simple_RNN_Model\", model_path)\n",
        "save_model(model_lstm, \"LSTM_Model\", model_path)\n",
        "save_model(model_gru, \"GRU_Model\", model_path)\n",
        "save_model(model_lstm_weighted, \"Weighted_LSTM_Model\", model_path)"
      ]
    },
    {
      "cell_type": "markdown",
      "metadata": {
        "id": "SJ8XmF5XUz2u"
      },
      "source": [
        "# **7. Test the model on new data**"
      ]
    },
    {
      "cell_type": "markdown",
      "metadata": {
        "id": "peUPiTQEVAZK"
      },
      "source": [
        "### 7.1 Load the models"
      ]
    },
    {
      "cell_type": "code",
      "execution_count": 59,
      "metadata": {
        "id": "_5m6wuozUs5D",
        "colab": {
          "base_uri": "https://localhost:8080/"
        },
        "outputId": "abe1d3ea-8c05-4b4d-ea6e-b7ebf927d718"
      },
      "outputs": [
        {
          "output_type": "stream",
          "name": "stderr",
          "text": [
            "WARNING:tensorflow:Layer lstm_1 will not use cuDNN kernels since it doesn't meet the criteria. It will use a generic GPU kernel as fallback when running on GPU.\n",
            "WARNING:tensorflow:Layer lstm_1 will not use cuDNN kernels since it doesn't meet the criteria. It will use a generic GPU kernel as fallback when running on GPU.\n",
            "WARNING:tensorflow:Layer lstm_1 will not use cuDNN kernels since it doesn't meet the criteria. It will use a generic GPU kernel as fallback when running on GPU.\n",
            "WARNING:tensorflow:Layer lstm will not use cuDNN kernels since it doesn't meet the criteria. It will use a generic GPU kernel as fallback when running on GPU.\n",
            "WARNING:tensorflow:Layer lstm will not use cuDNN kernels since it doesn't meet the criteria. It will use a generic GPU kernel as fallback when running on GPU.\n",
            "WARNING:tensorflow:Layer lstm will not use cuDNN kernels since it doesn't meet the criteria. It will use a generic GPU kernel as fallback when running on GPU.\n"
          ]
        }
      ],
      "source": [
        "from tensorflow.keras.models import load_model\n",
        "weighted_LSTM_model = load_model('/content/drive/MyDrive/L645/project/paragram/Weighted_LSTM_Model')\n",
        "lstm_model = load_model('/content/drive/MyDrive/L645/project/paragram/LSTM_Model')"
      ]
    },
    {
      "cell_type": "markdown",
      "metadata": {
        "id": "_ixGk5_FVLAr"
      },
      "source": [
        "### 7.2 Prepare the data"
      ]
    },
    {
      "cell_type": "code",
      "execution_count": 60,
      "metadata": {
        "id": "iR3whkTGUs1q",
        "colab": {
          "base_uri": "https://localhost:8080/"
        },
        "outputId": "acf296c8-7c56-4eab-cb43-9cb29c12af55"
      },
      "outputs": [
        {
          "name": "stdout",
          "output_type": "stream",
          "text": [
            "This movie is a piece of shit\n"
          ]
        }
      ],
      "source": [
        "# Tweet to predict\n",
        "tweet = input()\n",
        "\n",
        "# Convert into dataframe\n",
        "test_data = pd.DataFrame(columns=['tweet'])\n",
        "test_data.loc[0, 'tweet'] = tweet\n",
        "\n",
        "# Replace contractions from tweets\n",
        "test_data[\"tweet\"] = test_data.tweet.apply(replace_contraction)\n",
        "\n",
        "# Clean the tweets\n",
        "test_data[\"tweet\"] = test_data.tweet.apply(clean_tweets)\n",
        "\n",
        "# Remove stop words\n",
        "test_data['tweet'] = test_data.tweet.apply(remove_stop_words)\n",
        "\n",
        "# Lemmatize\n",
        "test_data['tweet'] = list(map(lemmatize_tweets, test_data['tweet']))\n",
        "\n",
        "# Text to sequences\n",
        "test_data_sequence = tokenizer.texts_to_sequences(test_data['tweet'])\n",
        "\n",
        "# Padding\n",
        "test_data_padding = pad_sequences(test_data_sequence, maxlen = MAX_LENGTH, padding = 'post', truncating = 'post')"
      ]
    },
    {
      "cell_type": "markdown",
      "metadata": {
        "id": "G62y33yDVfg4"
      },
      "source": [
        "### 7.3 Predict"
      ]
    },
    {
      "cell_type": "code",
      "execution_count": 61,
      "metadata": {
        "id": "9lqelq2nU9Xw",
        "colab": {
          "base_uri": "https://localhost:8080/"
        },
        "outputId": "a323b41a-9549-4275-c945-b067d618daa9"
      },
      "outputs": [
        {
          "output_type": "stream",
          "name": "stdout",
          "text": [
            "1/1 [==============================] - 2s 2s/step\n",
            "Offensive Language\n"
          ]
        },
        {
          "output_type": "stream",
          "name": "stderr",
          "text": [
            "WARNING:tensorflow:5 out of the last 83 calls to <function Model.make_predict_function.<locals>.predict_function at 0x7f62cd328550> triggered tf.function retracing. Tracing is expensive and the excessive number of tracings could be due to (1) creating @tf.function repeatedly in a loop, (2) passing tensors with different shapes, (3) passing Python objects instead of tensors. For (1), please define your @tf.function outside of the loop. For (2), @tf.function has reduce_retracing=True option that can avoid unnecessary retracing. For (3), please refer to https://www.tensorflow.org/guide/function#controlling_retracing and https://www.tensorflow.org/api_docs/python/tf/function for  more details.\n"
          ]
        },
        {
          "output_type": "stream",
          "name": "stdout",
          "text": [
            "1/1 [==============================] - 0s 465ms/step\n",
            "Offensive Language\n"
          ]
        }
      ],
      "source": [
        "# This function predicts the class of a provided tweet\n",
        "def predict_tweet(model, data):\n",
        "    predictions = model.predict(data)\n",
        "    prediction = np.argmax(predictions, axis = 1)\n",
        "    if prediction == 0:\n",
        "        print(\"Hate Speech\")\n",
        "    elif prediction == 1:\n",
        "        print(\"Offensive Language\")\n",
        "    else:\n",
        "        print(\"Neither\")\n",
        "        \n",
        "# Predict class of a tweet\n",
        "\n",
        "# Prediction using unweighted lstm model\n",
        "predict_tweet(lstm_model, test_data_padding)\n",
        "\n",
        "# Prediction using weighted lstm model\n",
        "predict_tweet(weighted_LSTM_model, test_data_padding)"
      ]
    }
  ],
  "metadata": {
    "accelerator": "GPU",
    "colab": {
      "collapsed_sections": [
        "tXkEC8zyKGwl",
        "LCAZUmjTL9wM"
      ],
      "provenance": []
    },
    "gpuClass": "standard",
    "kernelspec": {
      "display_name": "Python 3",
      "name": "python3"
    },
    "language_info": {
      "name": "python"
    }
  },
  "nbformat": 4,
  "nbformat_minor": 0
}