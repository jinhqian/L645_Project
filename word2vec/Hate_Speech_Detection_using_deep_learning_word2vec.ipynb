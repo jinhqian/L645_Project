{
  "cells": [
    {
      "cell_type": "markdown",
      "metadata": {
        "id": "view-in-github",
        "colab_type": "text"
      },
      "source": [
        "<a href=\"https://colab.research.google.com/github/jinhqian/L645_project/blob/main/word2vec/Hate_Speech_Detection_using_deep_learning_word2vec.ipynb\" target=\"_parent\"><img src=\"https://colab.research.google.com/assets/colab-badge.svg\" alt=\"Open In Colab\"/></a>"
      ]
    },
    {
      "cell_type": "markdown",
      "metadata": {
        "id": "ZgwdyVxvQXHP"
      },
      "source": [
        "# **1. Dataset**"
      ]
    },
    {
      "cell_type": "markdown",
      "metadata": {
        "id": "JkHSVdYmWc6m"
      },
      "source": [
        "### 1.1 Load the dataset"
      ]
    },
    {
      "cell_type": "code",
      "execution_count": null,
      "metadata": {
        "id": "9Qh99FEcuqSe"
      },
      "outputs": [],
      "source": [
        "# load the data\n",
        "import pandas as pd\n",
        "dataset = pd.read_csv(\"/content/drive/MyDrive/L645/data/labeled_data.csv\")"
      ]
    },
    {
      "cell_type": "markdown",
      "metadata": {
        "id": "dAuaXQ6-Wgq4"
      },
      "source": [
        "### 1.2 Data analysis"
      ]
    },
    {
      "cell_type": "code",
      "execution_count": null,
      "metadata": {
        "colab": {
          "base_uri": "https://localhost:8080/"
        },
        "id": "tx22FcqauqNF",
        "outputId": "a3e38f66-a351-4cf1-9747-17b9ac8ce3a9"
      },
      "outputs": [
        {
          "output_type": "stream",
          "name": "stdout",
          "text": [
            "1430\n",
            "19190\n",
            "4163\n"
          ]
        },
        {
          "output_type": "execute_result",
          "data": {
            "text/plain": [
              "Index                 0\n",
              "count                 0\n",
              "hate_speech           0\n",
              "offensive_language    0\n",
              "neither               0\n",
              "class                 0\n",
              "tweet                 0\n",
              "dtype: int64"
            ]
          },
          "metadata": {},
          "execution_count": 2
        }
      ],
      "source": [
        "# Number of tweets that are annotated as hate-speech\n",
        "print(sum(dataset['class'] == 0))\n",
        "\n",
        "# Number of tweets that are annotated as offensive language\n",
        "print(sum(dataset['class'] == 1))\n",
        "\n",
        "# Number of tweets that are annotated as neither hate-speech nor offensive\n",
        "print(sum(dataset['class'] == 2))\n",
        "\n",
        "# # Check if there are any null values in the dataset\n",
        "dataset.isna().sum()"
      ]
    },
    {
      "cell_type": "markdown",
      "metadata": {
        "id": "ObYUyRn-Wfsd"
      },
      "source": []
    },
    {
      "cell_type": "markdown",
      "metadata": {
        "id": "pgG9svUUWmL_"
      },
      "source": [
        "### 1.3 Data visualization"
      ]
    },
    {
      "cell_type": "code",
      "execution_count": null,
      "metadata": {
        "colab": {
          "base_uri": "https://localhost:8080/",
          "height": 299
        },
        "id": "K49Kk5kdyQb9",
        "outputId": "3e3730fd-3e4f-4253-af27-a6a69219bb48"
      },
      "outputs": [
        {
          "output_type": "execute_result",
          "data": {
            "text/plain": [
              "<matplotlib.axes._subplots.AxesSubplot at 0x7f32935f6c10>"
            ]
          },
          "metadata": {},
          "execution_count": 3
        },
        {
          "output_type": "display_data",
          "data": {
            "text/plain": [
              "<Figure size 432x288 with 1 Axes>"
            ],
            "image/png": "[encoded data removed]"
          },
          "metadata": {
            "needs_background": "light"
          }
        }
      ],
      "source": [
        "# 0 for hate speech\n",
        "# 1 for offensive language\n",
        "# 2 for neither hate-speech nor offensive\n",
        "\n",
        "import seaborn as sns\n",
        "sns.countplot(x = 'class', data = dataset)"
      ]
    },
    {
      "cell_type": "markdown",
      "metadata": {
        "id": "Cw4ztbU0yghl"
      },
      "source": [
        "# **2. Data preprocessing**"
      ]
    },
    {
      "cell_type": "markdown",
      "metadata": {
        "id": "DYEVMqkHVwnr"
      },
      "source": [
        "### 2.1 Data cleaning"
      ]
    },
    {
      "cell_type": "code",
      "execution_count": null,
      "metadata": {
        "id": "Xp50as5BchzC",
        "colab": {
          "base_uri": "https://localhost:8080/"
        },
        "outputId": "e854ea54-7f00-48f9-bc1d-c3cb14a99659"
      },
      "outputs": [
        {
          "output_type": "stream",
          "name": "stderr",
          "text": [
            "[nltk_data] Downloading package stopwords to /root/nltk_data...\n",
            "[nltk_data]   Package stopwords is already up-to-date!\n",
            "[nltk_data] Downloading package punkt to /root/nltk_data...\n",
            "[nltk_data]   Package punkt is already up-to-date!\n"
          ]
        },
        {
          "output_type": "execute_result",
          "data": {
            "text/plain": [
              "True"
            ]
          },
          "metadata": {},
          "execution_count": 4
        }
      ],
      "source": [
        "import nltk, re\n",
        "from nltk.tokenize import word_tokenize\n",
        "from nltk.corpus import stopwords\n",
        "from collections import Counter\n",
        "nltk.download('stopwords')\n",
        "nltk.download('punkt')"
      ]
    },
    {
      "cell_type": "code",
      "execution_count": null,
      "metadata": {
        "id": "bpIwDHuyygT7",
        "colab": {
          "base_uri": "https://localhost:8080/"
        },
        "outputId": "ed8f78da-6a74-4cc7-dd6a-f55ea9b901b1"
      },
      "outputs": [
        {
          "output_type": "stream",
          "name": "stdout",
          "text": [
            "0        atusername woman complain cleaning house andam...\n",
            "1        atusername boy dats cold tyga dwn bad cuffin d...\n",
            "2        atusername dawg atusername ever fuck bitch sta...\n",
            "3                   atusername atusername look like tranny\n",
            "4        atusername shit hear might true might faker bi...\n",
            "                               ...                        \n",
            "24778    muthaf lie atusername atusername right tl tras...\n",
            "24779      gone broke wrong heart baby drove redneck crazy\n",
            "24780    young buck wan na eat dat nigguh like aint fuc...\n",
            "24781                    youu got wild bitches tellin lies\n",
            "24782    ruffled ntac eileen dahlia beautiful color com...\n",
            "Name: tweet, Length: 24783, dtype: object\n"
          ]
        }
      ],
      "source": [
        "stop_words = stopwords.words('english')\n",
        "stop_words_dict = Counter(stop_words)\n",
        "contract_patterns = [(r'won\\'t', 'will not'), (r'can\\'t', 'cannot'), (r'i\\'m', 'i am'), (r'ain\\'t', 'be not'), (r'(\\w+)\\'ll', '\\g<1> will'), (r'(\\w+)n\\'t', '\\g<1> not'),\n",
        "                        (r'(\\w+)\\'ve', '\\g<1> have'), (r'(\\w+)\\'s', '\\g<1> is'), (r'(\\w+)\\'re', '\\g<1> are'), (r'(\\w+)\\'d', '\\g<1> would'), (r'&', 'and'), (r'dammit', 'damn it')]\n",
        "\n",
        "# Replace contractions from tweets\n",
        "def replace_contraction(text):\n",
        "    patterns = [(re.compile(regex), rpl) for (regex, rpl) in contract_patterns]\n",
        "    for (pattern, rpl) in patterns:\n",
        "        (text, count) = re.subn(pattern, rpl, text)\n",
        "    return text\n",
        "\n",
        "# Clean the tweets by removing and replacing the unrequired characters\n",
        "def clean_tweets(tweet):\n",
        "    tweet = re.sub(r' RT ', ' ', tweet) # Remove RT\n",
        "    tweet = re.sub(r'http\\S+', 'url', tweet) # Replaces url address with \"url\"\n",
        "    tweet = re.sub(r'@[^\\s]+','atusername',tweet) # Replaces \"@user\" with \"atusername\"\n",
        "    tweet = re.sub(r'#[^\\s]+', ' ', tweet) # Removes hastag in front of a word \n",
        "    tweet = re.sub(r'[^\\w\\s]', ' ', tweet) # Remove everything except characters and whitespace\n",
        "    tweet = re.sub(r'[^a-zA-Z] ', ' ', tweet) # Remove numbers\n",
        "    tweet = re.sub(r'\\s\\s+', ' ', tweet) # Remove multiple spaces\n",
        "    tweet = tweet.lower() # Convert each character to lower case and remove spaces around them\n",
        "    return tweet\n",
        "\n",
        "# Removes stop words\n",
        "def remove_stop_words(tweet):\n",
        "    tokens = word_tokenize(tweet)\n",
        "    tokens = [word for word in tokens if word not in stop_words_dict]\n",
        "    return ' '.join(tokens)\n",
        "\n",
        "# Replace contractions in the tweets\n",
        "dataset[\"tweet\"] = dataset.tweet.apply(replace_contraction)\n",
        "\n",
        "# Clean the tweets\n",
        "dataset[\"tweet\"] = dataset.tweet.apply(clean_tweets)\n",
        "\n",
        "# Remove stop words in the tweets\n",
        "dataset['tweet'] = dataset.tweet.apply(remove_stop_words)\n",
        "\n",
        "print(dataset['tweet'])"
      ]
    },
    {
      "cell_type": "markdown",
      "metadata": {
        "id": "7tQJNKk7WAzP"
      },
      "source": [
        "### 2.2 Lemmatization or Stemming"
      ]
    },
    {
      "cell_type": "code",
      "execution_count": null,
      "metadata": {
        "id": "tFVOB3WHrzzL",
        "colab": {
          "base_uri": "https://localhost:8080/"
        },
        "outputId": "5faf6827-5547-443a-aeb7-6b48c2cd91f1"
      },
      "outputs": [
        {
          "output_type": "stream",
          "name": "stderr",
          "text": [
            "[nltk_data] Downloading package wordnet to /root/nltk_data...\n",
            "[nltk_data]   Package wordnet is already up-to-date!\n",
            "[nltk_data] Downloading package omw-1.4 to /root/nltk_data...\n",
            "[nltk_data]   Package omw-1.4 is already up-to-date!\n"
          ]
        },
        {
          "output_type": "execute_result",
          "data": {
            "text/plain": [
              "True"
            ]
          },
          "metadata": {},
          "execution_count": 6
        }
      ],
      "source": [
        "from nltk.stem import WordNetLemmatizer, PorterStemmer\n",
        "nltk.download('wordnet')\n",
        "nltk.download('omw-1.4')"
      ]
    },
    {
      "cell_type": "code",
      "execution_count": null,
      "metadata": {
        "id": "wlW_bd-dyaKv",
        "colab": {
          "base_uri": "https://localhost:8080/"
        },
        "outputId": "73af514f-05c7-4d9b-d100-b0b68a1a3db2"
      },
      "outputs": [
        {
          "output_type": "execute_result",
          "data": {
            "text/plain": [
              "0        atusername woman complain cleaning house andam...\n",
              "1        atusername boy dat cold tyga dwn bad cuffin da...\n",
              "2        atusername dawg atusername ever fuck bitch sta...\n",
              "3                   atusername atusername look like tranny\n",
              "4        atusername shit hear might true might faker bi...\n",
              "                               ...                        \n",
              "24778    muthaf lie atusername atusername right tl tras...\n",
              "24779      gone broke wrong heart baby drove redneck crazy\n",
              "24780    young buck wan na eat dat nigguh like aint fuc...\n",
              "24781                       youu got wild bitch tellin lie\n",
              "24782    ruffled ntac eileen dahlia beautiful color com...\n",
              "Name: tweet, Length: 24783, dtype: object"
            ]
          },
          "metadata": {},
          "execution_count": 7
        }
      ],
      "source": [
        "# Lemmatization\n",
        "def lemmatize_tweets(tweet):\n",
        "    tokens = word_tokenize(tweet)\n",
        "    lemmatizer = nltk.WordNetLemmatizer()\n",
        "    tokens = [lemmatizer.lemmatize(word) for word in tokens]\n",
        "    return ' '.join(tokens)\n",
        "\n",
        "# Stemming\n",
        "def stemming_tweets(tweet):\n",
        "    tokens = word_tokenize(tweet)\n",
        "    ps = PorterStemmer()\n",
        "    tokens = [ps.stem(word) for word in tokens]\n",
        "    return ' '.join(tokens)\n",
        "\n",
        "# Create word representation\n",
        "def word_representation(dataset, type = 'lemmatization'):\n",
        "    if type == 'lemmatization':\n",
        "        dataset['tweet'] = list(map(lemmatize_tweets, dataset['tweet']))\n",
        "    else:\n",
        "        dataset['tweet'] = list(map(stemming_tweets, dataset['tweet']))\n",
        "    return dataset\n",
        "\n",
        "dataset = word_representation(dataset)\n",
        "dataset[\"tweet\"]"
      ]
    },
    {
      "cell_type": "markdown",
      "metadata": {
        "id": "tXTJ1i9YI2En"
      },
      "source": [
        "# **3. Sequence Data Transformation**"
      ]
    },
    {
      "cell_type": "markdown",
      "metadata": {
        "id": "CaIfbVe3J1LZ"
      },
      "source": [
        "### 3.1 Spliting the dataset into train and test set"
      ]
    },
    {
      "cell_type": "code",
      "execution_count": null,
      "metadata": {
        "id": "htzxhfth1f_N"
      },
      "outputs": [],
      "source": [
        "# Split the train and test dataset\n",
        "from sklearn.model_selection import train_test_split\n",
        "X_train, X_test, y_train, y_test = train_test_split(dataset['tweet'], dataset['class'], random_state = 42, test_size=0.1, shuffle = True)"
      ]
    },
    {
      "cell_type": "markdown",
      "metadata": {
        "id": "uA9YKboLJ_hS"
      },
      "source": [
        "### 3.2 Data preparation using tokenization, data sequence preparation, padding for equal length sequence."
      ]
    },
    {
      "cell_type": "code",
      "execution_count": null,
      "metadata": {
        "id": "EJMInnAO1f7t"
      },
      "outputs": [],
      "source": [
        "# Define Hyperparameters\n",
        "VOCABULARY_SIZE = 2000\n",
        "MAX_LENGTH = 60\n",
        "\n",
        "# Tokenization\n",
        "from keras.preprocessing.text import Tokenizer\n",
        "tokenizer = Tokenizer(num_words=VOCABULARY_SIZE, oov_token = '<OOV>')\n",
        "tokenizer.fit_on_texts(list(X_train) + list(X_test))\n",
        "\n",
        "# Save the toeknizer\n",
        "import pickle\n",
        "with open('tokenizer.pickle', 'wb') as handle:\n",
        "    pickle.dump(tokenizer, handle, protocol=pickle.HIGHEST_PROTOCOL)\n",
        "\n",
        "# Sequences\n",
        "X_train_sequence = tokenizer.texts_to_sequences(X_train)\n",
        "X_test_sequence = tokenizer.texts_to_sequences(X_test)\n",
        "\n",
        "# Padding\n",
        "from keras_preprocessing.sequence import pad_sequences\n",
        "X_train_padding = pad_sequences(X_train_sequence, maxlen = MAX_LENGTH, padding = 'post', truncating = 'post')\n",
        "X_test_padding = pad_sequences(X_test_sequence, maxlen = MAX_LENGTH, padding = 'post', truncating = 'post')\n",
        "\n",
        "word_index = tokenizer.word_index"
      ]
    },
    {
      "cell_type": "markdown",
      "metadata": {
        "id": "tXkEC8zyKGwl"
      },
      "source": [
        "### 3.3 Sequence representation using word embeddings (GloVe, Word2Vec, and Paragram)"
      ]
    },
    {
      "cell_type": "markdown",
      "metadata": {
        "id": "ZXw0SpxmLm5L"
      },
      "source": [
        "### 3.3.1 Golve"
      ]
    },
    {
      "cell_type": "code",
      "execution_count": null,
      "metadata": {
        "id": "qglqkgL_TfOa"
      },
      "outputs": [],
      "source": [
        "# from tqdm import tqdm\n",
        "# import numpy as np\n",
        "# glove_embeddings_index = {}\n",
        "# f = open('/content/drive/MyDrive/L645/data/glove.6B.100d.txt', encoding='utf8') #100d\n",
        "\n",
        "# for line in tqdm(f):\n",
        "#     values = line.split()\n",
        "#     word = values[0]\n",
        "#     coefs = np.asarray(values[1:],dtype='float32')\n",
        "#     glove_embeddings_index[word] = coefs\n",
        "# f.close()\n",
        "\n",
        "# print('Found %s word vectors.' % len(glove_embeddings_index))\n"
      ]
    },
    {
      "cell_type": "code",
      "execution_count": null,
      "metadata": {
        "id": "v_5972Z4TfLq"
      },
      "outputs": [],
      "source": [
        "# embedding_matrix = np.zeros((len(word_index)+ 1, 100))\n",
        "# for word, i in tqdm(word_index.items()):\n",
        "#     embedding_vector = glove_embeddings_index.get(word)\n",
        "#     if embedding_vector is not None:\n",
        "#         embedding_matrix[i] = embedding_vector"
      ]
    },
    {
      "cell_type": "markdown",
      "metadata": {
        "id": "LCAZUmjTL9wM"
      },
      "source": [
        "### 3.3.2 Word2Vec"
      ]
    },
    {
      "cell_type": "code",
      "execution_count": null,
      "metadata": {
        "id": "rvYSgxgJTfI7",
        "colab": {
          "base_uri": "https://localhost:8080/"
        },
        "outputId": "7e42069d-f0e3-4825-c3eb-7da7ffcba6e0"
      },
      "outputs": [
        {
          "output_type": "stream",
          "name": "stderr",
          "text": [
            "34052it [00:02, 12108.83it/s]"
          ]
        },
        {
          "output_type": "stream",
          "name": "stdout",
          "text": [
            "Found 34052 word vectors.\n"
          ]
        },
        {
          "output_type": "stream",
          "name": "stderr",
          "text": [
            "\n"
          ]
        }
      ],
      "source": [
        "from tqdm import tqdm\n",
        "import numpy as np\n",
        "W2V_embeddings_index = {}\n",
        "f = open('/content/drive/MyDrive/L645/data/word2vec.txt', encoding='utf8')  #100d\n",
        "\n",
        "for line in tqdm(f):\n",
        "    values = line.split()\n",
        "    word = values[0]\n",
        "    coefs = np.asarray(values[1:],dtype='float32')\n",
        "    W2V_embeddings_index[word] = coefs\n",
        "f.close()\n",
        "\n",
        "print('Found %s word vectors.' % len(W2V_embeddings_index))"
      ]
    },
    {
      "cell_type": "code",
      "execution_count": null,
      "metadata": {
        "id": "1Cw4gsSITfGD",
        "colab": {
          "base_uri": "https://localhost:8080/"
        },
        "outputId": "4e32a7c4-7821-498a-8b24-e6af46d49ee1"
      },
      "outputs": [
        {
          "output_type": "stream",
          "name": "stderr",
          "text": [
            "100%|██████████| 17815/17815 [00:00<00:00, 473649.51it/s]\n"
          ]
        }
      ],
      "source": [
        "embedding_matrix = np.zeros((len(word_index)+ 1, 100))\n",
        "for word, i in tqdm(word_index.items()):\n",
        "    embedding_vector = W2V_embeddings_index.get(word)\n",
        "    if embedding_vector is not None:\n",
        "        embedding_matrix[i] = embedding_vector"
      ]
    },
    {
      "cell_type": "markdown",
      "metadata": {
        "id": "F7b2y-GuMx9t"
      },
      "source": [
        "### 3.3.3 Paragram"
      ]
    },
    {
      "cell_type": "code",
      "execution_count": null,
      "metadata": {
        "id": "vvKSn1WDTfDU"
      },
      "outputs": [],
      "source": [
        "# from tqdm import tqdm\n",
        "# import numpy as np\n",
        "# P_embeddings_index = {}\n",
        "# f = open('/content/drive/MyDrive/L645/data/paragram_300_sl999.txt', encoding='utf8')  #300d\n",
        "\n",
        "# for line in tqdm(f):\n",
        "#     values = line.split()\n",
        "#     word = values[0]\n",
        "#     coefs = np.asarray(values[1:])\n",
        "#     P_embeddings_index[word] = coefs\n",
        "# f.close()\n",
        "\n",
        "# print('Found %s word vectors.' % len(P_embeddings_index))"
      ]
    },
    {
      "cell_type": "code",
      "execution_count": null,
      "metadata": {
        "id": "Pov1lAvXTfAz"
      },
      "outputs": [],
      "source": [
        "# embedding_matrix = np.zeros((len(word_index)+ 1, 300))\n",
        "# for word, i in tqdm(word_index.items()):\n",
        "#     embedding_vector = P_embeddings_index.get(word)\n",
        "#     if embedding_vector is not None:\n",
        "#         embedding_matrix[i] = embedding_vector"
      ]
    },
    {
      "cell_type": "markdown",
      "metadata": {
        "id": "ZSOmjAhCNZHW"
      },
      "source": [
        "# **4. Building models**"
      ]
    },
    {
      "cell_type": "code",
      "execution_count": null,
      "metadata": {
        "id": "GH_FHj2zNszn"
      },
      "outputs": [],
      "source": [
        "# binarize the labels for the neural network\n",
        "from keras.utils import np_utils\n",
        "from keras.models import Sequential\n",
        "from tensorflow.keras.layers import Embedding\n",
        "from sklearn.metrics import accuracy_score, precision_score, recall_score, f1_score, confusion_matrix\n",
        "from keras import layers\n",
        "from keras.layers import LSTM, SimpleRNN, GRU\n",
        "from keras.layers import SpatialDropout1D, Bidirectional\n",
        "from keras.layers.core import Dense, Activation, Dropout\n",
        "\n",
        "y_train_encode = np_utils.to_categorical(y_train)\n",
        "y_test_encode = np_utils.to_categorical(y_test)"
      ]
    },
    {
      "cell_type": "markdown",
      "metadata": {
        "id": "IeBbfPR4Nl9p"
      },
      "source": [
        "### 4.1 Simple RNN"
      ]
    },
    {
      "cell_type": "code",
      "execution_count": null,
      "metadata": {
        "id": "Qu_RYUryTe-C"
      },
      "outputs": [],
      "source": [
        "# Build the RNN model\n",
        "def build_RNN_model():\n",
        "    model = Sequential()\n",
        "    model.add(Embedding(len(word_index) + 1, 100, weights = [embedding_matrix], input_length = MAX_LENGTH, trainable = False))\n",
        "    model.add(SpatialDropout1D(0.2))\n",
        "    model.add(Bidirectional(SimpleRNN(100, dropout = 0.2, recurrent_dropout=0.2)))\n",
        "    model.add(Dense(100, activation = 'relu'))\n",
        "    model.add(Dropout(0.2))\n",
        "    model.add(Dense(3))\n",
        "    model.add(Activation('softmax'))\n",
        "    model.compile(loss = 'categorical_crossentropy', optimizer = 'adam', metrics = ['accuracy'])\n",
        "    return model"
      ]
    },
    {
      "cell_type": "code",
      "execution_count": null,
      "metadata": {
        "id": "36mv1LhbTe7T",
        "colab": {
          "base_uri": "https://localhost:8080/"
        },
        "outputId": "2cfcd149-4c0d-4cca-c1b0-23eb683f5179"
      },
      "outputs": [
        {
          "output_type": "stream",
          "name": "stdout",
          "text": [
            "Epoch 1/15\n",
            "44/44 [==============================] - 10s 171ms/step - loss: 0.7519 - accuracy: 0.7247 - val_loss: 0.6464 - val_accuracy: 0.7713\n",
            "Epoch 2/15\n",
            "44/44 [==============================] - 7s 164ms/step - loss: 0.6382 - accuracy: 0.7741 - val_loss: 0.6101 - val_accuracy: 0.7793\n",
            "Epoch 3/15\n",
            "44/44 [==============================] - 7s 166ms/step - loss: 0.6165 - accuracy: 0.7802 - val_loss: 0.6296 - val_accuracy: 0.7789\n",
            "Epoch 4/15\n",
            "44/44 [==============================] - 7s 162ms/step - loss: 0.6020 - accuracy: 0.7831 - val_loss: 0.6104 - val_accuracy: 0.7584\n",
            "Epoch 5/15\n",
            "44/44 [==============================] - 7s 164ms/step - loss: 0.6017 - accuracy: 0.7840 - val_loss: 0.5939 - val_accuracy: 0.7838\n",
            "Epoch 6/15\n",
            "44/44 [==============================] - 7s 162ms/step - loss: 0.6043 - accuracy: 0.7813 - val_loss: 0.6055 - val_accuracy: 0.7777\n",
            "Epoch 7/15\n",
            "44/44 [==============================] - 7s 163ms/step - loss: 0.5942 - accuracy: 0.7847 - val_loss: 0.5886 - val_accuracy: 0.7822\n",
            "Epoch 8/15\n",
            "44/44 [==============================] - 7s 163ms/step - loss: 0.5862 - accuracy: 0.7884 - val_loss: 0.5960 - val_accuracy: 0.7834\n",
            "Epoch 9/15\n",
            "44/44 [==============================] - 7s 163ms/step - loss: 0.5819 - accuracy: 0.7889 - val_loss: 0.5904 - val_accuracy: 0.7846\n",
            "Epoch 10/15\n",
            "44/44 [==============================] - 7s 163ms/step - loss: 0.5778 - accuracy: 0.7912 - val_loss: 0.5785 - val_accuracy: 0.7846\n",
            "Epoch 11/15\n",
            "44/44 [==============================] - 8s 192ms/step - loss: 0.5702 - accuracy: 0.7928 - val_loss: 0.5681 - val_accuracy: 0.7878\n",
            "Epoch 12/15\n",
            "44/44 [==============================] - 10s 228ms/step - loss: 0.5710 - accuracy: 0.7941 - val_loss: 0.5699 - val_accuracy: 0.7886\n",
            "Epoch 13/15\n",
            "44/44 [==============================] - 7s 167ms/step - loss: 0.5727 - accuracy: 0.7923 - val_loss: 0.5687 - val_accuracy: 0.7878\n",
            "Epoch 14/15\n",
            "44/44 [==============================] - 7s 163ms/step - loss: 0.5633 - accuracy: 0.7963 - val_loss: 0.5682 - val_accuracy: 0.7943\n",
            "Epoch 15/15\n",
            "44/44 [==============================] - 7s 169ms/step - loss: 0.5619 - accuracy: 0.7967 - val_loss: 0.5623 - val_accuracy: 0.7914\n"
          ]
        }
      ],
      "source": [
        "# Train the model\n",
        "model_rnn = build_RNN_model()\n",
        "history_rnn = model_rnn.fit(X_train_padding, y=y_train_encode, batch_size=512, epochs=15, verbose=1, validation_data=(X_test_padding, y_test_encode))"
      ]
    },
    {
      "cell_type": "markdown",
      "metadata": {
        "id": "dCV7f_PBOmDm"
      },
      "source": [
        "### 4.2 LSTM"
      ]
    },
    {
      "cell_type": "code",
      "execution_count": null,
      "metadata": {
        "id": "57bUUagG-O7-"
      },
      "outputs": [],
      "source": [
        "# Build LSTM model\n",
        "\n",
        "def build_LSTM_model():\n",
        "    model = Sequential()\n",
        "    # model.add(Embedding(len(word_index) + 1, 100, weights = [embedding_matrix], input_length = MAX_LENGTH, trainable = False))\n",
        "    model.add(Embedding(len(word_index) + 1, 100, weights = [embedding_matrix], input_length = MAX_LENGTH, trainable = False))\n",
        "    model.add(SpatialDropout1D(0.2))\n",
        "    model.add(Bidirectional(LSTM(100, dropout = 0.2, recurrent_dropout=0.2)))\n",
        "    model.add(Dense(100, activation = 'relu'))\n",
        "    model.add(Dropout(0.2))\n",
        "    model.add(Dense(3))\n",
        "    model.add(Activation('softmax'))\n",
        "    model.compile(loss = 'categorical_crossentropy', optimizer = 'adam', metrics = ['accuracy'])\n",
        "    return model"
      ]
    },
    {
      "cell_type": "code",
      "execution_count": null,
      "metadata": {
        "id": "la8XICpKOpb5",
        "colab": {
          "base_uri": "https://localhost:8080/"
        },
        "outputId": "2cbca08b-dbf1-4f1e-fb39-57608cdbcb79"
      },
      "outputs": [
        {
          "output_type": "stream",
          "name": "stderr",
          "text": [
            "WARNING:tensorflow:Layer lstm will not use cuDNN kernels since it doesn't meet the criteria. It will use a generic GPU kernel as fallback when running on GPU.\n",
            "WARNING:tensorflow:Layer lstm will not use cuDNN kernels since it doesn't meet the criteria. It will use a generic GPU kernel as fallback when running on GPU.\n",
            "WARNING:tensorflow:Layer lstm will not use cuDNN kernels since it doesn't meet the criteria. It will use a generic GPU kernel as fallback when running on GPU.\n"
          ]
        },
        {
          "output_type": "stream",
          "name": "stdout",
          "text": [
            "Epoch 1/15\n",
            "44/44 [==============================] - 26s 501ms/step - loss: 0.6912 - accuracy: 0.7668 - val_loss: 0.6022 - val_accuracy: 0.7745\n",
            "Epoch 2/15\n",
            "44/44 [==============================] - 22s 495ms/step - loss: 0.5488 - accuracy: 0.7969 - val_loss: 0.5372 - val_accuracy: 0.8076\n",
            "Epoch 3/15\n",
            "44/44 [==============================] - 22s 490ms/step - loss: 0.5039 - accuracy: 0.8142 - val_loss: 0.5014 - val_accuracy: 0.8173\n",
            "Epoch 4/15\n",
            "44/44 [==============================] - 22s 493ms/step - loss: 0.4780 - accuracy: 0.8251 - val_loss: 0.4865 - val_accuracy: 0.8193\n",
            "Epoch 5/15\n",
            "44/44 [==============================] - 22s 490ms/step - loss: 0.4578 - accuracy: 0.8312 - val_loss: 0.4797 - val_accuracy: 0.8269\n",
            "Epoch 6/15\n",
            "44/44 [==============================] - 23s 532ms/step - loss: 0.4475 - accuracy: 0.8341 - val_loss: 0.4624 - val_accuracy: 0.8269\n",
            "Epoch 7/15\n",
            "44/44 [==============================] - 21s 486ms/step - loss: 0.4399 - accuracy: 0.8362 - val_loss: 0.4578 - val_accuracy: 0.8257\n",
            "Epoch 8/15\n",
            "44/44 [==============================] - 22s 490ms/step - loss: 0.4306 - accuracy: 0.8402 - val_loss: 0.4548 - val_accuracy: 0.8314\n",
            "Epoch 9/15\n",
            "44/44 [==============================] - 21s 486ms/step - loss: 0.4195 - accuracy: 0.8427 - val_loss: 0.4524 - val_accuracy: 0.8326\n",
            "Epoch 10/15\n",
            "44/44 [==============================] - 21s 481ms/step - loss: 0.4144 - accuracy: 0.8464 - val_loss: 0.4535 - val_accuracy: 0.8302\n",
            "Epoch 11/15\n",
            "44/44 [==============================] - 21s 486ms/step - loss: 0.4089 - accuracy: 0.8446 - val_loss: 0.4452 - val_accuracy: 0.8318\n",
            "Epoch 12/15\n",
            "44/44 [==============================] - 21s 483ms/step - loss: 0.4006 - accuracy: 0.8488 - val_loss: 0.4440 - val_accuracy: 0.8346\n",
            "Epoch 13/15\n",
            "44/44 [==============================] - 22s 495ms/step - loss: 0.3936 - accuracy: 0.8507 - val_loss: 0.4414 - val_accuracy: 0.8334\n",
            "Epoch 14/15\n",
            "44/44 [==============================] - 23s 522ms/step - loss: 0.3878 - accuracy: 0.8542 - val_loss: 0.4441 - val_accuracy: 0.8314\n",
            "Epoch 15/15\n",
            "44/44 [==============================] - 22s 491ms/step - loss: 0.3790 - accuracy: 0.8541 - val_loss: 0.4408 - val_accuracy: 0.8346\n"
          ]
        }
      ],
      "source": [
        "# Train the model\n",
        "model_lstm = build_LSTM_model()\n",
        "history_lstm = model_lstm.fit(X_train_padding, y=y_train_encode, batch_size=512, epochs=15, verbose=1, validation_data=(X_test_padding, y_test_encode))"
      ]
    },
    {
      "cell_type": "markdown",
      "metadata": {
        "id": "w7h7YavGOyKN"
      },
      "source": [
        "### 4.3 GRU"
      ]
    },
    {
      "cell_type": "code",
      "execution_count": null,
      "metadata": {
        "id": "D3l7UoWPOpX0"
      },
      "outputs": [],
      "source": [
        "# Build GRU model\n",
        "def build_GRU_model():\n",
        "    model = Sequential()\n",
        "    model.add(Embedding(len(word_index) + 1, 100, weights = [embedding_matrix], input_length = MAX_LENGTH, trainable = False))\n",
        "    model.add(SpatialDropout1D(0.2))\n",
        "    model.add(Bidirectional(GRU(100, dropout = 0.2, recurrent_dropout=0.2)))\n",
        "    model.add(Dense(100, activation = 'relu'))\n",
        "    model.add(Dropout(0.2))\n",
        "    model.add(Dense(3))\n",
        "    model.add(Activation('softmax'))\n",
        "    model.compile(loss = 'categorical_crossentropy', optimizer = 'adam', metrics = ['accuracy'])\n",
        "    return model"
      ]
    },
    {
      "cell_type": "code",
      "execution_count": null,
      "metadata": {
        "id": "iq5KvMz4OpVT",
        "colab": {
          "base_uri": "https://localhost:8080/"
        },
        "outputId": "2fa382b4-c0a6-41e9-e1ee-6ce5f8e2e4cc"
      },
      "outputs": [
        {
          "output_type": "stream",
          "name": "stderr",
          "text": [
            "WARNING:tensorflow:Layer gru will not use cuDNN kernels since it doesn't meet the criteria. It will use a generic GPU kernel as fallback when running on GPU.\n",
            "WARNING:tensorflow:Layer gru will not use cuDNN kernels since it doesn't meet the criteria. It will use a generic GPU kernel as fallback when running on GPU.\n",
            "WARNING:tensorflow:Layer gru will not use cuDNN kernels since it doesn't meet the criteria. It will use a generic GPU kernel as fallback when running on GPU.\n"
          ]
        },
        {
          "output_type": "stream",
          "name": "stdout",
          "text": [
            "Epoch 1/15\n",
            "44/44 [==============================] - 24s 451ms/step - loss: 0.7091 - accuracy: 0.7487 - val_loss: 0.6048 - val_accuracy: 0.7717\n",
            "Epoch 2/15\n",
            "44/44 [==============================] - 19s 438ms/step - loss: 0.5514 - accuracy: 0.7945 - val_loss: 0.5225 - val_accuracy: 0.8068\n",
            "Epoch 3/15\n",
            "44/44 [==============================] - 19s 441ms/step - loss: 0.4989 - accuracy: 0.8178 - val_loss: 0.4893 - val_accuracy: 0.8193\n",
            "Epoch 4/15\n",
            "44/44 [==============================] - 19s 443ms/step - loss: 0.4759 - accuracy: 0.8226 - val_loss: 0.4865 - val_accuracy: 0.8209\n",
            "Epoch 5/15\n",
            "44/44 [==============================] - 19s 435ms/step - loss: 0.4612 - accuracy: 0.8280 - val_loss: 0.4665 - val_accuracy: 0.8273\n",
            "Epoch 6/15\n",
            "44/44 [==============================] - 19s 431ms/step - loss: 0.4471 - accuracy: 0.8330 - val_loss: 0.4648 - val_accuracy: 0.8302\n",
            "Epoch 7/15\n",
            "44/44 [==============================] - 19s 433ms/step - loss: 0.4376 - accuracy: 0.8353 - val_loss: 0.4562 - val_accuracy: 0.8302\n",
            "Epoch 8/15\n",
            "44/44 [==============================] - 21s 475ms/step - loss: 0.4293 - accuracy: 0.8376 - val_loss: 0.4511 - val_accuracy: 0.8290\n",
            "Epoch 9/15\n",
            "44/44 [==============================] - 19s 438ms/step - loss: 0.4244 - accuracy: 0.8391 - val_loss: 0.4449 - val_accuracy: 0.8326\n",
            "Epoch 10/15\n",
            "44/44 [==============================] - 19s 441ms/step - loss: 0.4207 - accuracy: 0.8428 - val_loss: 0.4400 - val_accuracy: 0.8346\n",
            "Epoch 11/15\n",
            "44/44 [==============================] - 19s 436ms/step - loss: 0.4113 - accuracy: 0.8453 - val_loss: 0.4351 - val_accuracy: 0.8342\n",
            "Epoch 12/15\n",
            "44/44 [==============================] - 19s 432ms/step - loss: 0.4093 - accuracy: 0.8462 - val_loss: 0.4485 - val_accuracy: 0.8322\n",
            "Epoch 13/15\n",
            "44/44 [==============================] - 19s 432ms/step - loss: 0.4034 - accuracy: 0.8477 - val_loss: 0.4423 - val_accuracy: 0.8310\n",
            "Epoch 14/15\n",
            "44/44 [==============================] - 19s 440ms/step - loss: 0.3940 - accuracy: 0.8505 - val_loss: 0.4301 - val_accuracy: 0.8386\n",
            "Epoch 15/15\n",
            "44/44 [==============================] - 19s 433ms/step - loss: 0.3893 - accuracy: 0.8535 - val_loss: 0.4318 - val_accuracy: 0.8366\n"
          ]
        }
      ],
      "source": [
        "# Train the model\n",
        "model_gru = build_GRU_model()\n",
        "history_gru = model_gru.fit(X_train_padding, y=y_train_encode, batch_size=512, epochs=15, verbose=1, validation_data=(X_test_padding, y_test_encode))"
      ]
    },
    {
      "cell_type": "markdown",
      "metadata": {
        "id": "3MnIvGyDPCp3"
      },
      "source": [
        "# **5. Module Validation and Evaluation**"
      ]
    },
    {
      "cell_type": "code",
      "execution_count": null,
      "metadata": {
        "id": "8WishDk0OpSG"
      },
      "outputs": [],
      "source": [
        "# plot the training and validation accuracy per epoch of a model.\n",
        "def performance_history(history, model_name, image_path, string):\n",
        "    plt.plot(history.history[string])\n",
        "    plt.plot(history.history['val_' + string])\n",
        "    plt.xlabel('Epochs')\n",
        "    plt.ylabel(string)\n",
        "    plt.legend([string, 'val_' + string])\n",
        "    plt.title(model_name + ' ' + string + ' per epoch')\n",
        "    # Save the figure\n",
        "    plt.savefig(image_path + model_name + ' ' + string + ' per epoch.png', dpi = 600)\n",
        "    # Display the figure\n",
        "    plt.show()"
      ]
    },
    {
      "cell_type": "code",
      "execution_count": null,
      "metadata": {
        "id": "lGbIwn_6OpPI"
      },
      "outputs": [],
      "source": [
        "from sklearn import metrics\n",
        "import matplotlib.pyplot as plt\n",
        "# generate the performance report of a model\n",
        "def performance_report(model, model_name, image_path, testX, testy):\n",
        "\n",
        "    time = date.today()\n",
        "    \n",
        "    yhat_probs=model.predict(testX) \n",
        "    yhat_classes = np.argmax(yhat_probs, axis = 1)\n",
        "    ytest = np.argmax(testy, axis = 1)\n",
        "    \n",
        "    accuracy = accuracy_score(ytest, yhat_classes)  # (tp + tn) / (p + n)\n",
        "    precision = precision_score(ytest, yhat_classes, average = 'macro') # tp / (tp + fp)\n",
        "    recall = recall_score(ytest, yhat_classes, average = 'macro') # tp / (tp + fn)\n",
        "    f1 = f1_score(ytest, yhat_classes, average = 'macro') # 2 tp / (2 tp + fp + fn)\n",
        "    \n",
        "    # confusion matrix\n",
        "    cf_matrix = confusion_matrix(ytest, yhat_classes)\n",
        "    cf_display = metrics.ConfusionMatrixDisplay(confusion_matrix = cf_matrix, display_labels = ['Hate', 'Offensive', 'Neither'])\n",
        "    # plot the confusion matrix\n",
        "    cf_display.plot()\n",
        "    # plt.show()\n",
        "    # save the confusion matrix figure\n",
        "    plt.savefig(image_path + model_name + ' performance_report.png', dpi=600)\n",
        "    # figure.savefig(image_path + model_name + ' performance_report.png', dpi=600, transparent=True, bbox_inches='tight')\n",
        "\n",
        "    total_cost_df = pd.DataFrame(\n",
        "            columns=['Time', 'Model Name', 'Precision', 'Recall', 'F1 Score', 'Accuracy'])\n",
        "\n",
        "    total_cost_df = total_cost_df.append(\n",
        "            {'Time': time, \n",
        "             'Precision': precision,\n",
        "             'Model Name': model_name,\n",
        "             'Recall': recall, \n",
        "             'F1 Score': f1,\n",
        "             'Accuracy':accuracy},\n",
        "            ignore_index=True)\n",
        "    return total_cost_df"
      ]
    },
    {
      "cell_type": "code",
      "execution_count": null,
      "metadata": {
        "id": "AcHTaC8iOpMk"
      },
      "outputs": [],
      "source": [
        "## Create folders to save the models and plot\n",
        "import os \n",
        "\n",
        "image_path = '/content/drive/MyDrive/L645/project/word2vec/images/'\n",
        "model_path = '/content/drive/MyDrive/L645/project/word2vec/'\n",
        "\n",
        "# Create image and model folder if they don't exist\n",
        "def create_directry(path):\n",
        "    # Check whether the specified path exists or not\n",
        "    isExist = os.path.exists(path)\n",
        "    if not isExist:\n",
        "      # Create a new directory because it does not exist \n",
        "      os.makedirs(path)\n",
        "\n",
        "# Create image path\n",
        "create_directry(image_path)\n",
        "\n",
        "# Create model path\n",
        "create_directry(model_path)"
      ]
    },
    {
      "cell_type": "code",
      "execution_count": null,
      "metadata": {
        "id": "XWdGRi8BOpJc",
        "colab": {
          "base_uri": "https://localhost:8080/",
          "height": 360
        },
        "outputId": "b35bb9ac-02af-477b-93b6-79f3a9f71f10"
      },
      "outputs": [
        {
          "output_type": "stream",
          "name": "stdout",
          "text": [
            "78/78 [==============================] - 1s 9ms/step\n"
          ]
        },
        {
          "output_type": "execute_result",
          "data": {
            "text/plain": [
              "         Time  Model Name  Precision    Recall  F1 Score  Accuracy\n",
              "0  2022-12-11  Simple RNN   0.828174  0.401311  0.406545  0.791448"
            ],
            "text/html": [
              "\n",
              "  <div id=\"df-656f7cb0-bfe9-4fd5-b846-141fe00820c4\">\n",
              "    <div class=\"colab-df-container\">\n",
              "      <div>\n",
              "<style scoped>\n",
              "    .dataframe tbody tr th:only-of-type {\n",
              "        vertical-align: middle;\n",
              "    }\n",
              "\n",
              "    .dataframe tbody tr th {\n",
              "        vertical-align: top;\n",
              "    }\n",
              "\n",
              "    .dataframe thead th {\n",
              "        text-align: right;\n",
              "    }\n",
              "</style>\n",
              "<table border=\"1\" class=\"dataframe\">\n",
              "  <thead>\n",
              "    <tr style=\"text-align: right;\">\n",
              "      <th></th>\n",
              "      <th>Time</th>\n",
              "      <th>Model Name</th>\n",
              "      <th>Precision</th>\n",
              "      <th>Recall</th>\n",
              "      <th>F1 Score</th>\n",
              "      <th>Accuracy</th>\n",
              "    </tr>\n",
              "  </thead>\n",
              "  <tbody>\n",
              "    <tr>\n",
              "      <th>0</th>\n",
              "      <td>2022-12-11</td>\n",
              "      <td>Simple RNN</td>\n",
              "      <td>0.828174</td>\n",
              "      <td>0.401311</td>\n",
              "      <td>0.406545</td>\n",
              "      <td>0.791448</td>\n",
              "    </tr>\n",
              "  </tbody>\n",
              "</table>\n",
              "</div>\n",
              "      <button class=\"colab-df-convert\" onclick=\"convertToInteractive('df-656f7cb0-bfe9-4fd5-b846-141fe00820c4')\"\n",
              "              title=\"Convert this dataframe to an interactive table.\"\n",
              "              style=\"display:none;\">\n",
              "        \n",
              "  <svg xmlns=\"http://www.w3.org/2000/svg\" height=\"24px\"viewBox=\"0 0 24 24\"\n",
              "       width=\"24px\">\n",
              "    <path d=\"M0 0h24v24H0V0z\" fill=\"none\"/>\n",
              "    <path d=\"M18.56 5.44l.94 2.06.94-2.06 2.06-.94-2.06-.94-.94-2.06-.94 2.06-2.06.94zm-11 1L8.5 8.5l.94-2.06 2.06-.94-2.06-.94L8.5 2.5l-.94 2.06-2.06.94zm10 10l.94 2.06.94-2.06 2.06-.94-2.06-.94-.94-2.06-.94 2.06-2.06.94z\"/><path d=\"M17.41 7.96l-1.37-1.37c-.4-.4-.92-.59-1.43-.59-.52 0-1.04.2-1.43.59L10.3 9.45l-7.72 7.72c-.78.78-.78 2.05 0 2.83L4 21.41c.39.39.9.59 1.41.59.51 0 1.02-.2 1.41-.59l7.78-7.78 2.81-2.81c.8-.78.8-2.07 0-2.86zM5.41 20L4 18.59l7.72-7.72 1.47 1.35L5.41 20z\"/>\n",
              "  </svg>\n",
              "      </button>\n",
              "      \n",
              "  <style>\n",
              "    .colab-df-container {\n",
              "      display:flex;\n",
              "      flex-wrap:wrap;\n",
              "      gap: 12px;\n",
              "    }\n",
              "\n",
              "    .colab-df-convert {\n",
              "      background-color: #E8F0FE;\n",
              "      border: none;\n",
              "      border-radius: 50%;\n",
              "      cursor: pointer;\n",
              "      display: none;\n",
              "      fill: #1967D2;\n",
              "      height: 32px;\n",
              "      padding: 0 0 0 0;\n",
              "      width: 32px;\n",
              "    }\n",
              "\n",
              "    .colab-df-convert:hover {\n",
              "      background-color: #E2EBFA;\n",
              "      box-shadow: 0px 1px 2px rgba(60, 64, 67, 0.3), 0px 1px 3px 1px rgba(60, 64, 67, 0.15);\n",
              "      fill: #174EA6;\n",
              "    }\n",
              "\n",
              "    [theme=dark] .colab-df-convert {\n",
              "      background-color: #3B4455;\n",
              "      fill: #D2E3FC;\n",
              "    }\n",
              "\n",
              "    [theme=dark] .colab-df-convert:hover {\n",
              "      background-color: #434B5C;\n",
              "      box-shadow: 0px 1px 3px 1px rgba(0, 0, 0, 0.15);\n",
              "      filter: drop-shadow(0px 1px 2px rgba(0, 0, 0, 0.3));\n",
              "      fill: #FFFFFF;\n",
              "    }\n",
              "  </style>\n",
              "\n",
              "      <script>\n",
              "        const buttonEl =\n",
              "          document.querySelector('#df-656f7cb0-bfe9-4fd5-b846-141fe00820c4 button.colab-df-convert');\n",
              "        buttonEl.style.display =\n",
              "          google.colab.kernel.accessAllowed ? 'block' : 'none';\n",
              "\n",
              "        async function convertToInteractive(key) {\n",
              "          const element = document.querySelector('#df-656f7cb0-bfe9-4fd5-b846-141fe00820c4');\n",
              "          const dataTable =\n",
              "            await google.colab.kernel.invokeFunction('convertToInteractive',\n",
              "                                                     [key], {});\n",
              "          if (!dataTable) return;\n",
              "\n",
              "          const docLinkHtml = 'Like what you see? Visit the ' +\n",
              "            '<a target=\"_blank\" href=https://colab.research.google.com/notebooks/data_table.ipynb>data table notebook</a>'\n",
              "            + ' to learn more about interactive tables.';\n",
              "          element.innerHTML = '';\n",
              "          dataTable['output_type'] = 'display_data';\n",
              "          await google.colab.output.renderOutput(dataTable, element);\n",
              "          const docLink = document.createElement('div');\n",
              "          docLink.innerHTML = docLinkHtml;\n",
              "          element.appendChild(docLink);\n",
              "        }\n",
              "      </script>\n",
              "    </div>\n",
              "  </div>\n",
              "  "
            ]
          },
          "metadata": {},
          "execution_count": 26
        },
        {
          "output_type": "display_data",
          "data": {
            "text/plain": [
              "<Figure size 432x288 with 2 Axes>"
            ],
            "image/png": "[encoded data removed]"
          },
          "metadata": {
            "needs_background": "light"
          }
        }
      ],
      "source": [
        "# Compare models\n",
        "from datetime import date\n",
        "import seaborn as sns\n",
        "from sklearn.metrics import accuracy_score, precision_score, recall_score, f1_score, confusion_matrix\n",
        "import seaborn as sns\n",
        "import matplotlib.pyplot as plt\n",
        "rnn_report = performance_report(model_rnn, \"Simple RNN\", image_path, X_test_padding, y_test_encode)\n",
        "rnn_report"
      ]
    },
    {
      "cell_type": "code",
      "execution_count": null,
      "metadata": {
        "id": "Q-jYQl7MZJ9N",
        "colab": {
          "base_uri": "https://localhost:8080/",
          "height": 360
        },
        "outputId": "de2f40bc-24bb-4bfd-8c4b-22e88416efeb"
      },
      "outputs": [
        {
          "output_type": "stream",
          "name": "stdout",
          "text": [
            "78/78 [==============================] - 3s 31ms/step\n"
          ]
        },
        {
          "output_type": "execute_result",
          "data": {
            "text/plain": [
              "         Time Model Name  Precision    Recall  F1 Score  Accuracy\n",
              "0  2022-12-11       LSTM   0.672411  0.530486  0.549671  0.834611"
            ],
            "text/html": [
              "\n",
              "  <div id=\"df-f491e4a0-9cb8-4396-b671-ec6c45902521\">\n",
              "    <div class=\"colab-df-container\">\n",
              "      <div>\n",
              "<style scoped>\n",
              "    .dataframe tbody tr th:only-of-type {\n",
              "        vertical-align: middle;\n",
              "    }\n",
              "\n",
              "    .dataframe tbody tr th {\n",
              "        vertical-align: top;\n",
              "    }\n",
              "\n",
              "    .dataframe thead th {\n",
              "        text-align: right;\n",
              "    }\n",
              "</style>\n",
              "<table border=\"1\" class=\"dataframe\">\n",
              "  <thead>\n",
              "    <tr style=\"text-align: right;\">\n",
              "      <th></th>\n",
              "      <th>Time</th>\n",
              "      <th>Model Name</th>\n",
              "      <th>Precision</th>\n",
              "      <th>Recall</th>\n",
              "      <th>F1 Score</th>\n",
              "      <th>Accuracy</th>\n",
              "    </tr>\n",
              "  </thead>\n",
              "  <tbody>\n",
              "    <tr>\n",
              "      <th>0</th>\n",
              "      <td>2022-12-11</td>\n",
              "      <td>LSTM</td>\n",
              "      <td>0.672411</td>\n",
              "      <td>0.530486</td>\n",
              "      <td>0.549671</td>\n",
              "      <td>0.834611</td>\n",
              "    </tr>\n",
              "  </tbody>\n",
              "</table>\n",
              "</div>\n",
              "      <button class=\"colab-df-convert\" onclick=\"convertToInteractive('df-f491e4a0-9cb8-4396-b671-ec6c45902521')\"\n",
              "              title=\"Convert this dataframe to an interactive table.\"\n",
              "              style=\"display:none;\">\n",
              "        \n",
              "  <svg xmlns=\"http://www.w3.org/2000/svg\" height=\"24px\"viewBox=\"0 0 24 24\"\n",
              "       width=\"24px\">\n",
              "    <path d=\"M0 0h24v24H0V0z\" fill=\"none\"/>\n",
              "    <path d=\"M18.56 5.44l.94 2.06.94-2.06 2.06-.94-2.06-.94-.94-2.06-.94 2.06-2.06.94zm-11 1L8.5 8.5l.94-2.06 2.06-.94-2.06-.94L8.5 2.5l-.94 2.06-2.06.94zm10 10l.94 2.06.94-2.06 2.06-.94-2.06-.94-.94-2.06-.94 2.06-2.06.94z\"/><path d=\"M17.41 7.96l-1.37-1.37c-.4-.4-.92-.59-1.43-.59-.52 0-1.04.2-1.43.59L10.3 9.45l-7.72 7.72c-.78.78-.78 2.05 0 2.83L4 21.41c.39.39.9.59 1.41.59.51 0 1.02-.2 1.41-.59l7.78-7.78 2.81-2.81c.8-.78.8-2.07 0-2.86zM5.41 20L4 18.59l7.72-7.72 1.47 1.35L5.41 20z\"/>\n",
              "  </svg>\n",
              "      </button>\n",
              "      \n",
              "  <style>\n",
              "    .colab-df-container {\n",
              "      display:flex;\n",
              "      flex-wrap:wrap;\n",
              "      gap: 12px;\n",
              "    }\n",
              "\n",
              "    .colab-df-convert {\n",
              "      background-color: #E8F0FE;\n",
              "      border: none;\n",
              "      border-radius: 50%;\n",
              "      cursor: pointer;\n",
              "      display: none;\n",
              "      fill: #1967D2;\n",
              "      height: 32px;\n",
              "      padding: 0 0 0 0;\n",
              "      width: 32px;\n",
              "    }\n",
              "\n",
              "    .colab-df-convert:hover {\n",
              "      background-color: #E2EBFA;\n",
              "      box-shadow: 0px 1px 2px rgba(60, 64, 67, 0.3), 0px 1px 3px 1px rgba(60, 64, 67, 0.15);\n",
              "      fill: #174EA6;\n",
              "    }\n",
              "\n",
              "    [theme=dark] .colab-df-convert {\n",
              "      background-color: #3B4455;\n",
              "      fill: #D2E3FC;\n",
              "    }\n",
              "\n",
              "    [theme=dark] .colab-df-convert:hover {\n",
              "      background-color: #434B5C;\n",
              "      box-shadow: 0px 1px 3px 1px rgba(0, 0, 0, 0.15);\n",
              "      filter: drop-shadow(0px 1px 2px rgba(0, 0, 0, 0.3));\n",
              "      fill: #FFFFFF;\n",
              "    }\n",
              "  </style>\n",
              "\n",
              "      <script>\n",
              "        const buttonEl =\n",
              "          document.querySelector('#df-f491e4a0-9cb8-4396-b671-ec6c45902521 button.colab-df-convert');\n",
              "        buttonEl.style.display =\n",
              "          google.colab.kernel.accessAllowed ? 'block' : 'none';\n",
              "\n",
              "        async function convertToInteractive(key) {\n",
              "          const element = document.querySelector('#df-f491e4a0-9cb8-4396-b671-ec6c45902521');\n",
              "          const dataTable =\n",
              "            await google.colab.kernel.invokeFunction('convertToInteractive',\n",
              "                                                     [key], {});\n",
              "          if (!dataTable) return;\n",
              "\n",
              "          const docLinkHtml = 'Like what you see? Visit the ' +\n",
              "            '<a target=\"_blank\" href=https://colab.research.google.com/notebooks/data_table.ipynb>data table notebook</a>'\n",
              "            + ' to learn more about interactive tables.';\n",
              "          element.innerHTML = '';\n",
              "          dataTable['output_type'] = 'display_data';\n",
              "          await google.colab.output.renderOutput(dataTable, element);\n",
              "          const docLink = document.createElement('div');\n",
              "          docLink.innerHTML = docLinkHtml;\n",
              "          element.appendChild(docLink);\n",
              "        }\n",
              "      </script>\n",
              "    </div>\n",
              "  </div>\n",
              "  "
            ]
          },
          "metadata": {},
          "execution_count": 27
        },
        {
          "output_type": "display_data",
          "data": {
            "text/plain": [
              "<Figure size 432x288 with 2 Axes>"
            ],
            "image/png": "[encoded data removed]"
          },
          "metadata": {
            "needs_background": "light"
          }
        }
      ],
      "source": [
        "lstm_report = performance_report(model_lstm, \"LSTM\", image_path, X_test_padding, y_test_encode)\n",
        "lstm_report\n"
      ]
    },
    {
      "cell_type": "code",
      "execution_count": null,
      "metadata": {
        "id": "L8SLAlznZLaG",
        "colab": {
          "base_uri": "https://localhost:8080/",
          "height": 360
        },
        "outputId": "80b5300d-57ed-475c-acf4-61ef76896b3b"
      },
      "outputs": [
        {
          "output_type": "stream",
          "name": "stdout",
          "text": [
            "78/78 [==============================] - 3s 34ms/step\n"
          ]
        },
        {
          "output_type": "execute_result",
          "data": {
            "text/plain": [
              "         Time Model Name  Precision   Recall  F1 Score  Accuracy\n",
              "0  2022-12-11        GRU    0.68977  0.52939  0.554318  0.836628"
            ],
            "text/html": [
              "\n",
              "  <div id=\"df-da7fdbbe-1d8e-44c4-9f6e-92604a92a278\">\n",
              "    <div class=\"colab-df-container\">\n",
              "      <div>\n",
              "<style scoped>\n",
              "    .dataframe tbody tr th:only-of-type {\n",
              "        vertical-align: middle;\n",
              "    }\n",
              "\n",
              "    .dataframe tbody tr th {\n",
              "        vertical-align: top;\n",
              "    }\n",
              "\n",
              "    .dataframe thead th {\n",
              "        text-align: right;\n",
              "    }\n",
              "</style>\n",
              "<table border=\"1\" class=\"dataframe\">\n",
              "  <thead>\n",
              "    <tr style=\"text-align: right;\">\n",
              "      <th></th>\n",
              "      <th>Time</th>\n",
              "      <th>Model Name</th>\n",
              "      <th>Precision</th>\n",
              "      <th>Recall</th>\n",
              "      <th>F1 Score</th>\n",
              "      <th>Accuracy</th>\n",
              "    </tr>\n",
              "  </thead>\n",
              "  <tbody>\n",
              "    <tr>\n",
              "      <th>0</th>\n",
              "      <td>2022-12-11</td>\n",
              "      <td>GRU</td>\n",
              "      <td>0.68977</td>\n",
              "      <td>0.52939</td>\n",
              "      <td>0.554318</td>\n",
              "      <td>0.836628</td>\n",
              "    </tr>\n",
              "  </tbody>\n",
              "</table>\n",
              "</div>\n",
              "      <button class=\"colab-df-convert\" onclick=\"convertToInteractive('df-da7fdbbe-1d8e-44c4-9f6e-92604a92a278')\"\n",
              "              title=\"Convert this dataframe to an interactive table.\"\n",
              "              style=\"display:none;\">\n",
              "        \n",
              "  <svg xmlns=\"http://www.w3.org/2000/svg\" height=\"24px\"viewBox=\"0 0 24 24\"\n",
              "       width=\"24px\">\n",
              "    <path d=\"M0 0h24v24H0V0z\" fill=\"none\"/>\n",
              "    <path d=\"M18.56 5.44l.94 2.06.94-2.06 2.06-.94-2.06-.94-.94-2.06-.94 2.06-2.06.94zm-11 1L8.5 8.5l.94-2.06 2.06-.94-2.06-.94L8.5 2.5l-.94 2.06-2.06.94zm10 10l.94 2.06.94-2.06 2.06-.94-2.06-.94-.94-2.06-.94 2.06-2.06.94z\"/><path d=\"M17.41 7.96l-1.37-1.37c-.4-.4-.92-.59-1.43-.59-.52 0-1.04.2-1.43.59L10.3 9.45l-7.72 7.72c-.78.78-.78 2.05 0 2.83L4 21.41c.39.39.9.59 1.41.59.51 0 1.02-.2 1.41-.59l7.78-7.78 2.81-2.81c.8-.78.8-2.07 0-2.86zM5.41 20L4 18.59l7.72-7.72 1.47 1.35L5.41 20z\"/>\n",
              "  </svg>\n",
              "      </button>\n",
              "      \n",
              "  <style>\n",
              "    .colab-df-container {\n",
              "      display:flex;\n",
              "      flex-wrap:wrap;\n",
              "      gap: 12px;\n",
              "    }\n",
              "\n",
              "    .colab-df-convert {\n",
              "      background-color: #E8F0FE;\n",
              "      border: none;\n",
              "      border-radius: 50%;\n",
              "      cursor: pointer;\n",
              "      display: none;\n",
              "      fill: #1967D2;\n",
              "      height: 32px;\n",
              "      padding: 0 0 0 0;\n",
              "      width: 32px;\n",
              "    }\n",
              "\n",
              "    .colab-df-convert:hover {\n",
              "      background-color: #E2EBFA;\n",
              "      box-shadow: 0px 1px 2px rgba(60, 64, 67, 0.3), 0px 1px 3px 1px rgba(60, 64, 67, 0.15);\n",
              "      fill: #174EA6;\n",
              "    }\n",
              "\n",
              "    [theme=dark] .colab-df-convert {\n",
              "      background-color: #3B4455;\n",
              "      fill: #D2E3FC;\n",
              "    }\n",
              "\n",
              "    [theme=dark] .colab-df-convert:hover {\n",
              "      background-color: #434B5C;\n",
              "      box-shadow: 0px 1px 3px 1px rgba(0, 0, 0, 0.15);\n",
              "      filter: drop-shadow(0px 1px 2px rgba(0, 0, 0, 0.3));\n",
              "      fill: #FFFFFF;\n",
              "    }\n",
              "  </style>\n",
              "\n",
              "      <script>\n",
              "        const buttonEl =\n",
              "          document.querySelector('#df-da7fdbbe-1d8e-44c4-9f6e-92604a92a278 button.colab-df-convert');\n",
              "        buttonEl.style.display =\n",
              "          google.colab.kernel.accessAllowed ? 'block' : 'none';\n",
              "\n",
              "        async function convertToInteractive(key) {\n",
              "          const element = document.querySelector('#df-da7fdbbe-1d8e-44c4-9f6e-92604a92a278');\n",
              "          const dataTable =\n",
              "            await google.colab.kernel.invokeFunction('convertToInteractive',\n",
              "                                                     [key], {});\n",
              "          if (!dataTable) return;\n",
              "\n",
              "          const docLinkHtml = 'Like what you see? Visit the ' +\n",
              "            '<a target=\"_blank\" href=https://colab.research.google.com/notebooks/data_table.ipynb>data table notebook</a>'\n",
              "            + ' to learn more about interactive tables.';\n",
              "          element.innerHTML = '';\n",
              "          dataTable['output_type'] = 'display_data';\n",
              "          await google.colab.output.renderOutput(dataTable, element);\n",
              "          const docLink = document.createElement('div');\n",
              "          docLink.innerHTML = docLinkHtml;\n",
              "          element.appendChild(docLink);\n",
              "        }\n",
              "      </script>\n",
              "    </div>\n",
              "  </div>\n",
              "  "
            ]
          },
          "metadata": {},
          "execution_count": 28
        },
        {
          "output_type": "display_data",
          "data": {
            "text/plain": [
              "<Figure size 432x288 with 2 Axes>"
            ],
            "image/png": "[encoded data removed]"
          },
          "metadata": {
            "needs_background": "light"
          }
        }
      ],
      "source": [
        "GRU_report = performance_report(model_gru, \"GRU\", image_path, X_test_padding, y_test_encode)\n",
        "GRU_report"
      ]
    },
    {
      "cell_type": "code",
      "execution_count": null,
      "metadata": {
        "id": "0_gGEZvrQl2Q",
        "colab": {
          "base_uri": "https://localhost:8080/",
          "height": 1000
        },
        "outputId": "2f886985-84f4-48d8-c32c-771b1e551308"
      },
      "outputs": [
        {
          "output_type": "display_data",
          "data": {
            "text/plain": [
              "<Figure size 432x288 with 1 Axes>"
            ],
            "image/png": "[encoded data removed]"
          },
          "metadata": {
            "needs_background": "light"
          }
        },
        {
          "output_type": "display_data",
          "data": {
            "text/plain": [
              "<Figure size 432x288 with 1 Axes>"
            ],
            "image/png": "[encoded data removed]"
          },
          "metadata": {
            "needs_background": "light"
          }
        },
        {
          "output_type": "display_data",
          "data": {
            "text/plain": [
              "<Figure size 432x288 with 1 Axes>"
            ],
            "image/png": "[encoded data removed]"
          },
          "metadata": {
            "needs_background": "light"
          }
        },
        {
          "output_type": "display_data",
          "data": {
            "text/plain": [
              "<Figure size 432x288 with 1 Axes>"
            ],
            "image/png": "[encoded data removed]"
          },
          "metadata": {
            "needs_background": "light"
          }
        },
        {
          "output_type": "display_data",
          "data": {
            "text/plain": [
              "<Figure size 432x288 with 1 Axes>"
            ],
            "image/png": "[encoded data removed]"
          },
          "metadata": {
            "needs_background": "light"
          }
        },
        {
          "output_type": "display_data",
          "data": {
            "text/plain": [
              "<Figure size 432x288 with 1 Axes>"
            ],
            "image/png": "[encoded data removed]"
          },
          "metadata": {
            "needs_background": "light"
          }
        }
      ],
      "source": [
        "performance_history(history_lstm, \"Simple RNN\", image_path, 'accuracy')\n",
        "performance_history(history_lstm, \"Simple RNN\", image_path, 'loss')\n",
        "\n",
        "performance_history(history_lstm, \"LSTM\", image_path, 'accuracy')\n",
        "performance_history(history_lstm, \"LSTM\", image_path, 'loss')\n",
        "\n",
        "performance_history(history_lstm, \"GRU\", image_path, 'accuracy')\n",
        "performance_history(history_lstm, \"GRU\", image_path, 'loss')\n",
        "\n"
      ]
    },
    {
      "cell_type": "markdown",
      "metadata": {
        "id": "td-TqAMBEK5_"
      },
      "source": [
        "# **6. Add class weight to handel unbalanced dataset**"
      ]
    },
    {
      "cell_type": "markdown",
      "metadata": {
        "id": "ywejZr2zT3iG"
      },
      "source": [
        "### 6.1 Calculate class weight using fomula: w_j = n_samples / (n_classes * n_samples_j)\n",
        "    "
      ]
    },
    {
      "cell_type": "code",
      "execution_count": null,
      "metadata": {
        "id": "yZ3FjqvMEYsv",
        "colab": {
          "base_uri": "https://localhost:8080/"
        },
        "outputId": "6d978288-1acc-46f2-c134-1d5b6f8d1a53"
      },
      "outputs": [
        {
          "output_type": "execute_result",
          "data": {
            "text/plain": [
              "{0: 5.776923076923077, 1: 0.43048462741010945, 2: 1.9843862599087196}"
            ]
          },
          "metadata": {},
          "execution_count": 30
        }
      ],
      "source": [
        "# Total number of samples\n",
        "n_samples = len(dataset)\n",
        "\n",
        "# Total number of classes\n",
        "n_classes = len(pd.unique(dataset['class']))\n",
        "\n",
        "# Total number of samples in each class\n",
        "n_sample_0 = sum(dataset['class'] == 0)\n",
        "n_sample_1 = sum(dataset['class'] == 1)\n",
        "n_sample_2 = sum(dataset['class'] == 2)\n",
        "\n",
        "# The weights of each calss\n",
        "w_0 = n_samples / (n_classes * n_sample_0)\n",
        "w_1 = n_samples / (n_classes * n_sample_1)\n",
        "w_2 = n_samples / (n_classes * n_sample_2)\n",
        "\n",
        "# Class weights\n",
        "class_weights = {\n",
        "    0: w_0,\n",
        "    1: w_1,\n",
        "    2: w_2\n",
        "}\n",
        "\n",
        "class_weights"
      ]
    },
    {
      "cell_type": "markdown",
      "metadata": {
        "id": "Q8DFPnIrUM_1"
      },
      "source": [
        "6.2 Train GRU model with class weight "
      ]
    },
    {
      "cell_type": "code",
      "source": [
        "#Train the model\n",
        "model_GRU_weighted = build_GRU_model()\n",
        "history_GRU_weighted = model_GRU_weighted.fit(X_train_padding, y=y_train_encode, batch_size=512, epochs=15, verbose=1, validation_data=(X_test_padding, y_test_encode), class_weight = class_weights)"
      ],
      "metadata": {
        "colab": {
          "base_uri": "https://localhost:8080/"
        },
        "id": "qGWGlK7kNqMj",
        "outputId": "ab8e7373-4160-4d52-aeaf-669d411950b4"
      },
      "execution_count": null,
      "outputs": [
        {
          "output_type": "stream",
          "name": "stderr",
          "text": [
            "WARNING:tensorflow:Layer gru_1 will not use cuDNN kernels since it doesn't meet the criteria. It will use a generic GPU kernel as fallback when running on GPU.\n",
            "WARNING:tensorflow:Layer gru_1 will not use cuDNN kernels since it doesn't meet the criteria. It will use a generic GPU kernel as fallback when running on GPU.\n",
            "WARNING:tensorflow:Layer gru_1 will not use cuDNN kernels since it doesn't meet the criteria. It will use a generic GPU kernel as fallback when running on GPU.\n"
          ]
        },
        {
          "output_type": "stream",
          "name": "stdout",
          "text": [
            "Epoch 1/15\n",
            "44/44 [==============================] - 25s 455ms/step - loss: 1.0550 - accuracy: 0.5139 - val_loss: 0.9111 - val_accuracy: 0.6248\n",
            "Epoch 2/15\n",
            "44/44 [==============================] - 20s 457ms/step - loss: 0.9357 - accuracy: 0.5945 - val_loss: 0.8824 - val_accuracy: 0.6144\n",
            "Epoch 3/15\n",
            "44/44 [==============================] - 21s 470ms/step - loss: 0.8665 - accuracy: 0.6278 - val_loss: 0.8122 - val_accuracy: 0.6353\n",
            "Epoch 4/15\n",
            "44/44 [==============================] - 20s 456ms/step - loss: 0.8241 - accuracy: 0.6290 - val_loss: 0.6732 - val_accuracy: 0.7120\n",
            "Epoch 5/15\n",
            "44/44 [==============================] - 19s 442ms/step - loss: 0.8002 - accuracy: 0.6471 - val_loss: 0.7074 - val_accuracy: 0.6946\n",
            "Epoch 6/15\n",
            "44/44 [==============================] - 21s 468ms/step - loss: 0.7773 - accuracy: 0.6491 - val_loss: 0.7125 - val_accuracy: 0.6817\n",
            "Epoch 7/15\n",
            "44/44 [==============================] - 19s 441ms/step - loss: 0.7581 - accuracy: 0.6552 - val_loss: 0.7734 - val_accuracy: 0.6313\n",
            "Epoch 8/15\n",
            "44/44 [==============================] - 20s 444ms/step - loss: 0.7473 - accuracy: 0.6563 - val_loss: 0.7241 - val_accuracy: 0.6644\n",
            "Epoch 9/15\n",
            "44/44 [==============================] - 21s 475ms/step - loss: 0.7329 - accuracy: 0.6705 - val_loss: 0.7272 - val_accuracy: 0.6729\n",
            "Epoch 10/15\n",
            "44/44 [==============================] - 20s 446ms/step - loss: 0.7195 - accuracy: 0.6699 - val_loss: 0.7259 - val_accuracy: 0.6680\n",
            "Epoch 11/15\n",
            "44/44 [==============================] - 19s 436ms/step - loss: 0.7083 - accuracy: 0.6834 - val_loss: 0.7071 - val_accuracy: 0.6801\n",
            "Epoch 12/15\n",
            "44/44 [==============================] - 19s 443ms/step - loss: 0.7034 - accuracy: 0.6905 - val_loss: 0.7578 - val_accuracy: 0.6527\n",
            "Epoch 13/15\n",
            "44/44 [==============================] - 19s 435ms/step - loss: 0.6928 - accuracy: 0.6820 - val_loss: 0.7140 - val_accuracy: 0.6862\n",
            "Epoch 14/15\n",
            "44/44 [==============================] - 19s 441ms/step - loss: 0.6808 - accuracy: 0.6987 - val_loss: 0.6858 - val_accuracy: 0.7059\n",
            "Epoch 15/15\n",
            "44/44 [==============================] - 19s 436ms/step - loss: 0.6680 - accuracy: 0.7045 - val_loss: 0.7410 - val_accuracy: 0.6761\n"
          ]
        }
      ]
    },
    {
      "cell_type": "code",
      "source": [
        "model_GRU_weighted.summary()\n",
        "performance_report(model_GRU_weighted, \"Weighted GRU\", image_path, X_test_padding, y_test_encode)"
      ],
      "metadata": {
        "colab": {
          "base_uri": "https://localhost:8080/",
          "height": 794
        },
        "id": "Jrp2_w4QN2mB",
        "outputId": "5acc0171-a517-4dfd-8026-48e66b0d0dc4"
      },
      "execution_count": null,
      "outputs": [
        {
          "output_type": "stream",
          "name": "stdout",
          "text": [
            "Model: \"sequential_4\"\n",
            "_________________________________________________________________\n",
            " Layer (type)                Output Shape              Param #   \n",
            "=================================================================\n",
            " embedding_4 (Embedding)     (None, 60, 100)           1781600   \n",
            "                                                                 \n",
            " spatial_dropout1d_4 (Spatia  (None, 60, 100)          0         \n",
            " lDropout1D)                                                     \n",
            "                                                                 \n",
            " bidirectional_4 (Bidirectio  (None, 200)              121200    \n",
            " nal)                                                            \n",
            "                                                                 \n",
            " dense_8 (Dense)             (None, 100)               20100     \n",
            "                                                                 \n",
            " dropout_4 (Dropout)         (None, 100)               0         \n",
            "                                                                 \n",
            " dense_9 (Dense)             (None, 3)                 303       \n",
            "                                                                 \n",
            " activation_4 (Activation)   (None, 3)                 0         \n",
            "                                                                 \n",
            "=================================================================\n",
            "Total params: 1,923,203\n",
            "Trainable params: 141,603\n",
            "Non-trainable params: 1,781,600\n",
            "_________________________________________________________________\n",
            "78/78 [==============================] - 4s 34ms/step\n"
          ]
        },
        {
          "output_type": "execute_result",
          "data": {
            "text/plain": [
              "         Time    Model Name  Precision    Recall  F1 Score  Accuracy\n",
              "0  2022-12-11  Weighted GRU   0.555315  0.662641  0.557043  0.676079"
            ],
            "text/html": [
              "\n",
              "  <div id=\"df-f8f7a0cf-19ef-40fd-80db-6f3c325dec7a\">\n",
              "    <div class=\"colab-df-container\">\n",
              "      <div>\n",
              "<style scoped>\n",
              "    .dataframe tbody tr th:only-of-type {\n",
              "        vertical-align: middle;\n",
              "    }\n",
              "\n",
              "    .dataframe tbody tr th {\n",
              "        vertical-align: top;\n",
              "    }\n",
              "\n",
              "    .dataframe thead th {\n",
              "        text-align: right;\n",
              "    }\n",
              "</style>\n",
              "<table border=\"1\" class=\"dataframe\">\n",
              "  <thead>\n",
              "    <tr style=\"text-align: right;\">\n",
              "      <th></th>\n",
              "      <th>Time</th>\n",
              "      <th>Model Name</th>\n",
              "      <th>Precision</th>\n",
              "      <th>Recall</th>\n",
              "      <th>F1 Score</th>\n",
              "      <th>Accuracy</th>\n",
              "    </tr>\n",
              "  </thead>\n",
              "  <tbody>\n",
              "    <tr>\n",
              "      <th>0</th>\n",
              "      <td>2022-12-11</td>\n",
              "      <td>Weighted GRU</td>\n",
              "      <td>0.555315</td>\n",
              "      <td>0.662641</td>\n",
              "      <td>0.557043</td>\n",
              "      <td>0.676079</td>\n",
              "    </tr>\n",
              "  </tbody>\n",
              "</table>\n",
              "</div>\n",
              "      <button class=\"colab-df-convert\" onclick=\"convertToInteractive('df-f8f7a0cf-19ef-40fd-80db-6f3c325dec7a')\"\n",
              "              title=\"Convert this dataframe to an interactive table.\"\n",
              "              style=\"display:none;\">\n",
              "        \n",
              "  <svg xmlns=\"http://www.w3.org/2000/svg\" height=\"24px\"viewBox=\"0 0 24 24\"\n",
              "       width=\"24px\">\n",
              "    <path d=\"M0 0h24v24H0V0z\" fill=\"none\"/>\n",
              "    <path d=\"M18.56 5.44l.94 2.06.94-2.06 2.06-.94-2.06-.94-.94-2.06-.94 2.06-2.06.94zm-11 1L8.5 8.5l.94-2.06 2.06-.94-2.06-.94L8.5 2.5l-.94 2.06-2.06.94zm10 10l.94 2.06.94-2.06 2.06-.94-2.06-.94-.94-2.06-.94 2.06-2.06.94z\"/><path d=\"M17.41 7.96l-1.37-1.37c-.4-.4-.92-.59-1.43-.59-.52 0-1.04.2-1.43.59L10.3 9.45l-7.72 7.72c-.78.78-.78 2.05 0 2.83L4 21.41c.39.39.9.59 1.41.59.51 0 1.02-.2 1.41-.59l7.78-7.78 2.81-2.81c.8-.78.8-2.07 0-2.86zM5.41 20L4 18.59l7.72-7.72 1.47 1.35L5.41 20z\"/>\n",
              "  </svg>\n",
              "      </button>\n",
              "      \n",
              "  <style>\n",
              "    .colab-df-container {\n",
              "      display:flex;\n",
              "      flex-wrap:wrap;\n",
              "      gap: 12px;\n",
              "    }\n",
              "\n",
              "    .colab-df-convert {\n",
              "      background-color: #E8F0FE;\n",
              "      border: none;\n",
              "      border-radius: 50%;\n",
              "      cursor: pointer;\n",
              "      display: none;\n",
              "      fill: #1967D2;\n",
              "      height: 32px;\n",
              "      padding: 0 0 0 0;\n",
              "      width: 32px;\n",
              "    }\n",
              "\n",
              "    .colab-df-convert:hover {\n",
              "      background-color: #E2EBFA;\n",
              "      box-shadow: 0px 1px 2px rgba(60, 64, 67, 0.3), 0px 1px 3px 1px rgba(60, 64, 67, 0.15);\n",
              "      fill: #174EA6;\n",
              "    }\n",
              "\n",
              "    [theme=dark] .colab-df-convert {\n",
              "      background-color: #3B4455;\n",
              "      fill: #D2E3FC;\n",
              "    }\n",
              "\n",
              "    [theme=dark] .colab-df-convert:hover {\n",
              "      background-color: #434B5C;\n",
              "      box-shadow: 0px 1px 3px 1px rgba(0, 0, 0, 0.15);\n",
              "      filter: drop-shadow(0px 1px 2px rgba(0, 0, 0, 0.3));\n",
              "      fill: #FFFFFF;\n",
              "    }\n",
              "  </style>\n",
              "\n",
              "      <script>\n",
              "        const buttonEl =\n",
              "          document.querySelector('#df-f8f7a0cf-19ef-40fd-80db-6f3c325dec7a button.colab-df-convert');\n",
              "        buttonEl.style.display =\n",
              "          google.colab.kernel.accessAllowed ? 'block' : 'none';\n",
              "\n",
              "        async function convertToInteractive(key) {\n",
              "          const element = document.querySelector('#df-f8f7a0cf-19ef-40fd-80db-6f3c325dec7a');\n",
              "          const dataTable =\n",
              "            await google.colab.kernel.invokeFunction('convertToInteractive',\n",
              "                                                     [key], {});\n",
              "          if (!dataTable) return;\n",
              "\n",
              "          const docLinkHtml = 'Like what you see? Visit the ' +\n",
              "            '<a target=\"_blank\" href=https://colab.research.google.com/notebooks/data_table.ipynb>data table notebook</a>'\n",
              "            + ' to learn more about interactive tables.';\n",
              "          element.innerHTML = '';\n",
              "          dataTable['output_type'] = 'display_data';\n",
              "          await google.colab.output.renderOutput(dataTable, element);\n",
              "          const docLink = document.createElement('div');\n",
              "          docLink.innerHTML = docLinkHtml;\n",
              "          element.appendChild(docLink);\n",
              "        }\n",
              "      </script>\n",
              "    </div>\n",
              "  </div>\n",
              "  "
            ]
          },
          "metadata": {},
          "execution_count": 46
        },
        {
          "output_type": "display_data",
          "data": {
            "text/plain": [
              "<Figure size 432x288 with 2 Axes>"
            ],
            "image/png": "[encoded data removed]"
          },
          "metadata": {
            "needs_background": "light"
          }
        }
      ]
    },
    {
      "cell_type": "code",
      "source": [
        "# Accuracy and loss of weighted GRU model\n",
        "performance_history(history_GRU_weighted, \"Weighted GRU\", image_path, 'accuracy')\n",
        "performance_history(history_GRU_weighted, \"Weighted GRU\", image_path, 'loss')"
      ],
      "metadata": {
        "id": "xjP6yuQtN_Mg",
        "colab": {
          "base_uri": "https://localhost:8080/",
          "height": 573
        },
        "outputId": "1e8b1238-9654-4ddb-fc1f-49fdb88c2e59"
      },
      "execution_count": null,
      "outputs": [
        {
          "output_type": "display_data",
          "data": {
            "text/plain": [
              "<Figure size 432x288 with 1 Axes>"
            ],
            "image/png": "[encoded data removed]"
          },
          "metadata": {
            "needs_background": "light"
          }
        },
        {
          "output_type": "display_data",
          "data": {
            "text/plain": [
              "<Figure size 432x288 with 1 Axes>"
            ],
            "image/png": "[encoded data removed]"
          },
          "metadata": {
            "needs_background": "light"
          }
        }
      ]
    },
    {
      "cell_type": "code",
      "execution_count": null,
      "metadata": {
        "id": "Ba9OdfC9EbfU",
        "colab": {
          "base_uri": "https://localhost:8080/"
        },
        "outputId": "8ffe9e8f-8a27-42a6-f5f1-87509f68be63"
      },
      "outputs": [
        {
          "output_type": "stream",
          "name": "stderr",
          "text": [
            "WARNING:tensorflow:Layer lstm_1 will not use cuDNN kernels since it doesn't meet the criteria. It will use a generic GPU kernel as fallback when running on GPU.\n",
            "WARNING:tensorflow:Layer lstm_1 will not use cuDNN kernels since it doesn't meet the criteria. It will use a generic GPU kernel as fallback when running on GPU.\n",
            "WARNING:tensorflow:Layer lstm_1 will not use cuDNN kernels since it doesn't meet the criteria. It will use a generic GPU kernel as fallback when running on GPU.\n"
          ]
        },
        {
          "output_type": "stream",
          "name": "stdout",
          "text": [
            "Epoch 1/15\n",
            "44/44 [==============================] - 27s 531ms/step - loss: 1.0217 - accuracy: 0.5510 - val_loss: 0.8796 - val_accuracy: 0.6386\n",
            "Epoch 2/15\n",
            "44/44 [==============================] - 21s 483ms/step - loss: 0.9038 - accuracy: 0.6120 - val_loss: 0.8443 - val_accuracy: 0.6172\n",
            "Epoch 3/15\n",
            "44/44 [==============================] - 21s 477ms/step - loss: 0.8501 - accuracy: 0.6285 - val_loss: 0.7483 - val_accuracy: 0.6922\n",
            "Epoch 4/15\n",
            "44/44 [==============================] - 21s 475ms/step - loss: 0.8134 - accuracy: 0.6453 - val_loss: 0.7343 - val_accuracy: 0.6765\n",
            "Epoch 5/15\n",
            "44/44 [==============================] - 21s 467ms/step - loss: 0.7897 - accuracy: 0.6547 - val_loss: 0.7645 - val_accuracy: 0.6628\n",
            "Epoch 6/15\n",
            "44/44 [==============================] - 21s 479ms/step - loss: 0.7663 - accuracy: 0.6648 - val_loss: 0.7338 - val_accuracy: 0.6712\n",
            "Epoch 7/15\n",
            "44/44 [==============================] - 21s 471ms/step - loss: 0.7415 - accuracy: 0.6701 - val_loss: 0.7283 - val_accuracy: 0.6777\n",
            "Epoch 8/15\n",
            "44/44 [==============================] - 20s 464ms/step - loss: 0.7282 - accuracy: 0.6690 - val_loss: 0.7659 - val_accuracy: 0.6535\n",
            "Epoch 9/15\n",
            "44/44 [==============================] - 21s 479ms/step - loss: 0.7135 - accuracy: 0.6785 - val_loss: 0.7407 - val_accuracy: 0.6636\n",
            "Epoch 10/15\n",
            "44/44 [==============================] - 23s 516ms/step - loss: 0.7000 - accuracy: 0.6780 - val_loss: 0.6288 - val_accuracy: 0.7366\n",
            "Epoch 11/15\n",
            "44/44 [==============================] - 21s 477ms/step - loss: 0.6783 - accuracy: 0.6982 - val_loss: 0.6922 - val_accuracy: 0.7047\n",
            "Epoch 12/15\n",
            "44/44 [==============================] - 21s 473ms/step - loss: 0.6666 - accuracy: 0.6994 - val_loss: 0.7930 - val_accuracy: 0.6160\n",
            "Epoch 13/15\n",
            "44/44 [==============================] - 21s 474ms/step - loss: 0.6521 - accuracy: 0.6976 - val_loss: 0.6903 - val_accuracy: 0.6962\n",
            "Epoch 14/15\n",
            "44/44 [==============================] - 21s 472ms/step - loss: 0.6485 - accuracy: 0.7009 - val_loss: 0.6579 - val_accuracy: 0.7265\n",
            "Epoch 15/15\n",
            "44/44 [==============================] - 21s 470ms/step - loss: 0.6260 - accuracy: 0.7186 - val_loss: 0.7263 - val_accuracy: 0.6708\n"
          ]
        }
      ],
      "source": [
        "# # Train the model\n",
        "# model_lstm_weighted = build_LSTM_model()\n",
        "# history_lstm_weighted = model_lstm_weighted.fit(X_train_padding, y=y_train_encode, batch_size=512, epochs=15, verbose=1, validation_data=(X_test_padding, y_test_encode), class_weight = class_weights)"
      ]
    },
    {
      "cell_type": "code",
      "execution_count": null,
      "metadata": {
        "id": "UjYxHy5wEfSx",
        "colab": {
          "base_uri": "https://localhost:8080/",
          "height": 794
        },
        "outputId": "26a5454d-9a31-4638-c46a-bc4f2e1e12b2"
      },
      "outputs": [
        {
          "output_type": "stream",
          "name": "stdout",
          "text": [
            "Model: \"sequential_3\"\n",
            "_________________________________________________________________\n",
            " Layer (type)                Output Shape              Param #   \n",
            "=================================================================\n",
            " embedding_3 (Embedding)     (None, 60, 100)           1781600   \n",
            "                                                                 \n",
            " spatial_dropout1d_3 (Spatia  (None, 60, 100)          0         \n",
            " lDropout1D)                                                     \n",
            "                                                                 \n",
            " bidirectional_3 (Bidirectio  (None, 200)              160800    \n",
            " nal)                                                            \n",
            "                                                                 \n",
            " dense_6 (Dense)             (None, 100)               20100     \n",
            "                                                                 \n",
            " dropout_3 (Dropout)         (None, 100)               0         \n",
            "                                                                 \n",
            " dense_7 (Dense)             (None, 3)                 303       \n",
            "                                                                 \n",
            " activation_3 (Activation)   (None, 3)                 0         \n",
            "                                                                 \n",
            "=================================================================\n",
            "Total params: 1,962,803\n",
            "Trainable params: 181,203\n",
            "Non-trainable params: 1,781,600\n",
            "_________________________________________________________________\n",
            "78/78 [==============================] - 3s 31ms/step\n"
          ]
        },
        {
          "output_type": "execute_result",
          "data": {
            "text/plain": [
              "         Time     Model Name  Precision  Recall  F1 Score  Accuracy\n",
              "0  2022-12-11  Weighted LSTM   0.563203  0.6656  0.557435  0.670835"
            ],
            "text/html": [
              "\n",
              "  <div id=\"df-87e40a62-dad6-41ee-8292-16ebd606b792\">\n",
              "    <div class=\"colab-df-container\">\n",
              "      <div>\n",
              "<style scoped>\n",
              "    .dataframe tbody tr th:only-of-type {\n",
              "        vertical-align: middle;\n",
              "    }\n",
              "\n",
              "    .dataframe tbody tr th {\n",
              "        vertical-align: top;\n",
              "    }\n",
              "\n",
              "    .dataframe thead th {\n",
              "        text-align: right;\n",
              "    }\n",
              "</style>\n",
              "<table border=\"1\" class=\"dataframe\">\n",
              "  <thead>\n",
              "    <tr style=\"text-align: right;\">\n",
              "      <th></th>\n",
              "      <th>Time</th>\n",
              "      <th>Model Name</th>\n",
              "      <th>Precision</th>\n",
              "      <th>Recall</th>\n",
              "      <th>F1 Score</th>\n",
              "      <th>Accuracy</th>\n",
              "    </tr>\n",
              "  </thead>\n",
              "  <tbody>\n",
              "    <tr>\n",
              "      <th>0</th>\n",
              "      <td>2022-12-11</td>\n",
              "      <td>Weighted LSTM</td>\n",
              "      <td>0.563203</td>\n",
              "      <td>0.6656</td>\n",
              "      <td>0.557435</td>\n",
              "      <td>0.670835</td>\n",
              "    </tr>\n",
              "  </tbody>\n",
              "</table>\n",
              "</div>\n",
              "      <button class=\"colab-df-convert\" onclick=\"convertToInteractive('df-87e40a62-dad6-41ee-8292-16ebd606b792')\"\n",
              "              title=\"Convert this dataframe to an interactive table.\"\n",
              "              style=\"display:none;\">\n",
              "        \n",
              "  <svg xmlns=\"http://www.w3.org/2000/svg\" height=\"24px\"viewBox=\"0 0 24 24\"\n",
              "       width=\"24px\">\n",
              "    <path d=\"M0 0h24v24H0V0z\" fill=\"none\"/>\n",
              "    <path d=\"M18.56 5.44l.94 2.06.94-2.06 2.06-.94-2.06-.94-.94-2.06-.94 2.06-2.06.94zm-11 1L8.5 8.5l.94-2.06 2.06-.94-2.06-.94L8.5 2.5l-.94 2.06-2.06.94zm10 10l.94 2.06.94-2.06 2.06-.94-2.06-.94-.94-2.06-.94 2.06-2.06.94z\"/><path d=\"M17.41 7.96l-1.37-1.37c-.4-.4-.92-.59-1.43-.59-.52 0-1.04.2-1.43.59L10.3 9.45l-7.72 7.72c-.78.78-.78 2.05 0 2.83L4 21.41c.39.39.9.59 1.41.59.51 0 1.02-.2 1.41-.59l7.78-7.78 2.81-2.81c.8-.78.8-2.07 0-2.86zM5.41 20L4 18.59l7.72-7.72 1.47 1.35L5.41 20z\"/>\n",
              "  </svg>\n",
              "      </button>\n",
              "      \n",
              "  <style>\n",
              "    .colab-df-container {\n",
              "      display:flex;\n",
              "      flex-wrap:wrap;\n",
              "      gap: 12px;\n",
              "    }\n",
              "\n",
              "    .colab-df-convert {\n",
              "      background-color: #E8F0FE;\n",
              "      border: none;\n",
              "      border-radius: 50%;\n",
              "      cursor: pointer;\n",
              "      display: none;\n",
              "      fill: #1967D2;\n",
              "      height: 32px;\n",
              "      padding: 0 0 0 0;\n",
              "      width: 32px;\n",
              "    }\n",
              "\n",
              "    .colab-df-convert:hover {\n",
              "      background-color: #E2EBFA;\n",
              "      box-shadow: 0px 1px 2px rgba(60, 64, 67, 0.3), 0px 1px 3px 1px rgba(60, 64, 67, 0.15);\n",
              "      fill: #174EA6;\n",
              "    }\n",
              "\n",
              "    [theme=dark] .colab-df-convert {\n",
              "      background-color: #3B4455;\n",
              "      fill: #D2E3FC;\n",
              "    }\n",
              "\n",
              "    [theme=dark] .colab-df-convert:hover {\n",
              "      background-color: #434B5C;\n",
              "      box-shadow: 0px 1px 3px 1px rgba(0, 0, 0, 0.15);\n",
              "      filter: drop-shadow(0px 1px 2px rgba(0, 0, 0, 0.3));\n",
              "      fill: #FFFFFF;\n",
              "    }\n",
              "  </style>\n",
              "\n",
              "      <script>\n",
              "        const buttonEl =\n",
              "          document.querySelector('#df-87e40a62-dad6-41ee-8292-16ebd606b792 button.colab-df-convert');\n",
              "        buttonEl.style.display =\n",
              "          google.colab.kernel.accessAllowed ? 'block' : 'none';\n",
              "\n",
              "        async function convertToInteractive(key) {\n",
              "          const element = document.querySelector('#df-87e40a62-dad6-41ee-8292-16ebd606b792');\n",
              "          const dataTable =\n",
              "            await google.colab.kernel.invokeFunction('convertToInteractive',\n",
              "                                                     [key], {});\n",
              "          if (!dataTable) return;\n",
              "\n",
              "          const docLinkHtml = 'Like what you see? Visit the ' +\n",
              "            '<a target=\"_blank\" href=https://colab.research.google.com/notebooks/data_table.ipynb>data table notebook</a>'\n",
              "            + ' to learn more about interactive tables.';\n",
              "          element.innerHTML = '';\n",
              "          dataTable['output_type'] = 'display_data';\n",
              "          await google.colab.output.renderOutput(dataTable, element);\n",
              "          const docLink = document.createElement('div');\n",
              "          docLink.innerHTML = docLinkHtml;\n",
              "          element.appendChild(docLink);\n",
              "        }\n",
              "      </script>\n",
              "    </div>\n",
              "  </div>\n",
              "  "
            ]
          },
          "metadata": {},
          "execution_count": 35
        },
        {
          "output_type": "display_data",
          "data": {
            "text/plain": [
              "<Figure size 432x288 with 2 Axes>"
            ],
            "image/png": "[encoded data removed]"
          },
          "metadata": {
            "needs_background": "light"
          }
        }
      ],
      "source": [
        "# model_lstm_weighted.summary()\n",
        "# performance_report(model_lstm_weighted, \"Weighted LSTM\", image_path, X_test_padding, y_test_encode)"
      ]
    },
    {
      "cell_type": "code",
      "execution_count": null,
      "metadata": {
        "id": "O8XyeCSUUeoz",
        "colab": {
          "base_uri": "https://localhost:8080/",
          "height": 573
        },
        "outputId": "7726407f-5fd2-4ab8-8c79-0e5e8c5ddf1b"
      },
      "outputs": [
        {
          "output_type": "display_data",
          "data": {
            "text/plain": [
              "<Figure size 432x288 with 1 Axes>"
            ],
            "image/png": "[encoded data removed]"
          },
          "metadata": {
            "needs_background": "light"
          }
        },
        {
          "output_type": "display_data",
          "data": {
            "text/plain": [
              "<Figure size 432x288 with 1 Axes>"
            ],
            "image/png": "[encoded data removed]"
          },
          "metadata": {
            "needs_background": "light"
          }
        }
      ],
      "source": [
        "# # Accuracy and loss of weighted LSTM model\n",
        "# performance_history(history_lstm_weighted, \"Weighted LSTM\", image_path, 'accuracy')\n",
        "# performance_history(history_lstm_weighted, \"Weighted LSTM\", image_path, 'loss')"
      ]
    },
    {
      "cell_type": "markdown",
      "metadata": {
        "id": "CVm4ojctUgne"
      },
      "source": [
        "### 6.3 Save the models"
      ]
    },
    {
      "cell_type": "code",
      "execution_count": null,
      "metadata": {
        "id": "7ABHLE6MGmPe"
      },
      "outputs": [],
      "source": [
        "def save_model(model, model_name, model_path):\n",
        "    model.save(model_path + model_name)"
      ]
    },
    {
      "cell_type": "code",
      "execution_count": null,
      "metadata": {
        "id": "l9bYVxDtGn1o"
      },
      "outputs": [],
      "source": [
        "save_model(model_rnn, \"Simple_RNN_Model\", model_path)\n",
        "save_model(model_lstm, \"LSTM_Model\", model_path)\n",
        "save_model(model_gru, \"GRU_Model\", model_path)\n",
        "save_model(model_GRU_weighted, \"Weighted_GRU_Model\", model_path)"
      ]
    },
    {
      "cell_type": "markdown",
      "metadata": {
        "id": "SJ8XmF5XUz2u"
      },
      "source": [
        "# **7. Test the model on new data**"
      ]
    },
    {
      "cell_type": "markdown",
      "metadata": {
        "id": "peUPiTQEVAZK"
      },
      "source": [
        "### 7.1 Load the models"
      ]
    },
    {
      "cell_type": "code",
      "execution_count": null,
      "metadata": {
        "id": "_5m6wuozUs5D",
        "colab": {
          "base_uri": "https://localhost:8080/"
        },
        "outputId": "eff5e058-7610-4996-c37b-2d6f475daa7b"
      },
      "outputs": [
        {
          "output_type": "stream",
          "name": "stderr",
          "text": [
            "WARNING:tensorflow:Layer gru_1 will not use cuDNN kernels since it doesn't meet the criteria. It will use a generic GPU kernel as fallback when running on GPU.\n",
            "WARNING:tensorflow:Layer gru_1 will not use cuDNN kernels since it doesn't meet the criteria. It will use a generic GPU kernel as fallback when running on GPU.\n",
            "WARNING:tensorflow:Layer gru_1 will not use cuDNN kernels since it doesn't meet the criteria. It will use a generic GPU kernel as fallback when running on GPU.\n",
            "WARNING:tensorflow:Layer gru will not use cuDNN kernels since it doesn't meet the criteria. It will use a generic GPU kernel as fallback when running on GPU.\n",
            "WARNING:tensorflow:Layer gru will not use cuDNN kernels since it doesn't meet the criteria. It will use a generic GPU kernel as fallback when running on GPU.\n",
            "WARNING:tensorflow:Layer gru will not use cuDNN kernels since it doesn't meet the criteria. It will use a generic GPU kernel as fallback when running on GPU.\n"
          ]
        }
      ],
      "source": [
        "from tensorflow.keras.models import load_model\n",
        "weighted_GRU_model = load_model('/content/drive/MyDrive/L645/project/word2vec/Weighted_GRU_Model')\n",
        "gru_model = load_model('/content/drive/MyDrive/L645/project/word2vec/GRU_Model')"
      ]
    },
    {
      "cell_type": "markdown",
      "metadata": {
        "id": "_ixGk5_FVLAr"
      },
      "source": [
        "### 7.2 Prepare the data"
      ]
    },
    {
      "cell_type": "code",
      "execution_count": null,
      "metadata": {
        "id": "iR3whkTGUs1q",
        "colab": {
          "base_uri": "https://localhost:8080/"
        },
        "outputId": "4acf38c3-23ad-49c9-ba05-69e40d3cca9f"
      },
      "outputs": [
        {
          "name": "stdout",
          "output_type": "stream",
          "text": [
            "This movie is a piece of shit\n"
          ]
        }
      ],
      "source": [
        "# Tweet to predict\n",
        "tweet = input()\n",
        "\n",
        "# Convert into dataframe\n",
        "test_data = pd.DataFrame(columns=['tweet'])\n",
        "test_data.loc[0, 'tweet'] = tweet\n",
        "\n",
        "# Replace contractions from tweets\n",
        "test_data[\"tweet\"] = test_data.tweet.apply(replace_contraction)\n",
        "\n",
        "# Clean the tweets\n",
        "test_data[\"tweet\"] = test_data.tweet.apply(clean_tweets)\n",
        "\n",
        "# Remove stop words\n",
        "test_data['tweet'] = test_data.tweet.apply(remove_stop_words)\n",
        "\n",
        "# Lemmatize\n",
        "test_data['tweet'] = list(map(lemmatize_tweets, test_data['tweet']))\n",
        "\n",
        "# Text to sequences\n",
        "test_data_sequence = tokenizer.texts_to_sequences(test_data['tweet'])\n",
        "\n",
        "# Padding\n",
        "test_data_padding = pad_sequences(test_data_sequence, maxlen = MAX_LENGTH, padding = 'post', truncating = 'post')"
      ]
    },
    {
      "cell_type": "markdown",
      "metadata": {
        "id": "G62y33yDVfg4"
      },
      "source": [
        "### 7.3 Predict"
      ]
    },
    {
      "cell_type": "code",
      "execution_count": null,
      "metadata": {
        "id": "9lqelq2nU9Xw",
        "colab": {
          "base_uri": "https://localhost:8080/"
        },
        "outputId": "0bc3a967-7afb-4ef5-8b77-4b97b9e0b269"
      },
      "outputs": [
        {
          "output_type": "stream",
          "name": "stdout",
          "text": [
            "1/1 [==============================] - 0s 478ms/step\n",
            "Offensive Language\n",
            "1/1 [==============================] - 1s 513ms/step\n",
            "Neither\n"
          ]
        }
      ],
      "source": [
        "# This function predicts the class of a provided tweet\n",
        "def predict_tweet(model, data):\n",
        "    predictions = model.predict(data)\n",
        "    prediction = np.argmax(predictions, axis = 1)\n",
        "    if prediction == 0:\n",
        "        print(\"Hate Speech\")\n",
        "    elif prediction == 1:\n",
        "        print(\"Offensive Language\")\n",
        "    else:\n",
        "        print(\"Neither\")\n",
        "        \n",
        "# Predict class of a tweet\n",
        "\n",
        "# Prediction using unweighted lstm model\n",
        "predict_tweet(gru_model, test_data_padding)\n",
        "\n",
        "# Prediction using weighted lstm model\n",
        "predict_tweet(weighted_GRU_model, test_data_padding)"
      ]
    }
  ],
  "metadata": {
    "accelerator": "GPU",
    "colab": {
      "collapsed_sections": [
        "tXkEC8zyKGwl",
        "LCAZUmjTL9wM"
      ],
      "provenance": [],
      "include_colab_link": true
    },
    "gpuClass": "standard",
    "kernelspec": {
      "display_name": "Python 3",
      "name": "python3"
    },
    "language_info": {
      "name": "python"
    }
  },
  "nbformat": 4,
  "nbformat_minor": 0
}