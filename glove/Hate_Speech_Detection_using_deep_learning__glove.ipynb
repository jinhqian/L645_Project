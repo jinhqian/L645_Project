{
  "cells": [
    {
      "cell_type": "markdown",
      "metadata": {
        "id": "view-in-github",
        "colab_type": "text"
      },
      "source": [
        "<a href=\"https://colab.research.google.com/github/jinhqian/L645_project/blob/main/glove/Hate_Speech_Detection_using_deep_learning__glove.ipynb\" target=\"_parent\"><img src=\"https://colab.research.google.com/assets/colab-badge.svg\" alt=\"Open In Colab\"/></a>"
      ]
    },
    {
      "cell_type": "markdown",
      "metadata": {
        "id": "ZgwdyVxvQXHP"
      },
      "source": [
        "# **1. Dataset**"
      ]
    },
    {
      "cell_type": "markdown",
      "metadata": {
        "id": "JkHSVdYmWc6m"
      },
      "source": [
        "### 1.1 Load the dataset"
      ]
    },
    {
      "cell_type": "code",
      "execution_count": null,
      "metadata": {
        "id": "9Qh99FEcuqSe"
      },
      "outputs": [],
      "source": [
        "# load the data\n",
        "import pandas as pd\n",
        "dataset = pd.read_csv(\"/content/drive/MyDrive/L645/data/labeled_data.csv\")"
      ]
    },
    {
      "cell_type": "markdown",
      "metadata": {
        "id": "dAuaXQ6-Wgq4"
      },
      "source": [
        "### 1.2 Data analysis"
      ]
    },
    {
      "cell_type": "code",
      "execution_count": null,
      "metadata": {
        "colab": {
          "base_uri": "https://localhost:8080/"
        },
        "id": "tx22FcqauqNF",
        "outputId": "c6305154-23cf-4c3d-c410-a17b3156e41e"
      },
      "outputs": [
        {
          "output_type": "stream",
          "name": "stdout",
          "text": [
            "1430\n",
            "19190\n",
            "4163\n"
          ]
        },
        {
          "output_type": "execute_result",
          "data": {
            "text/plain": [
              "Index                 0\n",
              "count                 0\n",
              "hate_speech           0\n",
              "offensive_language    0\n",
              "neither               0\n",
              "class                 0\n",
              "tweet                 0\n",
              "dtype: int64"
            ]
          },
          "metadata": {},
          "execution_count": 2
        }
      ],
      "source": [
        "# Number of tweets that are annotated as hate-speech\n",
        "print(sum(dataset['class'] == 0))\n",
        "\n",
        "# Number of tweets that are annotated as offensive language\n",
        "print(sum(dataset['class'] == 1))\n",
        "\n",
        "# Number of tweets that are annotated as neither hate-speech nor offensive\n",
        "print(sum(dataset['class'] == 2))\n",
        "\n",
        "# # Check if there are any null values in the dataset\n",
        "dataset.isna().sum()"
      ]
    },
    {
      "cell_type": "markdown",
      "metadata": {
        "id": "ObYUyRn-Wfsd"
      },
      "source": []
    },
    {
      "cell_type": "markdown",
      "metadata": {
        "id": "pgG9svUUWmL_"
      },
      "source": [
        "### 1.3 Data visualization"
      ]
    },
    {
      "cell_type": "code",
      "execution_count": null,
      "metadata": {
        "colab": {
          "base_uri": "https://localhost:8080/",
          "height": 299
        },
        "id": "K49Kk5kdyQb9",
        "outputId": "13fbccf9-20d9-49b9-b37a-39e370638265"
      },
      "outputs": [
        {
          "output_type": "execute_result",
          "data": {
            "text/plain": [
              "<matplotlib.axes._subplots.AxesSubplot at 0x7f8f548a51f0>"
            ]
          },
          "metadata": {},
          "execution_count": 3
        },
        {
          "output_type": "display_data",
          "data": {
            "text/plain": [
              "<Figure size 432x288 with 1 Axes>"
            ],
            "image/png": "[encoded data removed]"
          },
          "metadata": {
            "needs_background": "light"
          }
        }
      ],
      "source": [
        "# 0 for hate speech\n",
        "# 1 for offensive language\n",
        "# 2 for neither hate-speech nor offensive\n",
        "\n",
        "import seaborn as sns\n",
        "sns.countplot(x = 'class', data = dataset)"
      ]
    },
    {
      "cell_type": "markdown",
      "metadata": {
        "id": "Cw4ztbU0yghl"
      },
      "source": [
        "# **2. Data preprocessing**"
      ]
    },
    {
      "cell_type": "markdown",
      "metadata": {
        "id": "DYEVMqkHVwnr"
      },
      "source": [
        "### 2.1 Data cleaning"
      ]
    },
    {
      "cell_type": "code",
      "execution_count": null,
      "metadata": {
        "id": "Xp50as5BchzC",
        "colab": {
          "base_uri": "https://localhost:8080/"
        },
        "outputId": "ffc9d91d-e294-4d8e-bb59-b521fbccb798"
      },
      "outputs": [
        {
          "output_type": "stream",
          "name": "stderr",
          "text": [
            "[nltk_data] Downloading package stopwords to /root/nltk_data...\n",
            "[nltk_data]   Unzipping corpora/stopwords.zip.\n",
            "[nltk_data] Downloading package punkt to /root/nltk_data...\n",
            "[nltk_data]   Unzipping tokenizers/punkt.zip.\n"
          ]
        },
        {
          "output_type": "execute_result",
          "data": {
            "text/plain": [
              "True"
            ]
          },
          "metadata": {},
          "execution_count": 4
        }
      ],
      "source": [
        "import nltk, re\n",
        "from nltk.tokenize import word_tokenize\n",
        "from nltk.corpus import stopwords\n",
        "from collections import Counter\n",
        "nltk.download('stopwords')\n",
        "nltk.download('punkt')"
      ]
    },
    {
      "cell_type": "code",
      "execution_count": null,
      "metadata": {
        "id": "bpIwDHuyygT7",
        "colab": {
          "base_uri": "https://localhost:8080/"
        },
        "outputId": "81918fcf-a2a5-4876-88d5-40b6a1b79b7d"
      },
      "outputs": [
        {
          "output_type": "stream",
          "name": "stdout",
          "text": [
            "0        atusername woman complain cleaning house andam...\n",
            "1        atusername boy dats cold tyga dwn bad cuffin d...\n",
            "2        atusername dawg atusername ever fuck bitch sta...\n",
            "3                   atusername atusername look like tranny\n",
            "4        atusername shit hear might true might faker bi...\n",
            "                               ...                        \n",
            "24778    muthaf lie atusername atusername right tl tras...\n",
            "24779      gone broke wrong heart baby drove redneck crazy\n",
            "24780    young buck wan na eat dat nigguh like aint fuc...\n",
            "24781                    youu got wild bitches tellin lies\n",
            "24782    ruffled ntac eileen dahlia beautiful color com...\n",
            "Name: tweet, Length: 24783, dtype: object\n"
          ]
        }
      ],
      "source": [
        "stop_words = stopwords.words('english')\n",
        "stop_words_dict = Counter(stop_words)\n",
        "contract_patterns = [(r'won\\'t', 'will not'), (r'can\\'t', 'cannot'), (r'i\\'m', 'i am'), (r'ain\\'t', 'be not'), (r'(\\w+)\\'ll', '\\g<1> will'), (r'(\\w+)n\\'t', '\\g<1> not'),\n",
        "                        (r'(\\w+)\\'ve', '\\g<1> have'), (r'(\\w+)\\'s', '\\g<1> is'), (r'(\\w+)\\'re', '\\g<1> are'), (r'(\\w+)\\'d', '\\g<1> would'), (r'&', 'and'), (r'dammit', 'damn it')]\n",
        "\n",
        "# Replace contractions from tweets\n",
        "def replace_contraction(text):\n",
        "    patterns = [(re.compile(regex), rpl) for (regex, rpl) in contract_patterns]\n",
        "    for (pattern, rpl) in patterns:\n",
        "        (text, count) = re.subn(pattern, rpl, text)\n",
        "    return text\n",
        "\n",
        "# Clean the tweets by removing and replacing the unrequired characters\n",
        "def clean_tweets(tweet):\n",
        "    tweet = re.sub(r' RT ', ' ', tweet) # Remove RT\n",
        "    tweet = re.sub(r'http\\S+', 'url', tweet) # Replaces url address with \"url\"\n",
        "    tweet = re.sub(r'@[^\\s]+','atusername',tweet) # Replaces \"@user\" with \"atusername\"\n",
        "    tweet = re.sub(r'#[^\\s]+', ' ', tweet) # Removes hastag in front of a word \n",
        "    tweet = re.sub(r'[^\\w\\s]', ' ', tweet) # Remove everything except characters and whitespace\n",
        "    tweet = re.sub(r'[^a-zA-Z] ', ' ', tweet) # Remove numbers\n",
        "    tweet = re.sub(r'\\s\\s+', ' ', tweet) # Remove multiple spaces\n",
        "    tweet = tweet.lower() # Convert each character to lower case and remove spaces around them\n",
        "    return tweet\n",
        "\n",
        "# Removes stop words\n",
        "def remove_stop_words(tweet):\n",
        "    tokens = word_tokenize(tweet)\n",
        "    tokens = [word for word in tokens if word not in stop_words_dict]\n",
        "    return ' '.join(tokens)\n",
        "\n",
        "# Replace contractions in the tweets\n",
        "dataset[\"tweet\"] = dataset.tweet.apply(replace_contraction)\n",
        "\n",
        "# Clean the tweets\n",
        "dataset[\"tweet\"] = dataset.tweet.apply(clean_tweets)\n",
        "\n",
        "# Remove stop words in the tweets\n",
        "dataset['tweet'] = dataset.tweet.apply(remove_stop_words)\n",
        "\n",
        "print(dataset['tweet'])"
      ]
    },
    {
      "cell_type": "markdown",
      "metadata": {
        "id": "7tQJNKk7WAzP"
      },
      "source": [
        "### 2.2 Lemmatization or Stemming"
      ]
    },
    {
      "cell_type": "code",
      "execution_count": null,
      "metadata": {
        "id": "tFVOB3WHrzzL",
        "colab": {
          "base_uri": "https://localhost:8080/"
        },
        "outputId": "e2492c18-bbae-4a0a-d3cc-9fbe3d71c6e2"
      },
      "outputs": [
        {
          "output_type": "stream",
          "name": "stderr",
          "text": [
            "[nltk_data] Downloading package wordnet to /root/nltk_data...\n",
            "[nltk_data] Downloading package omw-1.4 to /root/nltk_data...\n"
          ]
        },
        {
          "output_type": "execute_result",
          "data": {
            "text/plain": [
              "True"
            ]
          },
          "metadata": {},
          "execution_count": 6
        }
      ],
      "source": [
        "from nltk.stem import WordNetLemmatizer, PorterStemmer\n",
        "nltk.download('wordnet')\n",
        "nltk.download('omw-1.4')"
      ]
    },
    {
      "cell_type": "code",
      "execution_count": null,
      "metadata": {
        "id": "wlW_bd-dyaKv",
        "colab": {
          "base_uri": "https://localhost:8080/"
        },
        "outputId": "43750ebe-1097-4b0a-84a4-3324f5383c8c"
      },
      "outputs": [
        {
          "output_type": "execute_result",
          "data": {
            "text/plain": [
              "0        atusername woman complain cleaning house andam...\n",
              "1        atusername boy dat cold tyga dwn bad cuffin da...\n",
              "2        atusername dawg atusername ever fuck bitch sta...\n",
              "3                   atusername atusername look like tranny\n",
              "4        atusername shit hear might true might faker bi...\n",
              "                               ...                        \n",
              "24778    muthaf lie atusername atusername right tl tras...\n",
              "24779      gone broke wrong heart baby drove redneck crazy\n",
              "24780    young buck wan na eat dat nigguh like aint fuc...\n",
              "24781                       youu got wild bitch tellin lie\n",
              "24782    ruffled ntac eileen dahlia beautiful color com...\n",
              "Name: tweet, Length: 24783, dtype: object"
            ]
          },
          "metadata": {},
          "execution_count": 7
        }
      ],
      "source": [
        "# Lemmatization\n",
        "def lemmatize_tweets(tweet):\n",
        "    tokens = word_tokenize(tweet)\n",
        "    lemmatizer = nltk.WordNetLemmatizer()\n",
        "    tokens = [lemmatizer.lemmatize(word) for word in tokens]\n",
        "    return ' '.join(tokens)\n",
        "\n",
        "# Stemming\n",
        "def stemming_tweets(tweet):\n",
        "    tokens = word_tokenize(tweet)\n",
        "    ps = PorterStemmer()\n",
        "    tokens = [ps.stem(word) for word in tokens]\n",
        "    return ' '.join(tokens)\n",
        "\n",
        "# Create word representation\n",
        "def word_representation(dataset, type = 'lemmatization'):\n",
        "    if type == 'lemmatization':\n",
        "        dataset['tweet'] = list(map(lemmatize_tweets, dataset['tweet']))\n",
        "    else:\n",
        "        dataset['tweet'] = list(map(stemming_tweets, dataset['tweet']))\n",
        "    return dataset\n",
        "\n",
        "dataset = word_representation(dataset)\n",
        "dataset[\"tweet\"]"
      ]
    },
    {
      "cell_type": "markdown",
      "metadata": {
        "id": "tXTJ1i9YI2En"
      },
      "source": [
        "# **3. Sequence Data Transformation**"
      ]
    },
    {
      "cell_type": "markdown",
      "metadata": {
        "id": "CaIfbVe3J1LZ"
      },
      "source": [
        "### 3.1 Spliting the dataset into train and test set"
      ]
    },
    {
      "cell_type": "code",
      "execution_count": null,
      "metadata": {
        "id": "htzxhfth1f_N"
      },
      "outputs": [],
      "source": [
        "# Split the train and test dataset\n",
        "from sklearn.model_selection import train_test_split\n",
        "X_train, X_test, y_train, y_test = train_test_split(dataset['tweet'], dataset['class'], random_state = 42, test_size=0.1, shuffle = True)"
      ]
    },
    {
      "cell_type": "markdown",
      "metadata": {
        "id": "uA9YKboLJ_hS"
      },
      "source": [
        "### 3.2 Data preparation using tokenization, data sequence preparation, padding for equal length sequence."
      ]
    },
    {
      "cell_type": "code",
      "execution_count": null,
      "metadata": {
        "id": "EJMInnAO1f7t"
      },
      "outputs": [],
      "source": [
        "# Define Hyperparameters\n",
        "VOCABULARY_SIZE = 2000\n",
        "MAX_LENGTH = 60\n",
        "\n",
        "# Tokenization\n",
        "from keras.preprocessing.text import Tokenizer\n",
        "tokenizer = Tokenizer(num_words=VOCABULARY_SIZE, oov_token = '<OOV>')\n",
        "tokenizer.fit_on_texts(list(X_train) + list(X_test))\n",
        "\n",
        "# Save the toeknizer\n",
        "import pickle\n",
        "with open('tokenizer.pickle', 'wb') as handle:\n",
        "    pickle.dump(tokenizer, handle, protocol=pickle.HIGHEST_PROTOCOL)\n",
        "\n",
        "# Sequences\n",
        "X_train_sequence = tokenizer.texts_to_sequences(X_train)\n",
        "X_test_sequence = tokenizer.texts_to_sequences(X_test)\n",
        "\n",
        "# Padding\n",
        "from keras_preprocessing.sequence import pad_sequences\n",
        "X_train_padding = pad_sequences(X_train_sequence, maxlen = MAX_LENGTH, padding = 'post', truncating = 'post')\n",
        "X_test_padding = pad_sequences(X_test_sequence, maxlen = MAX_LENGTH, padding = 'post', truncating = 'post')\n",
        "\n",
        "word_index = tokenizer.word_index"
      ]
    },
    {
      "cell_type": "markdown",
      "metadata": {
        "id": "tXkEC8zyKGwl"
      },
      "source": [
        "### 3.3 Sequence representation using word embeddings (GloVe, Word2Vec, and Paragram)"
      ]
    },
    {
      "cell_type": "markdown",
      "metadata": {
        "id": "ZXw0SpxmLm5L"
      },
      "source": [
        "### 3.3.1 Golve"
      ]
    },
    {
      "cell_type": "code",
      "execution_count": null,
      "metadata": {
        "id": "qglqkgL_TfOa",
        "colab": {
          "base_uri": "https://localhost:8080/"
        },
        "outputId": "e2bc67ed-4ff2-4e8b-86f2-cee4df7dc06f"
      },
      "outputs": [
        {
          "output_type": "stream",
          "name": "stderr",
          "text": [
            "400000it [00:09, 40302.30it/s]"
          ]
        },
        {
          "output_type": "stream",
          "name": "stdout",
          "text": [
            "Found 400000 word vectors.\n"
          ]
        },
        {
          "output_type": "stream",
          "name": "stderr",
          "text": [
            "\n"
          ]
        }
      ],
      "source": [
        "from tqdm import tqdm\n",
        "import numpy as np\n",
        "glove_embeddings_index = {}\n",
        "f = open('/content/drive/MyDrive/L645/data/glove.6B.100d.txt', encoding='utf8') #100d\n",
        "\n",
        "for line in tqdm(f):\n",
        "    values = line.split()\n",
        "    word = values[0]\n",
        "    coefs = np.asarray(values[1:],dtype='float32')\n",
        "    glove_embeddings_index[word] = coefs\n",
        "f.close()\n",
        "\n",
        "print('Found %s word vectors.' % len(glove_embeddings_index))\n"
      ]
    },
    {
      "cell_type": "code",
      "execution_count": null,
      "metadata": {
        "id": "v_5972Z4TfLq",
        "colab": {
          "base_uri": "https://localhost:8080/"
        },
        "outputId": "3d97b9c7-28d6-40c8-edea-acbc7b6c9d4b"
      },
      "outputs": [
        {
          "output_type": "stream",
          "name": "stderr",
          "text": [
            "100%|██████████| 17815/17815 [00:00<00:00, 574869.41it/s]\n"
          ]
        }
      ],
      "source": [
        "embedding_matrix = np.zeros((len(word_index)+ 1, 100))\n",
        "for word, i in tqdm(word_index.items()):\n",
        "    embedding_vector = glove_embeddings_index.get(word)\n",
        "    if embedding_vector is not None:\n",
        "        embedding_matrix[i] = embedding_vector"
      ]
    },
    {
      "cell_type": "markdown",
      "metadata": {
        "id": "LCAZUmjTL9wM"
      },
      "source": [
        "### 3.3.2 Word2Vec"
      ]
    },
    {
      "cell_type": "code",
      "execution_count": null,
      "metadata": {
        "id": "rvYSgxgJTfI7"
      },
      "outputs": [],
      "source": [
        "# from tqdm import tqdm\n",
        "# import numpy as np\n",
        "# W2V_embeddings_index = {}\n",
        "# f = open('/content/drive/MyDrive/L645/data/word2vec.txt', encoding='utf8')  #100d\n",
        "\n",
        "# for line in tqdm(f):\n",
        "#     values = line.split()\n",
        "#     word = values[0]\n",
        "#     coefs = np.asarray(values[1:],dtype='float32')\n",
        "#     W2V_embeddings_index[word] = coefs\n",
        "# f.close()\n",
        "\n",
        "# print('Found %s word vectors.' % len(W2V_embeddings_index))"
      ]
    },
    {
      "cell_type": "code",
      "execution_count": null,
      "metadata": {
        "id": "1Cw4gsSITfGD"
      },
      "outputs": [],
      "source": [
        "# embedding_matrix = np.zeros((len(word_index)+ 1, 100))\n",
        "# for word, i in tqdm(word_index.items()):\n",
        "#     embedding_vector = W2V_embeddings_index.get(word)\n",
        "#     if embedding_vector is not None:\n",
        "#         embedding_matrix[i] = embedding_vector"
      ]
    },
    {
      "cell_type": "markdown",
      "metadata": {
        "id": "F7b2y-GuMx9t"
      },
      "source": [
        "### 3.3.3 Paragram"
      ]
    },
    {
      "cell_type": "code",
      "execution_count": null,
      "metadata": {
        "id": "vvKSn1WDTfDU"
      },
      "outputs": [],
      "source": [
        "# from tqdm import tqdm\n",
        "# import numpy as np\n",
        "# P_embeddings_index = {}\n",
        "# f = open('/content/drive/MyDrive/L645/data/paragram_300_sl999.txt', encoding='utf8')  #300d\n",
        "\n",
        "# for line in tqdm(f):\n",
        "#     values = line.split()\n",
        "#     word = values[0]\n",
        "#     coefs = np.asarray(values[1:])\n",
        "#     P_embeddings_index[word] = coefs\n",
        "# f.close()\n",
        "\n",
        "# print('Found %s word vectors.' % len(P_embeddings_index))"
      ]
    },
    {
      "cell_type": "code",
      "execution_count": null,
      "metadata": {
        "id": "Pov1lAvXTfAz"
      },
      "outputs": [],
      "source": [
        "# embedding_matrix = np.zeros((len(word_index)+ 1, 300))\n",
        "# for word, i in tqdm(word_index.items()):\n",
        "#     embedding_vector = P_embeddings_index.get(word)\n",
        "#     if embedding_vector is not None:\n",
        "#         embedding_matrix[i] = embedding_vector"
      ]
    },
    {
      "cell_type": "markdown",
      "metadata": {
        "id": "ZSOmjAhCNZHW"
      },
      "source": [
        "# **4. Building models**"
      ]
    },
    {
      "cell_type": "code",
      "execution_count": null,
      "metadata": {
        "id": "GH_FHj2zNszn"
      },
      "outputs": [],
      "source": [
        "# binarize the labels for the neural network\n",
        "from keras.utils import np_utils\n",
        "from keras.models import Sequential\n",
        "from tensorflow.keras.layers import Embedding\n",
        "from sklearn.metrics import accuracy_score, precision_score, recall_score, f1_score, confusion_matrix\n",
        "from keras import layers\n",
        "from keras.layers import LSTM, SimpleRNN, GRU\n",
        "from keras.layers import SpatialDropout1D, Bidirectional\n",
        "from keras.layers.core import Dense, Activation, Dropout\n",
        "\n",
        "y_train_encode = np_utils.to_categorical(y_train)\n",
        "y_test_encode = np_utils.to_categorical(y_test)"
      ]
    },
    {
      "cell_type": "markdown",
      "metadata": {
        "id": "IeBbfPR4Nl9p"
      },
      "source": [
        "### 4.1 Simple RNN"
      ]
    },
    {
      "cell_type": "code",
      "execution_count": null,
      "metadata": {
        "id": "Qu_RYUryTe-C"
      },
      "outputs": [],
      "source": [
        "# Build the RNN model\n",
        "def build_RNN_model():\n",
        "    model = Sequential()\n",
        "    model.add(Embedding(len(word_index) + 1, 100, weights = [embedding_matrix], input_length = MAX_LENGTH, trainable = False))\n",
        "    model.add(SpatialDropout1D(0.2))\n",
        "    model.add(Bidirectional(SimpleRNN(100, dropout = 0.2, recurrent_dropout=0.2)))\n",
        "    model.add(Dense(100, activation = 'relu'))\n",
        "    model.add(Dropout(0.2))\n",
        "    model.add(Dense(3))\n",
        "    model.add(Activation('softmax'))\n",
        "    model.compile(loss = 'categorical_crossentropy', optimizer = 'adam', metrics = ['accuracy'])\n",
        "    return model"
      ]
    },
    {
      "cell_type": "code",
      "execution_count": null,
      "metadata": {
        "id": "36mv1LhbTe7T",
        "colab": {
          "base_uri": "https://localhost:8080/"
        },
        "outputId": "8d7056ea-eee8-4b90-d8f0-794ff8b037be"
      },
      "outputs": [
        {
          "output_type": "stream",
          "name": "stdout",
          "text": [
            "Epoch 1/15\n",
            "44/44 [==============================] - 12s 171ms/step - loss: 0.7531 - accuracy: 0.7089 - val_loss: 0.5680 - val_accuracy: 0.7838\n",
            "Epoch 2/15\n",
            "44/44 [==============================] - 7s 164ms/step - loss: 0.5582 - accuracy: 0.7973 - val_loss: 0.5051 - val_accuracy: 0.8302\n",
            "Epoch 3/15\n",
            "44/44 [==============================] - 7s 162ms/step - loss: 0.5015 - accuracy: 0.8199 - val_loss: 0.4405 - val_accuracy: 0.8483\n",
            "Epoch 4/15\n",
            "44/44 [==============================] - 7s 166ms/step - loss: 0.4764 - accuracy: 0.8313 - val_loss: 0.4408 - val_accuracy: 0.8491\n",
            "Epoch 5/15\n",
            "44/44 [==============================] - 7s 164ms/step - loss: 0.4587 - accuracy: 0.8371 - val_loss: 0.4315 - val_accuracy: 0.8471\n",
            "Epoch 6/15\n",
            "44/44 [==============================] - 7s 164ms/step - loss: 0.4473 - accuracy: 0.8425 - val_loss: 0.4053 - val_accuracy: 0.8516\n",
            "Epoch 7/15\n",
            "44/44 [==============================] - 7s 164ms/step - loss: 0.4415 - accuracy: 0.8395 - val_loss: 0.4128 - val_accuracy: 0.8524\n",
            "Epoch 8/15\n",
            "44/44 [==============================] - 7s 164ms/step - loss: 0.4364 - accuracy: 0.8425 - val_loss: 0.3936 - val_accuracy: 0.8620\n",
            "Epoch 9/15\n",
            "44/44 [==============================] - 9s 213ms/step - loss: 0.4267 - accuracy: 0.8444 - val_loss: 0.3839 - val_accuracy: 0.8540\n",
            "Epoch 10/15\n",
            "44/44 [==============================] - 7s 163ms/step - loss: 0.4206 - accuracy: 0.8466 - val_loss: 0.3789 - val_accuracy: 0.8584\n",
            "Epoch 11/15\n",
            "44/44 [==============================] - 7s 162ms/step - loss: 0.4144 - accuracy: 0.8470 - val_loss: 0.3823 - val_accuracy: 0.8495\n",
            "Epoch 12/15\n",
            "44/44 [==============================] - 7s 162ms/step - loss: 0.4078 - accuracy: 0.8465 - val_loss: 0.3671 - val_accuracy: 0.8584\n",
            "Epoch 13/15\n",
            "44/44 [==============================] - 7s 166ms/step - loss: 0.3958 - accuracy: 0.8542 - val_loss: 0.3721 - val_accuracy: 0.8661\n",
            "Epoch 14/15\n",
            "44/44 [==============================] - 7s 164ms/step - loss: 0.3952 - accuracy: 0.8546 - val_loss: 0.3764 - val_accuracy: 0.8620\n",
            "Epoch 15/15\n",
            "44/44 [==============================] - 7s 162ms/step - loss: 0.4037 - accuracy: 0.8520 - val_loss: 0.3753 - val_accuracy: 0.8556\n"
          ]
        }
      ],
      "source": [
        "# Train the model\n",
        "model_rnn = build_RNN_model()\n",
        "history_rnn = model_rnn.fit(X_train_padding, y=y_train_encode, batch_size=512, epochs=15, verbose=1, validation_data=(X_test_padding, y_test_encode))"
      ]
    },
    {
      "cell_type": "markdown",
      "metadata": {
        "id": "dCV7f_PBOmDm"
      },
      "source": [
        "### 4.2 LSTM"
      ]
    },
    {
      "cell_type": "code",
      "execution_count": null,
      "metadata": {
        "id": "57bUUagG-O7-"
      },
      "outputs": [],
      "source": [
        "# Build LSTM model\n",
        "\n",
        "def build_LSTM_model():\n",
        "    model = Sequential()\n",
        "    # model.add(Embedding(len(word_index) + 1, 100, weights = [embedding_matrix], input_length = MAX_LENGTH, trainable = False))\n",
        "    model.add(Embedding(len(word_index) + 1, 100, weights = [embedding_matrix], input_length = MAX_LENGTH, trainable = False))\n",
        "    model.add(SpatialDropout1D(0.2))\n",
        "    model.add(Bidirectional(LSTM(100, dropout = 0.2, recurrent_dropout=0.2)))\n",
        "    model.add(Dense(100, activation = 'relu'))\n",
        "    model.add(Dropout(0.2))\n",
        "    model.add(Dense(3))\n",
        "    model.add(Activation('softmax'))\n",
        "    model.compile(loss = 'categorical_crossentropy', optimizer = 'adam', metrics = ['accuracy'])\n",
        "    return model"
      ]
    },
    {
      "cell_type": "code",
      "execution_count": null,
      "metadata": {
        "id": "la8XICpKOpb5",
        "colab": {
          "base_uri": "https://localhost:8080/"
        },
        "outputId": "2e0c9a0b-bd62-4481-e100-73ea5e64dcbe"
      },
      "outputs": [
        {
          "output_type": "stream",
          "name": "stderr",
          "text": [
            "WARNING:tensorflow:Layer lstm will not use cuDNN kernels since it doesn't meet the criteria. It will use a generic GPU kernel as fallback when running on GPU.\n",
            "WARNING:tensorflow:Layer lstm will not use cuDNN kernels since it doesn't meet the criteria. It will use a generic GPU kernel as fallback when running on GPU.\n",
            "WARNING:tensorflow:Layer lstm will not use cuDNN kernels since it doesn't meet the criteria. It will use a generic GPU kernel as fallback when running on GPU.\n"
          ]
        },
        {
          "output_type": "stream",
          "name": "stdout",
          "text": [
            "Epoch 1/15\n",
            "44/44 [==============================] - 29s 556ms/step - loss: 0.6218 - accuracy: 0.7791 - val_loss: 0.4472 - val_accuracy: 0.8536\n",
            "Epoch 2/15\n",
            "44/44 [==============================] - 22s 503ms/step - loss: 0.4166 - accuracy: 0.8502 - val_loss: 0.3861 - val_accuracy: 0.8588\n",
            "Epoch 3/15\n",
            "44/44 [==============================] - 22s 509ms/step - loss: 0.3675 - accuracy: 0.8605 - val_loss: 0.3452 - val_accuracy: 0.8665\n",
            "Epoch 4/15\n",
            "44/44 [==============================] - 27s 621ms/step - loss: 0.3377 - accuracy: 0.8704 - val_loss: 0.3272 - val_accuracy: 0.8717\n",
            "Epoch 5/15\n",
            "44/44 [==============================] - 22s 504ms/step - loss: 0.3263 - accuracy: 0.8734 - val_loss: 0.3200 - val_accuracy: 0.8762\n",
            "Epoch 6/15\n",
            "44/44 [==============================] - 32s 739ms/step - loss: 0.3182 - accuracy: 0.8763 - val_loss: 0.3148 - val_accuracy: 0.8737\n",
            "Epoch 7/15\n",
            "44/44 [==============================] - 23s 504ms/step - loss: 0.3086 - accuracy: 0.8818 - val_loss: 0.3135 - val_accuracy: 0.8790\n",
            "Epoch 8/15\n",
            "44/44 [==============================] - 22s 501ms/step - loss: 0.3008 - accuracy: 0.8831 - val_loss: 0.3047 - val_accuracy: 0.8790\n",
            "Epoch 9/15\n",
            "44/44 [==============================] - 26s 588ms/step - loss: 0.2947 - accuracy: 0.8864 - val_loss: 0.3114 - val_accuracy: 0.8830\n",
            "Epoch 10/15\n",
            "44/44 [==============================] - 22s 504ms/step - loss: 0.2887 - accuracy: 0.8877 - val_loss: 0.3043 - val_accuracy: 0.8826\n",
            "Epoch 11/15\n",
            "44/44 [==============================] - 22s 509ms/step - loss: 0.2837 - accuracy: 0.8905 - val_loss: 0.2992 - val_accuracy: 0.8814\n",
            "Epoch 12/15\n",
            "44/44 [==============================] - 22s 501ms/step - loss: 0.2816 - accuracy: 0.8912 - val_loss: 0.2980 - val_accuracy: 0.8838\n",
            "Epoch 13/15\n",
            "44/44 [==============================] - 21s 488ms/step - loss: 0.2763 - accuracy: 0.8925 - val_loss: 0.3044 - val_accuracy: 0.8798\n",
            "Epoch 14/15\n",
            "44/44 [==============================] - 21s 487ms/step - loss: 0.2704 - accuracy: 0.8971 - val_loss: 0.2915 - val_accuracy: 0.8895\n",
            "Epoch 15/15\n",
            "44/44 [==============================] - 21s 486ms/step - loss: 0.2710 - accuracy: 0.8956 - val_loss: 0.2911 - val_accuracy: 0.8887\n"
          ]
        }
      ],
      "source": [
        "# Train the model\n",
        "model_lstm = build_LSTM_model()\n",
        "history_lstm = model_lstm.fit(X_train_padding, y=y_train_encode, batch_size=512, epochs=15, verbose=1, validation_data=(X_test_padding, y_test_encode))"
      ]
    },
    {
      "cell_type": "markdown",
      "metadata": {
        "id": "w7h7YavGOyKN"
      },
      "source": [
        "### 4.3 GRU"
      ]
    },
    {
      "cell_type": "code",
      "execution_count": null,
      "metadata": {
        "id": "D3l7UoWPOpX0"
      },
      "outputs": [],
      "source": [
        "# Build GRU model\n",
        "def build_GRU_model():\n",
        "    model = Sequential()\n",
        "    model.add(Embedding(len(word_index) + 1, 100, weights = [embedding_matrix], input_length = MAX_LENGTH, trainable = False))\n",
        "    model.add(SpatialDropout1D(0.2))\n",
        "    model.add(Bidirectional(GRU(100, dropout = 0.2, recurrent_dropout=0.2)))\n",
        "    model.add(Dense(100, activation = 'relu'))\n",
        "    model.add(Dropout(0.2))\n",
        "    model.add(Dense(3))\n",
        "    model.add(Activation('softmax'))\n",
        "    model.compile(loss = 'categorical_crossentropy', optimizer = 'adam', metrics = ['accuracy'])\n",
        "    return model"
      ]
    },
    {
      "cell_type": "code",
      "execution_count": null,
      "metadata": {
        "id": "iq5KvMz4OpVT",
        "colab": {
          "base_uri": "https://localhost:8080/"
        },
        "outputId": "df129b6c-0567-4af1-cce8-1814e41cb264"
      },
      "outputs": [
        {
          "output_type": "stream",
          "name": "stderr",
          "text": [
            "WARNING:tensorflow:Layer gru will not use cuDNN kernels since it doesn't meet the criteria. It will use a generic GPU kernel as fallback when running on GPU.\n",
            "WARNING:tensorflow:Layer gru will not use cuDNN kernels since it doesn't meet the criteria. It will use a generic GPU kernel as fallback when running on GPU.\n",
            "WARNING:tensorflow:Layer gru will not use cuDNN kernels since it doesn't meet the criteria. It will use a generic GPU kernel as fallback when running on GPU.\n"
          ]
        },
        {
          "output_type": "stream",
          "name": "stdout",
          "text": [
            "Epoch 1/15\n",
            "44/44 [==============================] - 24s 458ms/step - loss: 0.6271 - accuracy: 0.7655 - val_loss: 0.4558 - val_accuracy: 0.8503\n",
            "Epoch 2/15\n",
            "44/44 [==============================] - 20s 455ms/step - loss: 0.4073 - accuracy: 0.8550 - val_loss: 0.3715 - val_accuracy: 0.8657\n",
            "Epoch 3/15\n",
            "44/44 [==============================] - 21s 475ms/step - loss: 0.3576 - accuracy: 0.8680 - val_loss: 0.3397 - val_accuracy: 0.8681\n",
            "Epoch 4/15\n",
            "44/44 [==============================] - 20s 456ms/step - loss: 0.3338 - accuracy: 0.8710 - val_loss: 0.3263 - val_accuracy: 0.8745\n",
            "Epoch 5/15\n",
            "44/44 [==============================] - 20s 455ms/step - loss: 0.3235 - accuracy: 0.8747 - val_loss: 0.3181 - val_accuracy: 0.8737\n",
            "Epoch 6/15\n",
            "44/44 [==============================] - 20s 449ms/step - loss: 0.3115 - accuracy: 0.8778 - val_loss: 0.3165 - val_accuracy: 0.8766\n",
            "Epoch 7/15\n",
            "44/44 [==============================] - 20s 458ms/step - loss: 0.3070 - accuracy: 0.8808 - val_loss: 0.3103 - val_accuracy: 0.8770\n",
            "Epoch 8/15\n",
            "44/44 [==============================] - 20s 451ms/step - loss: 0.3007 - accuracy: 0.8839 - val_loss: 0.3089 - val_accuracy: 0.8794\n",
            "Epoch 9/15\n",
            "44/44 [==============================] - 20s 447ms/step - loss: 0.2937 - accuracy: 0.8876 - val_loss: 0.3119 - val_accuracy: 0.8766\n",
            "Epoch 10/15\n",
            "44/44 [==============================] - 19s 443ms/step - loss: 0.2933 - accuracy: 0.8866 - val_loss: 0.3083 - val_accuracy: 0.8770\n",
            "Epoch 11/15\n",
            "44/44 [==============================] - 20s 448ms/step - loss: 0.2869 - accuracy: 0.8880 - val_loss: 0.3058 - val_accuracy: 0.8774\n",
            "Epoch 12/15\n",
            "44/44 [==============================] - 22s 493ms/step - loss: 0.2860 - accuracy: 0.8898 - val_loss: 0.3050 - val_accuracy: 0.8806\n",
            "Epoch 13/15\n",
            "44/44 [==============================] - 20s 448ms/step - loss: 0.2807 - accuracy: 0.8927 - val_loss: 0.3031 - val_accuracy: 0.8810\n",
            "Epoch 14/15\n",
            "44/44 [==============================] - 20s 446ms/step - loss: 0.2790 - accuracy: 0.8930 - val_loss: 0.2990 - val_accuracy: 0.8818\n",
            "Epoch 15/15\n",
            "44/44 [==============================] - 20s 450ms/step - loss: 0.2742 - accuracy: 0.8957 - val_loss: 0.3001 - val_accuracy: 0.8794\n"
          ]
        }
      ],
      "source": [
        "# Train the model\n",
        "model_gru = build_GRU_model()\n",
        "history_gru = model_gru.fit(X_train_padding, y=y_train_encode, batch_size=512, epochs=15, verbose=1, validation_data=(X_test_padding, y_test_encode))"
      ]
    },
    {
      "cell_type": "markdown",
      "metadata": {
        "id": "3MnIvGyDPCp3"
      },
      "source": [
        "# **5. Module Validation and Evaluation**"
      ]
    },
    {
      "cell_type": "code",
      "execution_count": null,
      "metadata": {
        "id": "8WishDk0OpSG"
      },
      "outputs": [],
      "source": [
        "# plot the training and validation accuracy per epoch of a model.\n",
        "def performance_history(history, model_name, image_path, string):\n",
        "    plt.plot(history.history[string])\n",
        "    plt.plot(history.history['val_' + string])\n",
        "    plt.xlabel('Epochs')\n",
        "    plt.ylabel(string)\n",
        "    plt.legend([string, 'val_' + string])\n",
        "    plt.title(model_name + ' ' + string + ' per epoch')\n",
        "    # Save the figure\n",
        "    plt.savefig(image_path + model_name + ' ' + string + ' per epoch.png', dpi = 600)\n",
        "    # Display the figure\n",
        "    plt.show()"
      ]
    },
    {
      "cell_type": "code",
      "execution_count": null,
      "metadata": {
        "id": "lGbIwn_6OpPI"
      },
      "outputs": [],
      "source": [
        "from sklearn import metrics\n",
        "import matplotlib.pyplot as plt\n",
        "# generate the performance report of a model\n",
        "def performance_report(model, model_name, image_path, testX, testy):\n",
        "\n",
        "    time = date.today()\n",
        "    \n",
        "    yhat_probs=model.predict(testX) \n",
        "    yhat_classes = np.argmax(yhat_probs, axis = 1)\n",
        "    ytest = np.argmax(testy, axis = 1)\n",
        "    \n",
        "    accuracy = accuracy_score(ytest, yhat_classes)  # (tp + tn) / (p + n)\n",
        "    precision = precision_score(ytest, yhat_classes, average = 'macro') # tp / (tp + fp)\n",
        "    recall = recall_score(ytest, yhat_classes, average = 'macro') # tp / (tp + fn)\n",
        "    f1 = f1_score(ytest, yhat_classes, average = 'macro') # 2 tp / (2 tp + fp + fn)\n",
        "    \n",
        "    # confusion matrix\n",
        "    cf_matrix = confusion_matrix(ytest, yhat_classes)\n",
        "    cf_display = metrics.ConfusionMatrixDisplay(confusion_matrix = cf_matrix, display_labels = ['Hate', 'Offensive', 'Neither'])\n",
        "    # plot the confusion matrix\n",
        "    cf_display.plot()\n",
        "    # plt.show()\n",
        "    # save the confusion matrix figure\n",
        "    plt.savefig(image_path + model_name + ' performance_report.png', dpi=600)\n",
        "    # figure.savefig(image_path + model_name + ' performance_report.png', dpi=600, transparent=True, bbox_inches='tight')\n",
        "\n",
        "    total_cost_df = pd.DataFrame(\n",
        "            columns=['Time', 'Model Name', 'Precision', 'Recall', 'F1 Score', 'Accuracy'])\n",
        "\n",
        "    total_cost_df = total_cost_df.append(\n",
        "            {'Time': time, \n",
        "             'Precision': precision,\n",
        "             'Model Name': model_name,\n",
        "             'Recall': recall, \n",
        "             'F1 Score': f1,\n",
        "             'Accuracy':accuracy},\n",
        "            ignore_index=True)\n",
        "    return total_cost_df"
      ]
    },
    {
      "cell_type": "code",
      "execution_count": null,
      "metadata": {
        "id": "AcHTaC8iOpMk"
      },
      "outputs": [],
      "source": [
        "## Create folders to save the models and plot\n",
        "import os \n",
        "\n",
        "image_path = '/content/drive/MyDrive/L645/project/glove/images/'\n",
        "model_path = '/content/drive/MyDrive/L645/project/glove/'\n",
        "\n",
        "# Create image and model folder if they don't exist\n",
        "def create_directry(path):\n",
        "    # Check whether the specified path exists or not\n",
        "    isExist = os.path.exists(path)\n",
        "    if not isExist:\n",
        "      # Create a new directory because it does not exist \n",
        "      os.makedirs(path)\n",
        "\n",
        "# Create image path\n",
        "create_directry(image_path)\n",
        "\n",
        "# Create model path\n",
        "create_directry(model_path)"
      ]
    },
    {
      "cell_type": "code",
      "execution_count": null,
      "metadata": {
        "id": "XWdGRi8BOpJc",
        "colab": {
          "base_uri": "https://localhost:8080/",
          "height": 360
        },
        "outputId": "212219b5-37c0-4ab2-c875-125d71670e3b"
      },
      "outputs": [
        {
          "output_type": "stream",
          "name": "stdout",
          "text": [
            "78/78 [==============================] - 1s 10ms/step\n"
          ]
        },
        {
          "output_type": "execute_result",
          "data": {
            "text/plain": [
              "         Time  Model Name  Precision    Recall  F1 Score  Accuracy\n",
              "0  2022-12-11  Simple RNN   0.674852  0.629022  0.592651  0.855587"
            ],
            "text/html": [
              "\n",
              "  <div id=\"df-ab98553f-71e6-4a23-b188-f8acf30238a6\">\n",
              "    <div class=\"colab-df-container\">\n",
              "      <div>\n",
              "<style scoped>\n",
              "    .dataframe tbody tr th:only-of-type {\n",
              "        vertical-align: middle;\n",
              "    }\n",
              "\n",
              "    .dataframe tbody tr th {\n",
              "        vertical-align: top;\n",
              "    }\n",
              "\n",
              "    .dataframe thead th {\n",
              "        text-align: right;\n",
              "    }\n",
              "</style>\n",
              "<table border=\"1\" class=\"dataframe\">\n",
              "  <thead>\n",
              "    <tr style=\"text-align: right;\">\n",
              "      <th></th>\n",
              "      <th>Time</th>\n",
              "      <th>Model Name</th>\n",
              "      <th>Precision</th>\n",
              "      <th>Recall</th>\n",
              "      <th>F1 Score</th>\n",
              "      <th>Accuracy</th>\n",
              "    </tr>\n",
              "  </thead>\n",
              "  <tbody>\n",
              "    <tr>\n",
              "      <th>0</th>\n",
              "      <td>2022-12-11</td>\n",
              "      <td>Simple RNN</td>\n",
              "      <td>0.674852</td>\n",
              "      <td>0.629022</td>\n",
              "      <td>0.592651</td>\n",
              "      <td>0.855587</td>\n",
              "    </tr>\n",
              "  </tbody>\n",
              "</table>\n",
              "</div>\n",
              "      <button class=\"colab-df-convert\" onclick=\"convertToInteractive('df-ab98553f-71e6-4a23-b188-f8acf30238a6')\"\n",
              "              title=\"Convert this dataframe to an interactive table.\"\n",
              "              style=\"display:none;\">\n",
              "        \n",
              "  <svg xmlns=\"http://www.w3.org/2000/svg\" height=\"24px\"viewBox=\"0 0 24 24\"\n",
              "       width=\"24px\">\n",
              "    <path d=\"M0 0h24v24H0V0z\" fill=\"none\"/>\n",
              "    <path d=\"M18.56 5.44l.94 2.06.94-2.06 2.06-.94-2.06-.94-.94-2.06-.94 2.06-2.06.94zm-11 1L8.5 8.5l.94-2.06 2.06-.94-2.06-.94L8.5 2.5l-.94 2.06-2.06.94zm10 10l.94 2.06.94-2.06 2.06-.94-2.06-.94-.94-2.06-.94 2.06-2.06.94z\"/><path d=\"M17.41 7.96l-1.37-1.37c-.4-.4-.92-.59-1.43-.59-.52 0-1.04.2-1.43.59L10.3 9.45l-7.72 7.72c-.78.78-.78 2.05 0 2.83L4 21.41c.39.39.9.59 1.41.59.51 0 1.02-.2 1.41-.59l7.78-7.78 2.81-2.81c.8-.78.8-2.07 0-2.86zM5.41 20L4 18.59l7.72-7.72 1.47 1.35L5.41 20z\"/>\n",
              "  </svg>\n",
              "      </button>\n",
              "      \n",
              "  <style>\n",
              "    .colab-df-container {\n",
              "      display:flex;\n",
              "      flex-wrap:wrap;\n",
              "      gap: 12px;\n",
              "    }\n",
              "\n",
              "    .colab-df-convert {\n",
              "      background-color: #E8F0FE;\n",
              "      border: none;\n",
              "      border-radius: 50%;\n",
              "      cursor: pointer;\n",
              "      display: none;\n",
              "      fill: #1967D2;\n",
              "      height: 32px;\n",
              "      padding: 0 0 0 0;\n",
              "      width: 32px;\n",
              "    }\n",
              "\n",
              "    .colab-df-convert:hover {\n",
              "      background-color: #E2EBFA;\n",
              "      box-shadow: 0px 1px 2px rgba(60, 64, 67, 0.3), 0px 1px 3px 1px rgba(60, 64, 67, 0.15);\n",
              "      fill: #174EA6;\n",
              "    }\n",
              "\n",
              "    [theme=dark] .colab-df-convert {\n",
              "      background-color: #3B4455;\n",
              "      fill: #D2E3FC;\n",
              "    }\n",
              "\n",
              "    [theme=dark] .colab-df-convert:hover {\n",
              "      background-color: #434B5C;\n",
              "      box-shadow: 0px 1px 3px 1px rgba(0, 0, 0, 0.15);\n",
              "      filter: drop-shadow(0px 1px 2px rgba(0, 0, 0, 0.3));\n",
              "      fill: #FFFFFF;\n",
              "    }\n",
              "  </style>\n",
              "\n",
              "      <script>\n",
              "        const buttonEl =\n",
              "          document.querySelector('#df-ab98553f-71e6-4a23-b188-f8acf30238a6 button.colab-df-convert');\n",
              "        buttonEl.style.display =\n",
              "          google.colab.kernel.accessAllowed ? 'block' : 'none';\n",
              "\n",
              "        async function convertToInteractive(key) {\n",
              "          const element = document.querySelector('#df-ab98553f-71e6-4a23-b188-f8acf30238a6');\n",
              "          const dataTable =\n",
              "            await google.colab.kernel.invokeFunction('convertToInteractive',\n",
              "                                                     [key], {});\n",
              "          if (!dataTable) return;\n",
              "\n",
              "          const docLinkHtml = 'Like what you see? Visit the ' +\n",
              "            '<a target=\"_blank\" href=https://colab.research.google.com/notebooks/data_table.ipynb>data table notebook</a>'\n",
              "            + ' to learn more about interactive tables.';\n",
              "          element.innerHTML = '';\n",
              "          dataTable['output_type'] = 'display_data';\n",
              "          await google.colab.output.renderOutput(dataTable, element);\n",
              "          const docLink = document.createElement('div');\n",
              "          docLink.innerHTML = docLinkHtml;\n",
              "          element.appendChild(docLink);\n",
              "        }\n",
              "      </script>\n",
              "    </div>\n",
              "  </div>\n",
              "  "
            ]
          },
          "metadata": {},
          "execution_count": 26
        },
        {
          "output_type": "display_data",
          "data": {
            "text/plain": [
              "<Figure size 432x288 with 2 Axes>"
            ],
            "image/png": "[encoded data removed]"
          },
          "metadata": {
            "needs_background": "light"
          }
        }
      ],
      "source": [
        "# Compare models\n",
        "from datetime import date\n",
        "import seaborn as sns\n",
        "from sklearn.metrics import accuracy_score, precision_score, recall_score, f1_score, confusion_matrix\n",
        "import seaborn as sns\n",
        "import matplotlib.pyplot as plt\n",
        "rnn_report = performance_report(model_rnn, \"Simple RNN\", image_path, X_test_padding, y_test_encode)\n",
        "rnn_report"
      ]
    },
    {
      "cell_type": "code",
      "execution_count": null,
      "metadata": {
        "id": "Q-jYQl7MZJ9N",
        "colab": {
          "base_uri": "https://localhost:8080/",
          "height": 360
        },
        "outputId": "b68714e4-2f7a-4d9d-9942-f4030404843e"
      },
      "outputs": [
        {
          "output_type": "stream",
          "name": "stdout",
          "text": [
            "78/78 [==============================] - 3s 32ms/step\n"
          ]
        },
        {
          "output_type": "execute_result",
          "data": {
            "text/plain": [
              "         Time Model Name  Precision    Recall  F1 Score  Accuracy\n",
              "0  2022-12-11       LSTM   0.761822  0.710427  0.725808  0.888665"
            ],
            "text/html": [
              "\n",
              "  <div id=\"df-c75afcca-1bb2-4e12-b4ab-4327db5e512e\">\n",
              "    <div class=\"colab-df-container\">\n",
              "      <div>\n",
              "<style scoped>\n",
              "    .dataframe tbody tr th:only-of-type {\n",
              "        vertical-align: middle;\n",
              "    }\n",
              "\n",
              "    .dataframe tbody tr th {\n",
              "        vertical-align: top;\n",
              "    }\n",
              "\n",
              "    .dataframe thead th {\n",
              "        text-align: right;\n",
              "    }\n",
              "</style>\n",
              "<table border=\"1\" class=\"dataframe\">\n",
              "  <thead>\n",
              "    <tr style=\"text-align: right;\">\n",
              "      <th></th>\n",
              "      <th>Time</th>\n",
              "      <th>Model Name</th>\n",
              "      <th>Precision</th>\n",
              "      <th>Recall</th>\n",
              "      <th>F1 Score</th>\n",
              "      <th>Accuracy</th>\n",
              "    </tr>\n",
              "  </thead>\n",
              "  <tbody>\n",
              "    <tr>\n",
              "      <th>0</th>\n",
              "      <td>2022-12-11</td>\n",
              "      <td>LSTM</td>\n",
              "      <td>0.761822</td>\n",
              "      <td>0.710427</td>\n",
              "      <td>0.725808</td>\n",
              "      <td>0.888665</td>\n",
              "    </tr>\n",
              "  </tbody>\n",
              "</table>\n",
              "</div>\n",
              "      <button class=\"colab-df-convert\" onclick=\"convertToInteractive('df-c75afcca-1bb2-4e12-b4ab-4327db5e512e')\"\n",
              "              title=\"Convert this dataframe to an interactive table.\"\n",
              "              style=\"display:none;\">\n",
              "        \n",
              "  <svg xmlns=\"http://www.w3.org/2000/svg\" height=\"24px\"viewBox=\"0 0 24 24\"\n",
              "       width=\"24px\">\n",
              "    <path d=\"M0 0h24v24H0V0z\" fill=\"none\"/>\n",
              "    <path d=\"M18.56 5.44l.94 2.06.94-2.06 2.06-.94-2.06-.94-.94-2.06-.94 2.06-2.06.94zm-11 1L8.5 8.5l.94-2.06 2.06-.94-2.06-.94L8.5 2.5l-.94 2.06-2.06.94zm10 10l.94 2.06.94-2.06 2.06-.94-2.06-.94-.94-2.06-.94 2.06-2.06.94z\"/><path d=\"M17.41 7.96l-1.37-1.37c-.4-.4-.92-.59-1.43-.59-.52 0-1.04.2-1.43.59L10.3 9.45l-7.72 7.72c-.78.78-.78 2.05 0 2.83L4 21.41c.39.39.9.59 1.41.59.51 0 1.02-.2 1.41-.59l7.78-7.78 2.81-2.81c.8-.78.8-2.07 0-2.86zM5.41 20L4 18.59l7.72-7.72 1.47 1.35L5.41 20z\"/>\n",
              "  </svg>\n",
              "      </button>\n",
              "      \n",
              "  <style>\n",
              "    .colab-df-container {\n",
              "      display:flex;\n",
              "      flex-wrap:wrap;\n",
              "      gap: 12px;\n",
              "    }\n",
              "\n",
              "    .colab-df-convert {\n",
              "      background-color: #E8F0FE;\n",
              "      border: none;\n",
              "      border-radius: 50%;\n",
              "      cursor: pointer;\n",
              "      display: none;\n",
              "      fill: #1967D2;\n",
              "      height: 32px;\n",
              "      padding: 0 0 0 0;\n",
              "      width: 32px;\n",
              "    }\n",
              "\n",
              "    .colab-df-convert:hover {\n",
              "      background-color: #E2EBFA;\n",
              "      box-shadow: 0px 1px 2px rgba(60, 64, 67, 0.3), 0px 1px 3px 1px rgba(60, 64, 67, 0.15);\n",
              "      fill: #174EA6;\n",
              "    }\n",
              "\n",
              "    [theme=dark] .colab-df-convert {\n",
              "      background-color: #3B4455;\n",
              "      fill: #D2E3FC;\n",
              "    }\n",
              "\n",
              "    [theme=dark] .colab-df-convert:hover {\n",
              "      background-color: #434B5C;\n",
              "      box-shadow: 0px 1px 3px 1px rgba(0, 0, 0, 0.15);\n",
              "      filter: drop-shadow(0px 1px 2px rgba(0, 0, 0, 0.3));\n",
              "      fill: #FFFFFF;\n",
              "    }\n",
              "  </style>\n",
              "\n",
              "      <script>\n",
              "        const buttonEl =\n",
              "          document.querySelector('#df-c75afcca-1bb2-4e12-b4ab-4327db5e512e button.colab-df-convert');\n",
              "        buttonEl.style.display =\n",
              "          google.colab.kernel.accessAllowed ? 'block' : 'none';\n",
              "\n",
              "        async function convertToInteractive(key) {\n",
              "          const element = document.querySelector('#df-c75afcca-1bb2-4e12-b4ab-4327db5e512e');\n",
              "          const dataTable =\n",
              "            await google.colab.kernel.invokeFunction('convertToInteractive',\n",
              "                                                     [key], {});\n",
              "          if (!dataTable) return;\n",
              "\n",
              "          const docLinkHtml = 'Like what you see? Visit the ' +\n",
              "            '<a target=\"_blank\" href=https://colab.research.google.com/notebooks/data_table.ipynb>data table notebook</a>'\n",
              "            + ' to learn more about interactive tables.';\n",
              "          element.innerHTML = '';\n",
              "          dataTable['output_type'] = 'display_data';\n",
              "          await google.colab.output.renderOutput(dataTable, element);\n",
              "          const docLink = document.createElement('div');\n",
              "          docLink.innerHTML = docLinkHtml;\n",
              "          element.appendChild(docLink);\n",
              "        }\n",
              "      </script>\n",
              "    </div>\n",
              "  </div>\n",
              "  "
            ]
          },
          "metadata": {},
          "execution_count": 27
        },
        {
          "output_type": "display_data",
          "data": {
            "text/plain": [
              "<Figure size 432x288 with 2 Axes>"
            ],
            "image/png": "[encoded data removed]"
          },
          "metadata": {
            "needs_background": "light"
          }
        }
      ],
      "source": [
        "lstm_report = performance_report(model_lstm, \"LSTM\", image_path, X_test_padding, y_test_encode)\n",
        "lstm_report\n"
      ]
    },
    {
      "cell_type": "code",
      "execution_count": null,
      "metadata": {
        "id": "L8SLAlznZLaG",
        "colab": {
          "base_uri": "https://localhost:8080/",
          "height": 360
        },
        "outputId": "e3a78fcf-e4c3-40df-b78d-c4e65af7bc6a"
      },
      "outputs": [
        {
          "output_type": "stream",
          "name": "stdout",
          "text": [
            "78/78 [==============================] - 3s 34ms/step\n"
          ]
        },
        {
          "output_type": "execute_result",
          "data": {
            "text/plain": [
              "         Time Model Name  Precision    Recall  F1 Score  Accuracy\n",
              "0  2022-12-11        GRU   0.732895  0.632981  0.647664  0.879387"
            ],
            "text/html": [
              "\n",
              "  <div id=\"df-11c68345-4f32-444c-b4f9-0a4df06cc670\">\n",
              "    <div class=\"colab-df-container\">\n",
              "      <div>\n",
              "<style scoped>\n",
              "    .dataframe tbody tr th:only-of-type {\n",
              "        vertical-align: middle;\n",
              "    }\n",
              "\n",
              "    .dataframe tbody tr th {\n",
              "        vertical-align: top;\n",
              "    }\n",
              "\n",
              "    .dataframe thead th {\n",
              "        text-align: right;\n",
              "    }\n",
              "</style>\n",
              "<table border=\"1\" class=\"dataframe\">\n",
              "  <thead>\n",
              "    <tr style=\"text-align: right;\">\n",
              "      <th></th>\n",
              "      <th>Time</th>\n",
              "      <th>Model Name</th>\n",
              "      <th>Precision</th>\n",
              "      <th>Recall</th>\n",
              "      <th>F1 Score</th>\n",
              "      <th>Accuracy</th>\n",
              "    </tr>\n",
              "  </thead>\n",
              "  <tbody>\n",
              "    <tr>\n",
              "      <th>0</th>\n",
              "      <td>2022-12-11</td>\n",
              "      <td>GRU</td>\n",
              "      <td>0.732895</td>\n",
              "      <td>0.632981</td>\n",
              "      <td>0.647664</td>\n",
              "      <td>0.879387</td>\n",
              "    </tr>\n",
              "  </tbody>\n",
              "</table>\n",
              "</div>\n",
              "      <button class=\"colab-df-convert\" onclick=\"convertToInteractive('df-11c68345-4f32-444c-b4f9-0a4df06cc670')\"\n",
              "              title=\"Convert this dataframe to an interactive table.\"\n",
              "              style=\"display:none;\">\n",
              "        \n",
              "  <svg xmlns=\"http://www.w3.org/2000/svg\" height=\"24px\"viewBox=\"0 0 24 24\"\n",
              "       width=\"24px\">\n",
              "    <path d=\"M0 0h24v24H0V0z\" fill=\"none\"/>\n",
              "    <path d=\"M18.56 5.44l.94 2.06.94-2.06 2.06-.94-2.06-.94-.94-2.06-.94 2.06-2.06.94zm-11 1L8.5 8.5l.94-2.06 2.06-.94-2.06-.94L8.5 2.5l-.94 2.06-2.06.94zm10 10l.94 2.06.94-2.06 2.06-.94-2.06-.94-.94-2.06-.94 2.06-2.06.94z\"/><path d=\"M17.41 7.96l-1.37-1.37c-.4-.4-.92-.59-1.43-.59-.52 0-1.04.2-1.43.59L10.3 9.45l-7.72 7.72c-.78.78-.78 2.05 0 2.83L4 21.41c.39.39.9.59 1.41.59.51 0 1.02-.2 1.41-.59l7.78-7.78 2.81-2.81c.8-.78.8-2.07 0-2.86zM5.41 20L4 18.59l7.72-7.72 1.47 1.35L5.41 20z\"/>\n",
              "  </svg>\n",
              "      </button>\n",
              "      \n",
              "  <style>\n",
              "    .colab-df-container {\n",
              "      display:flex;\n",
              "      flex-wrap:wrap;\n",
              "      gap: 12px;\n",
              "    }\n",
              "\n",
              "    .colab-df-convert {\n",
              "      background-color: #E8F0FE;\n",
              "      border: none;\n",
              "      border-radius: 50%;\n",
              "      cursor: pointer;\n",
              "      display: none;\n",
              "      fill: #1967D2;\n",
              "      height: 32px;\n",
              "      padding: 0 0 0 0;\n",
              "      width: 32px;\n",
              "    }\n",
              "\n",
              "    .colab-df-convert:hover {\n",
              "      background-color: #E2EBFA;\n",
              "      box-shadow: 0px 1px 2px rgba(60, 64, 67, 0.3), 0px 1px 3px 1px rgba(60, 64, 67, 0.15);\n",
              "      fill: #174EA6;\n",
              "    }\n",
              "\n",
              "    [theme=dark] .colab-df-convert {\n",
              "      background-color: #3B4455;\n",
              "      fill: #D2E3FC;\n",
              "    }\n",
              "\n",
              "    [theme=dark] .colab-df-convert:hover {\n",
              "      background-color: #434B5C;\n",
              "      box-shadow: 0px 1px 3px 1px rgba(0, 0, 0, 0.15);\n",
              "      filter: drop-shadow(0px 1px 2px rgba(0, 0, 0, 0.3));\n",
              "      fill: #FFFFFF;\n",
              "    }\n",
              "  </style>\n",
              "\n",
              "      <script>\n",
              "        const buttonEl =\n",
              "          document.querySelector('#df-11c68345-4f32-444c-b4f9-0a4df06cc670 button.colab-df-convert');\n",
              "        buttonEl.style.display =\n",
              "          google.colab.kernel.accessAllowed ? 'block' : 'none';\n",
              "\n",
              "        async function convertToInteractive(key) {\n",
              "          const element = document.querySelector('#df-11c68345-4f32-444c-b4f9-0a4df06cc670');\n",
              "          const dataTable =\n",
              "            await google.colab.kernel.invokeFunction('convertToInteractive',\n",
              "                                                     [key], {});\n",
              "          if (!dataTable) return;\n",
              "\n",
              "          const docLinkHtml = 'Like what you see? Visit the ' +\n",
              "            '<a target=\"_blank\" href=https://colab.research.google.com/notebooks/data_table.ipynb>data table notebook</a>'\n",
              "            + ' to learn more about interactive tables.';\n",
              "          element.innerHTML = '';\n",
              "          dataTable['output_type'] = 'display_data';\n",
              "          await google.colab.output.renderOutput(dataTable, element);\n",
              "          const docLink = document.createElement('div');\n",
              "          docLink.innerHTML = docLinkHtml;\n",
              "          element.appendChild(docLink);\n",
              "        }\n",
              "      </script>\n",
              "    </div>\n",
              "  </div>\n",
              "  "
            ]
          },
          "metadata": {},
          "execution_count": 28
        },
        {
          "output_type": "display_data",
          "data": {
            "text/plain": [
              "<Figure size 432x288 with 2 Axes>"
            ],
            "image/png": "[encoded data removed]"
          },
          "metadata": {
            "needs_background": "light"
          }
        }
      ],
      "source": [
        "GRU_report = performance_report(model_gru, \"GRU\", image_path, X_test_padding, y_test_encode)\n",
        "GRU_report"
      ]
    },
    {
      "cell_type": "code",
      "execution_count": null,
      "metadata": {
        "id": "0_gGEZvrQl2Q",
        "colab": {
          "base_uri": "https://localhost:8080/",
          "height": 1000
        },
        "outputId": "b5c33cb2-3d9b-4dea-c1b8-7fe563cf683f"
      },
      "outputs": [
        {
          "output_type": "display_data",
          "data": {
            "text/plain": [
              "<Figure size 432x288 with 1 Axes>"
            ],
            "image/png": "[encoded data removed]"
          },
          "metadata": {
            "needs_background": "light"
          }
        },
        {
          "output_type": "display_data",
          "data": {
            "text/plain": [
              "<Figure size 432x288 with 1 Axes>"
            ],
            "image/png": "[encoded data removed]"
          },
          "metadata": {
            "needs_background": "light"
          }
        },
        {
          "output_type": "display_data",
          "data": {
            "text/plain": [
              "<Figure size 432x288 with 1 Axes>"
            ],
            "image/png": "[encoded data removed]"
          },
          "metadata": {
            "needs_background": "light"
          }
        },
        {
          "output_type": "display_data",
          "data": {
            "text/plain": [
              "<Figure size 432x288 with 1 Axes>"
            ],
            "image/png": "[encoded data removed]"
          },
          "metadata": {
            "needs_background": "light"
          }
        },
        {
          "output_type": "display_data",
          "data": {
            "text/plain": [
              "<Figure size 432x288 with 1 Axes>"
            ],
            "image/png": "[encoded data removed]"
          },
          "metadata": {
            "needs_background": "light"
          }
        },
        {
          "output_type": "display_data",
          "data": {
            "text/plain": [
              "<Figure size 432x288 with 1 Axes>"
            ],
            "image/png": "[encoded data removed]"
          },
          "metadata": {
            "needs_background": "light"
          }
        }
      ],
      "source": [
        "performance_history(history_lstm, \"Simple RNN\", image_path, 'accuracy')\n",
        "performance_history(history_lstm, \"Simple RNN\", image_path, 'loss')\n",
        "\n",
        "performance_history(history_lstm, \"LSTM\", image_path, 'accuracy')\n",
        "performance_history(history_lstm, \"LSTM\", image_path, 'loss')\n",
        "\n",
        "performance_history(history_lstm, \"GRU\", image_path, 'accuracy')\n",
        "performance_history(history_lstm, \"GRU\", image_path, 'loss')\n",
        "\n"
      ]
    },
    {
      "cell_type": "markdown",
      "metadata": {
        "id": "td-TqAMBEK5_"
      },
      "source": [
        "# **6. Add class weight to handel unbalanced dataset**"
      ]
    },
    {
      "cell_type": "markdown",
      "metadata": {
        "id": "ywejZr2zT3iG"
      },
      "source": [
        "### 6.1 Calculate class weight using fomula: w_j = n_samples / (n_classes * n_samples_j)\n",
        "    "
      ]
    },
    {
      "cell_type": "code",
      "execution_count": null,
      "metadata": {
        "id": "yZ3FjqvMEYsv",
        "colab": {
          "base_uri": "https://localhost:8080/"
        },
        "outputId": "528e2f94-4064-4ce9-b44a-61c51d7ad9ef"
      },
      "outputs": [
        {
          "output_type": "execute_result",
          "data": {
            "text/plain": [
              "{0: 5.776923076923077, 1: 0.43048462741010945, 2: 1.9843862599087196}"
            ]
          },
          "metadata": {},
          "execution_count": 30
        }
      ],
      "source": [
        "# Total number of samples\n",
        "n_samples = len(dataset)\n",
        "\n",
        "# Total number of classes\n",
        "n_classes = len(pd.unique(dataset['class']))\n",
        "\n",
        "# Total number of samples in each class\n",
        "n_sample_0 = sum(dataset['class'] == 0)\n",
        "n_sample_1 = sum(dataset['class'] == 1)\n",
        "n_sample_2 = sum(dataset['class'] == 2)\n",
        "\n",
        "# The weights of each calss\n",
        "w_0 = n_samples / (n_classes * n_sample_0)\n",
        "w_1 = n_samples / (n_classes * n_sample_1)\n",
        "w_2 = n_samples / (n_classes * n_sample_2)\n",
        "\n",
        "# Class weights\n",
        "class_weights = {\n",
        "    0: w_0,\n",
        "    1: w_1,\n",
        "    2: w_2\n",
        "}\n",
        "\n",
        "class_weights"
      ]
    },
    {
      "cell_type": "markdown",
      "metadata": {
        "id": "Q8DFPnIrUM_1"
      },
      "source": [
        "6.2 Train GRU model with class weight "
      ]
    },
    {
      "cell_type": "code",
      "source": [
        "# Train the model\n",
        "# model_GRU_weighted = build_GRU_model()\n",
        "# history_GRU_weighted = model_GRU_weighted.fit(X_train_padding, y=y_train_encode, batch_size=512, epochs=15, verbose=1, validation_data=(X_test_padding, y_test_encode), class_weight = class_weights)"
      ],
      "metadata": {
        "colab": {
          "base_uri": "https://localhost:8080/"
        },
        "id": "qGWGlK7kNqMj",
        "outputId": "bbbdc3eb-37e8-4f34-b8ac-84bbec877117"
      },
      "execution_count": null,
      "outputs": [
        {
          "output_type": "stream",
          "name": "stderr",
          "text": [
            "WARNING:tensorflow:Layer gru_1 will not use cuDNN kernels since it doesn't meet the criteria. It will use a generic GPU kernel as fallback when running on GPU.\n",
            "WARNING:tensorflow:Layer gru_1 will not use cuDNN kernels since it doesn't meet the criteria. It will use a generic GPU kernel as fallback when running on GPU.\n",
            "WARNING:tensorflow:Layer gru_1 will not use cuDNN kernels since it doesn't meet the criteria. It will use a generic GPU kernel as fallback when running on GPU.\n"
          ]
        },
        {
          "output_type": "stream",
          "name": "stdout",
          "text": [
            "Epoch 1/15\n",
            "44/44 [==============================] - 24s 465ms/step - loss: 0.9651 - accuracy: 0.5771 - val_loss: 0.6230 - val_accuracy: 0.7914\n",
            "Epoch 2/15\n",
            "44/44 [==============================] - 20s 444ms/step - loss: 0.6772 - accuracy: 0.7425 - val_loss: 0.5673 - val_accuracy: 0.7947\n",
            "Epoch 3/15\n",
            "44/44 [==============================] - 19s 439ms/step - loss: 0.6061 - accuracy: 0.7886 - val_loss: 0.6048 - val_accuracy: 0.7894\n",
            "Epoch 4/15\n",
            "44/44 [==============================] - 20s 447ms/step - loss: 0.5761 - accuracy: 0.7839 - val_loss: 0.4971 - val_accuracy: 0.8237\n",
            "Epoch 5/15\n",
            "44/44 [==============================] - 21s 482ms/step - loss: 0.5550 - accuracy: 0.7924 - val_loss: 0.5076 - val_accuracy: 0.8084\n",
            "Epoch 6/15\n",
            "44/44 [==============================] - 19s 441ms/step - loss: 0.5490 - accuracy: 0.7908 - val_loss: 0.4559 - val_accuracy: 0.8294\n",
            "Epoch 7/15\n",
            "44/44 [==============================] - 20s 452ms/step - loss: 0.5384 - accuracy: 0.7936 - val_loss: 0.5535 - val_accuracy: 0.7781\n",
            "Epoch 8/15\n",
            "44/44 [==============================] - 19s 443ms/step - loss: 0.5246 - accuracy: 0.7925 - val_loss: 0.4859 - val_accuracy: 0.8213\n",
            "Epoch 9/15\n",
            "44/44 [==============================] - 19s 438ms/step - loss: 0.5184 - accuracy: 0.7967 - val_loss: 0.5097 - val_accuracy: 0.8019\n",
            "Epoch 10/15\n",
            "44/44 [==============================] - 20s 443ms/step - loss: 0.5108 - accuracy: 0.8017 - val_loss: 0.4524 - val_accuracy: 0.8298\n",
            "Epoch 11/15\n",
            "44/44 [==============================] - 19s 438ms/step - loss: 0.4914 - accuracy: 0.7969 - val_loss: 0.4775 - val_accuracy: 0.8245\n",
            "Epoch 12/15\n",
            "44/44 [==============================] - 19s 438ms/step - loss: 0.4874 - accuracy: 0.7960 - val_loss: 0.4469 - val_accuracy: 0.8273\n",
            "Epoch 13/15\n",
            "44/44 [==============================] - 19s 436ms/step - loss: 0.4881 - accuracy: 0.7986 - val_loss: 0.5211 - val_accuracy: 0.7959\n",
            "Epoch 14/15\n",
            "44/44 [==============================] - 19s 436ms/step - loss: 0.4807 - accuracy: 0.7955 - val_loss: 0.4979 - val_accuracy: 0.8019\n",
            "Epoch 15/15\n",
            "44/44 [==============================] - 21s 474ms/step - loss: 0.4770 - accuracy: 0.7972 - val_loss: 0.5513 - val_accuracy: 0.7733\n"
          ]
        }
      ]
    },
    {
      "cell_type": "code",
      "source": [
        "# model_GRU_weighted.summary()\n",
        "# performance_report(model_GRU_weighted, \"Weighted GRU\", image_path, X_test_padding, y_test_encode)"
      ],
      "metadata": {
        "colab": {
          "base_uri": "https://localhost:8080/",
          "height": 797
        },
        "id": "Jrp2_w4QN2mB",
        "outputId": "e04bd15e-49ed-401b-a0f9-6993decc2ae4"
      },
      "execution_count": null,
      "outputs": [
        {
          "output_type": "stream",
          "name": "stdout",
          "text": [
            "Model: \"sequential_3\"\n",
            "_________________________________________________________________\n",
            " Layer (type)                Output Shape              Param #   \n",
            "=================================================================\n",
            " embedding_3 (Embedding)     (None, 60, 100)           1781600   \n",
            "                                                                 \n",
            " spatial_dropout1d_3 (Spatia  (None, 60, 100)          0         \n",
            " lDropout1D)                                                     \n",
            "                                                                 \n",
            " bidirectional_3 (Bidirectio  (None, 200)              121200    \n",
            " nal)                                                            \n",
            "                                                                 \n",
            " dense_6 (Dense)             (None, 100)               20100     \n",
            "                                                                 \n",
            " dropout_3 (Dropout)         (None, 100)               0         \n",
            "                                                                 \n",
            " dense_7 (Dense)             (None, 3)                 303       \n",
            "                                                                 \n",
            " activation_3 (Activation)   (None, 3)                 0         \n",
            "                                                                 \n",
            "=================================================================\n",
            "Total params: 1,923,203\n",
            "Trainable params: 141,603\n",
            "Non-trainable params: 1,781,600\n",
            "_________________________________________________________________\n",
            "78/78 [==============================] - 3s 34ms/step\n"
          ]
        },
        {
          "output_type": "execute_result",
          "data": {
            "text/plain": [
              "         Time    Model Name  Precision    Recall  F1 Score  Accuracy\n",
              "0  2022-12-11  Weighted GRU   0.658741  0.827845  0.681948  0.773296"
            ],
            "text/html": [
              "\n",
              "  <div id=\"df-8612d97d-33c9-42bd-ba3b-4b37493ed6c2\">\n",
              "    <div class=\"colab-df-container\">\n",
              "      <div>\n",
              "<style scoped>\n",
              "    .dataframe tbody tr th:only-of-type {\n",
              "        vertical-align: middle;\n",
              "    }\n",
              "\n",
              "    .dataframe tbody tr th {\n",
              "        vertical-align: top;\n",
              "    }\n",
              "\n",
              "    .dataframe thead th {\n",
              "        text-align: right;\n",
              "    }\n",
              "</style>\n",
              "<table border=\"1\" class=\"dataframe\">\n",
              "  <thead>\n",
              "    <tr style=\"text-align: right;\">\n",
              "      <th></th>\n",
              "      <th>Time</th>\n",
              "      <th>Model Name</th>\n",
              "      <th>Precision</th>\n",
              "      <th>Recall</th>\n",
              "      <th>F1 Score</th>\n",
              "      <th>Accuracy</th>\n",
              "    </tr>\n",
              "  </thead>\n",
              "  <tbody>\n",
              "    <tr>\n",
              "      <th>0</th>\n",
              "      <td>2022-12-11</td>\n",
              "      <td>Weighted GRU</td>\n",
              "      <td>0.658741</td>\n",
              "      <td>0.827845</td>\n",
              "      <td>0.681948</td>\n",
              "      <td>0.773296</td>\n",
              "    </tr>\n",
              "  </tbody>\n",
              "</table>\n",
              "</div>\n",
              "      <button class=\"colab-df-convert\" onclick=\"convertToInteractive('df-8612d97d-33c9-42bd-ba3b-4b37493ed6c2')\"\n",
              "              title=\"Convert this dataframe to an interactive table.\"\n",
              "              style=\"display:none;\">\n",
              "        \n",
              "  <svg xmlns=\"http://www.w3.org/2000/svg\" height=\"24px\"viewBox=\"0 0 24 24\"\n",
              "       width=\"24px\">\n",
              "    <path d=\"M0 0h24v24H0V0z\" fill=\"none\"/>\n",
              "    <path d=\"M18.56 5.44l.94 2.06.94-2.06 2.06-.94-2.06-.94-.94-2.06-.94 2.06-2.06.94zm-11 1L8.5 8.5l.94-2.06 2.06-.94-2.06-.94L8.5 2.5l-.94 2.06-2.06.94zm10 10l.94 2.06.94-2.06 2.06-.94-2.06-.94-.94-2.06-.94 2.06-2.06.94z\"/><path d=\"M17.41 7.96l-1.37-1.37c-.4-.4-.92-.59-1.43-.59-.52 0-1.04.2-1.43.59L10.3 9.45l-7.72 7.72c-.78.78-.78 2.05 0 2.83L4 21.41c.39.39.9.59 1.41.59.51 0 1.02-.2 1.41-.59l7.78-7.78 2.81-2.81c.8-.78.8-2.07 0-2.86zM5.41 20L4 18.59l7.72-7.72 1.47 1.35L5.41 20z\"/>\n",
              "  </svg>\n",
              "      </button>\n",
              "      \n",
              "  <style>\n",
              "    .colab-df-container {\n",
              "      display:flex;\n",
              "      flex-wrap:wrap;\n",
              "      gap: 12px;\n",
              "    }\n",
              "\n",
              "    .colab-df-convert {\n",
              "      background-color: #E8F0FE;\n",
              "      border: none;\n",
              "      border-radius: 50%;\n",
              "      cursor: pointer;\n",
              "      display: none;\n",
              "      fill: #1967D2;\n",
              "      height: 32px;\n",
              "      padding: 0 0 0 0;\n",
              "      width: 32px;\n",
              "    }\n",
              "\n",
              "    .colab-df-convert:hover {\n",
              "      background-color: #E2EBFA;\n",
              "      box-shadow: 0px 1px 2px rgba(60, 64, 67, 0.3), 0px 1px 3px 1px rgba(60, 64, 67, 0.15);\n",
              "      fill: #174EA6;\n",
              "    }\n",
              "\n",
              "    [theme=dark] .colab-df-convert {\n",
              "      background-color: #3B4455;\n",
              "      fill: #D2E3FC;\n",
              "    }\n",
              "\n",
              "    [theme=dark] .colab-df-convert:hover {\n",
              "      background-color: #434B5C;\n",
              "      box-shadow: 0px 1px 3px 1px rgba(0, 0, 0, 0.15);\n",
              "      filter: drop-shadow(0px 1px 2px rgba(0, 0, 0, 0.3));\n",
              "      fill: #FFFFFF;\n",
              "    }\n",
              "  </style>\n",
              "\n",
              "      <script>\n",
              "        const buttonEl =\n",
              "          document.querySelector('#df-8612d97d-33c9-42bd-ba3b-4b37493ed6c2 button.colab-df-convert');\n",
              "        buttonEl.style.display =\n",
              "          google.colab.kernel.accessAllowed ? 'block' : 'none';\n",
              "\n",
              "        async function convertToInteractive(key) {\n",
              "          const element = document.querySelector('#df-8612d97d-33c9-42bd-ba3b-4b37493ed6c2');\n",
              "          const dataTable =\n",
              "            await google.colab.kernel.invokeFunction('convertToInteractive',\n",
              "                                                     [key], {});\n",
              "          if (!dataTable) return;\n",
              "\n",
              "          const docLinkHtml = 'Like what you see? Visit the ' +\n",
              "            '<a target=\"_blank\" href=https://colab.research.google.com/notebooks/data_table.ipynb>data table notebook</a>'\n",
              "            + ' to learn more about interactive tables.';\n",
              "          element.innerHTML = '';\n",
              "          dataTable['output_type'] = 'display_data';\n",
              "          await google.colab.output.renderOutput(dataTable, element);\n",
              "          const docLink = document.createElement('div');\n",
              "          docLink.innerHTML = docLinkHtml;\n",
              "          element.appendChild(docLink);\n",
              "        }\n",
              "      </script>\n",
              "    </div>\n",
              "  </div>\n",
              "  "
            ]
          },
          "metadata": {},
          "execution_count": 32
        },
        {
          "output_type": "display_data",
          "data": {
            "text/plain": [
              "<Figure size 432x288 with 2 Axes>"
            ],
            "image/png": "[encoded data removed]"
          },
          "metadata": {
            "needs_background": "light"
          }
        }
      ]
    },
    {
      "cell_type": "code",
      "source": [
        "# Accuracy and loss of weighted LSTM model\n",
        "# performance_history(history_GRU_weighted, \"Weighted GRU\", image_path, 'accuracy')\n",
        "# performance_history(history_GRU_weighted, \"Weighted GRU\", image_path, 'loss')"
      ],
      "metadata": {
        "id": "xjP6yuQtN_Mg",
        "colab": {
          "base_uri": "https://localhost:8080/",
          "height": 573
        },
        "outputId": "79750e53-4bc1-419e-e4f2-32201257f8ed"
      },
      "execution_count": null,
      "outputs": [
        {
          "output_type": "display_data",
          "data": {
            "text/plain": [
              "<Figure size 432x288 with 1 Axes>"
            ],
            "image/png": "[encoded data removed]"
          },
          "metadata": {
            "needs_background": "light"
          }
        },
        {
          "output_type": "display_data",
          "data": {
            "text/plain": [
              "<Figure size 432x288 with 1 Axes>"
            ],
            "image/png": "[encoded data removed]"
          },
          "metadata": {
            "needs_background": "light"
          }
        }
      ]
    },
    {
      "cell_type": "code",
      "execution_count": null,
      "metadata": {
        "id": "Ba9OdfC9EbfU",
        "colab": {
          "base_uri": "https://localhost:8080/"
        },
        "outputId": "c91733c0-12bd-44d7-856c-6f92f0893eb7"
      },
      "outputs": [
        {
          "output_type": "stream",
          "name": "stderr",
          "text": [
            "WARNING:tensorflow:Layer lstm_1 will not use cuDNN kernels since it doesn't meet the criteria. It will use a generic GPU kernel as fallback when running on GPU.\n",
            "WARNING:tensorflow:Layer lstm_1 will not use cuDNN kernels since it doesn't meet the criteria. It will use a generic GPU kernel as fallback when running on GPU.\n",
            "WARNING:tensorflow:Layer lstm_1 will not use cuDNN kernels since it doesn't meet the criteria. It will use a generic GPU kernel as fallback when running on GPU.\n"
          ]
        },
        {
          "output_type": "stream",
          "name": "stdout",
          "text": [
            "Epoch 1/15\n",
            "44/44 [==============================] - 28s 515ms/step - loss: 0.8964 - accuracy: 0.6059 - val_loss: 0.6291 - val_accuracy: 0.7616\n",
            "Epoch 2/15\n",
            "44/44 [==============================] - 22s 511ms/step - loss: 0.6886 - accuracy: 0.7392 - val_loss: 0.5175 - val_accuracy: 0.8253\n",
            "Epoch 3/15\n",
            "44/44 [==============================] - 23s 518ms/step - loss: 0.6305 - accuracy: 0.7640 - val_loss: 0.5429 - val_accuracy: 0.8108\n",
            "Epoch 4/15\n",
            "44/44 [==============================] - 24s 540ms/step - loss: 0.5964 - accuracy: 0.7809 - val_loss: 0.5344 - val_accuracy: 0.8136\n",
            "Epoch 5/15\n",
            "44/44 [==============================] - 22s 492ms/step - loss: 0.5721 - accuracy: 0.7896 - val_loss: 0.5072 - val_accuracy: 0.8193\n",
            "Epoch 6/15\n",
            "44/44 [==============================] - 22s 494ms/step - loss: 0.5518 - accuracy: 0.7927 - val_loss: 0.4836 - val_accuracy: 0.8225\n",
            "Epoch 7/15\n",
            "44/44 [==============================] - 22s 495ms/step - loss: 0.5434 - accuracy: 0.7930 - val_loss: 0.4576 - val_accuracy: 0.8286\n",
            "Epoch 8/15\n",
            "44/44 [==============================] - 22s 491ms/step - loss: 0.5173 - accuracy: 0.7994 - val_loss: 0.5263 - val_accuracy: 0.7842\n",
            "Epoch 9/15\n",
            "44/44 [==============================] - 21s 489ms/step - loss: 0.5178 - accuracy: 0.7927 - val_loss: 0.4562 - val_accuracy: 0.8233\n",
            "Epoch 10/15\n",
            "44/44 [==============================] - 22s 495ms/step - loss: 0.5041 - accuracy: 0.7968 - val_loss: 0.5394 - val_accuracy: 0.7822\n",
            "Epoch 11/15\n",
            "44/44 [==============================] - 22s 489ms/step - loss: 0.4926 - accuracy: 0.7928 - val_loss: 0.4331 - val_accuracy: 0.8322\n",
            "Epoch 12/15\n",
            "44/44 [==============================] - 24s 538ms/step - loss: 0.4862 - accuracy: 0.7960 - val_loss: 0.5176 - val_accuracy: 0.8120\n",
            "Epoch 13/15\n",
            "44/44 [==============================] - 22s 491ms/step - loss: 0.4785 - accuracy: 0.8016 - val_loss: 0.5380 - val_accuracy: 0.8031\n",
            "Epoch 14/15\n",
            "44/44 [==============================] - 22s 496ms/step - loss: 0.4662 - accuracy: 0.7997 - val_loss: 0.4988 - val_accuracy: 0.8140\n",
            "Epoch 15/15\n",
            "44/44 [==============================] - 22s 491ms/step - loss: 0.4545 - accuracy: 0.8070 - val_loss: 0.4516 - val_accuracy: 0.8265\n"
          ]
        }
      ],
      "source": [
        "# Train the model\n",
        "model_lstm_weighted = build_LSTM_model()\n",
        "history_lstm_weighted = model_lstm_weighted.fit(X_train_padding, y=y_train_encode, batch_size=512, epochs=15, verbose=1, validation_data=(X_test_padding, y_test_encode), class_weight = class_weights)"
      ]
    },
    {
      "cell_type": "code",
      "execution_count": null,
      "metadata": {
        "id": "UjYxHy5wEfSx",
        "colab": {
          "base_uri": "https://localhost:8080/",
          "height": 794
        },
        "outputId": "b968054f-78e3-4213-b6cb-a0be7d90f26c"
      },
      "outputs": [
        {
          "output_type": "stream",
          "name": "stdout",
          "text": [
            "Model: \"sequential_4\"\n",
            "_________________________________________________________________\n",
            " Layer (type)                Output Shape              Param #   \n",
            "=================================================================\n",
            " embedding_4 (Embedding)     (None, 60, 100)           1781600   \n",
            "                                                                 \n",
            " spatial_dropout1d_4 (Spatia  (None, 60, 100)          0         \n",
            " lDropout1D)                                                     \n",
            "                                                                 \n",
            " bidirectional_4 (Bidirectio  (None, 200)              160800    \n",
            " nal)                                                            \n",
            "                                                                 \n",
            " dense_8 (Dense)             (None, 100)               20100     \n",
            "                                                                 \n",
            " dropout_4 (Dropout)         (None, 100)               0         \n",
            "                                                                 \n",
            " dense_9 (Dense)             (None, 3)                 303       \n",
            "                                                                 \n",
            " activation_4 (Activation)   (None, 3)                 0         \n",
            "                                                                 \n",
            "=================================================================\n",
            "Total params: 1,962,803\n",
            "Trainable params: 181,203\n",
            "Non-trainable params: 1,781,600\n",
            "_________________________________________________________________\n",
            "78/78 [==============================] - 3s 31ms/step\n"
          ]
        },
        {
          "output_type": "execute_result",
          "data": {
            "text/plain": [
              "         Time     Model Name  Precision    Recall  F1 Score  Accuracy\n",
              "0  2022-12-11  Weighted LSTM   0.668716  0.809083  0.711077  0.826543"
            ],
            "text/html": [
              "\n",
              "  <div id=\"df-1c96485d-1752-4dab-baa0-7684e5b9b0d8\">\n",
              "    <div class=\"colab-df-container\">\n",
              "      <div>\n",
              "<style scoped>\n",
              "    .dataframe tbody tr th:only-of-type {\n",
              "        vertical-align: middle;\n",
              "    }\n",
              "\n",
              "    .dataframe tbody tr th {\n",
              "        vertical-align: top;\n",
              "    }\n",
              "\n",
              "    .dataframe thead th {\n",
              "        text-align: right;\n",
              "    }\n",
              "</style>\n",
              "<table border=\"1\" class=\"dataframe\">\n",
              "  <thead>\n",
              "    <tr style=\"text-align: right;\">\n",
              "      <th></th>\n",
              "      <th>Time</th>\n",
              "      <th>Model Name</th>\n",
              "      <th>Precision</th>\n",
              "      <th>Recall</th>\n",
              "      <th>F1 Score</th>\n",
              "      <th>Accuracy</th>\n",
              "    </tr>\n",
              "  </thead>\n",
              "  <tbody>\n",
              "    <tr>\n",
              "      <th>0</th>\n",
              "      <td>2022-12-11</td>\n",
              "      <td>Weighted LSTM</td>\n",
              "      <td>0.668716</td>\n",
              "      <td>0.809083</td>\n",
              "      <td>0.711077</td>\n",
              "      <td>0.826543</td>\n",
              "    </tr>\n",
              "  </tbody>\n",
              "</table>\n",
              "</div>\n",
              "      <button class=\"colab-df-convert\" onclick=\"convertToInteractive('df-1c96485d-1752-4dab-baa0-7684e5b9b0d8')\"\n",
              "              title=\"Convert this dataframe to an interactive table.\"\n",
              "              style=\"display:none;\">\n",
              "        \n",
              "  <svg xmlns=\"http://www.w3.org/2000/svg\" height=\"24px\"viewBox=\"0 0 24 24\"\n",
              "       width=\"24px\">\n",
              "    <path d=\"M0 0h24v24H0V0z\" fill=\"none\"/>\n",
              "    <path d=\"M18.56 5.44l.94 2.06.94-2.06 2.06-.94-2.06-.94-.94-2.06-.94 2.06-2.06.94zm-11 1L8.5 8.5l.94-2.06 2.06-.94-2.06-.94L8.5 2.5l-.94 2.06-2.06.94zm10 10l.94 2.06.94-2.06 2.06-.94-2.06-.94-.94-2.06-.94 2.06-2.06.94z\"/><path d=\"M17.41 7.96l-1.37-1.37c-.4-.4-.92-.59-1.43-.59-.52 0-1.04.2-1.43.59L10.3 9.45l-7.72 7.72c-.78.78-.78 2.05 0 2.83L4 21.41c.39.39.9.59 1.41.59.51 0 1.02-.2 1.41-.59l7.78-7.78 2.81-2.81c.8-.78.8-2.07 0-2.86zM5.41 20L4 18.59l7.72-7.72 1.47 1.35L5.41 20z\"/>\n",
              "  </svg>\n",
              "      </button>\n",
              "      \n",
              "  <style>\n",
              "    .colab-df-container {\n",
              "      display:flex;\n",
              "      flex-wrap:wrap;\n",
              "      gap: 12px;\n",
              "    }\n",
              "\n",
              "    .colab-df-convert {\n",
              "      background-color: #E8F0FE;\n",
              "      border: none;\n",
              "      border-radius: 50%;\n",
              "      cursor: pointer;\n",
              "      display: none;\n",
              "      fill: #1967D2;\n",
              "      height: 32px;\n",
              "      padding: 0 0 0 0;\n",
              "      width: 32px;\n",
              "    }\n",
              "\n",
              "    .colab-df-convert:hover {\n",
              "      background-color: #E2EBFA;\n",
              "      box-shadow: 0px 1px 2px rgba(60, 64, 67, 0.3), 0px 1px 3px 1px rgba(60, 64, 67, 0.15);\n",
              "      fill: #174EA6;\n",
              "    }\n",
              "\n",
              "    [theme=dark] .colab-df-convert {\n",
              "      background-color: #3B4455;\n",
              "      fill: #D2E3FC;\n",
              "    }\n",
              "\n",
              "    [theme=dark] .colab-df-convert:hover {\n",
              "      background-color: #434B5C;\n",
              "      box-shadow: 0px 1px 3px 1px rgba(0, 0, 0, 0.15);\n",
              "      filter: drop-shadow(0px 1px 2px rgba(0, 0, 0, 0.3));\n",
              "      fill: #FFFFFF;\n",
              "    }\n",
              "  </style>\n",
              "\n",
              "      <script>\n",
              "        const buttonEl =\n",
              "          document.querySelector('#df-1c96485d-1752-4dab-baa0-7684e5b9b0d8 button.colab-df-convert');\n",
              "        buttonEl.style.display =\n",
              "          google.colab.kernel.accessAllowed ? 'block' : 'none';\n",
              "\n",
              "        async function convertToInteractive(key) {\n",
              "          const element = document.querySelector('#df-1c96485d-1752-4dab-baa0-7684e5b9b0d8');\n",
              "          const dataTable =\n",
              "            await google.colab.kernel.invokeFunction('convertToInteractive',\n",
              "                                                     [key], {});\n",
              "          if (!dataTable) return;\n",
              "\n",
              "          const docLinkHtml = 'Like what you see? Visit the ' +\n",
              "            '<a target=\"_blank\" href=https://colab.research.google.com/notebooks/data_table.ipynb>data table notebook</a>'\n",
              "            + ' to learn more about interactive tables.';\n",
              "          element.innerHTML = '';\n",
              "          dataTable['output_type'] = 'display_data';\n",
              "          await google.colab.output.renderOutput(dataTable, element);\n",
              "          const docLink = document.createElement('div');\n",
              "          docLink.innerHTML = docLinkHtml;\n",
              "          element.appendChild(docLink);\n",
              "        }\n",
              "      </script>\n",
              "    </div>\n",
              "  </div>\n",
              "  "
            ]
          },
          "metadata": {},
          "execution_count": 45
        },
        {
          "output_type": "display_data",
          "data": {
            "text/plain": [
              "<Figure size 432x288 with 2 Axes>"
            ],
            "image/png": "[encoded data removed]"
          },
          "metadata": {
            "needs_background": "light"
          }
        }
      ],
      "source": [
        "model_lstm_weighted.summary()\n",
        "performance_report(model_lstm_weighted, \"Weighted LSTM\", image_path, X_test_padding, y_test_encode)"
      ]
    },
    {
      "cell_type": "code",
      "execution_count": null,
      "metadata": {
        "id": "O8XyeCSUUeoz",
        "colab": {
          "base_uri": "https://localhost:8080/",
          "height": 573
        },
        "outputId": "8c423205-aaba-4ed4-96e5-b9c2eb48424b"
      },
      "outputs": [
        {
          "output_type": "display_data",
          "data": {
            "text/plain": [
              "<Figure size 432x288 with 1 Axes>"
            ],
            "image/png": "[encoded data removed]"
          },
          "metadata": {
            "needs_background": "light"
          }
        },
        {
          "output_type": "display_data",
          "data": {
            "text/plain": [
              "<Figure size 432x288 with 1 Axes>"
            ],
            "image/png": "[encoded data removed]"
          },
          "metadata": {
            "needs_background": "light"
          }
        }
      ],
      "source": [
        "# Accuracy and loss of weighted LSTM model\n",
        "performance_history(history_lstm_weighted, \"Weighted LSTM\", image_path, 'accuracy')\n",
        "performance_history(history_lstm_weighted, \"Weighted LSTM\", image_path, 'loss')"
      ]
    },
    {
      "cell_type": "markdown",
      "metadata": {
        "id": "CVm4ojctUgne"
      },
      "source": [
        "### 6.3 Save the models"
      ]
    },
    {
      "cell_type": "code",
      "execution_count": null,
      "metadata": {
        "id": "7ABHLE6MGmPe"
      },
      "outputs": [],
      "source": [
        "def save_model(model, model_name, model_path):\n",
        "    model.save(model_path + model_name)"
      ]
    },
    {
      "cell_type": "code",
      "execution_count": null,
      "metadata": {
        "id": "l9bYVxDtGn1o"
      },
      "outputs": [],
      "source": [
        "save_model(model_rnn, \"Simple_RNN_Model\", model_path)\n",
        "save_model(model_lstm, \"LSTM_Model\", model_path)\n",
        "save_model(model_gru, \"GRU_Model\", model_path)\n",
        "save_model(model_lstm_weighted, \"Weighted_LSTM_Model\", model_path)"
      ]
    },
    {
      "cell_type": "markdown",
      "metadata": {
        "id": "SJ8XmF5XUz2u"
      },
      "source": [
        "# **7. Test the model on new data**"
      ]
    },
    {
      "cell_type": "markdown",
      "metadata": {
        "id": "peUPiTQEVAZK"
      },
      "source": [
        "### 7.1 Load the models"
      ]
    },
    {
      "cell_type": "code",
      "execution_count": null,
      "metadata": {
        "id": "_5m6wuozUs5D",
        "colab": {
          "base_uri": "https://localhost:8080/"
        },
        "outputId": "ebf5730e-056a-4f0b-f734-7a9e42e2983b"
      },
      "outputs": [
        {
          "output_type": "stream",
          "name": "stderr",
          "text": [
            "WARNING:tensorflow:Layer lstm_1 will not use cuDNN kernels since it doesn't meet the criteria. It will use a generic GPU kernel as fallback when running on GPU.\n",
            "WARNING:tensorflow:Layer lstm_1 will not use cuDNN kernels since it doesn't meet the criteria. It will use a generic GPU kernel as fallback when running on GPU.\n",
            "WARNING:tensorflow:Layer lstm_1 will not use cuDNN kernels since it doesn't meet the criteria. It will use a generic GPU kernel as fallback when running on GPU.\n",
            "WARNING:tensorflow:Layer lstm will not use cuDNN kernels since it doesn't meet the criteria. It will use a generic GPU kernel as fallback when running on GPU.\n",
            "WARNING:tensorflow:Layer lstm will not use cuDNN kernels since it doesn't meet the criteria. It will use a generic GPU kernel as fallback when running on GPU.\n",
            "WARNING:tensorflow:Layer lstm will not use cuDNN kernels since it doesn't meet the criteria. It will use a generic GPU kernel as fallback when running on GPU.\n"
          ]
        }
      ],
      "source": [
        "from tensorflow.keras.models import load_model\n",
        "weighted_lstm_model = load_model('/content/drive/MyDrive/L645/project/glove/Weighted_LSTM_Model')\n",
        "lstm_model = load_model('/content/drive/MyDrive/L645/project/glove/LSTM_Model')"
      ]
    },
    {
      "cell_type": "markdown",
      "metadata": {
        "id": "_ixGk5_FVLAr"
      },
      "source": [
        "### 7.2 Prepare the data"
      ]
    },
    {
      "cell_type": "code",
      "execution_count": null,
      "metadata": {
        "id": "iR3whkTGUs1q",
        "colab": {
          "base_uri": "https://localhost:8080/"
        },
        "outputId": "2dd00e8f-f0b4-4444-a328-6b0b97a11913"
      },
      "outputs": [
        {
          "name": "stdout",
          "output_type": "stream",
          "text": [
            "This movie is a piece of shit\n"
          ]
        }
      ],
      "source": [
        "# Tweet to predict\n",
        "tweet = input()\n",
        "\n",
        "# Convert into dataframe\n",
        "test_data = pd.DataFrame(columns=['tweet'])\n",
        "test_data.loc[0, 'tweet'] = tweet\n",
        "\n",
        "# Replace contractions from tweets\n",
        "test_data[\"tweet\"] = test_data.tweet.apply(replace_contraction)\n",
        "\n",
        "# Clean the tweets\n",
        "test_data[\"tweet\"] = test_data.tweet.apply(clean_tweets)\n",
        "\n",
        "# Remove stop words\n",
        "test_data['tweet'] = test_data.tweet.apply(remove_stop_words)\n",
        "\n",
        "# Lemmatize\n",
        "test_data['tweet'] = list(map(lemmatize_tweets, test_data['tweet']))\n",
        "\n",
        "# Text to sequences\n",
        "test_data_sequence = tokenizer.texts_to_sequences(test_data['tweet'])\n",
        "\n",
        "# Padding\n",
        "test_data_padding = pad_sequences(test_data_sequence, maxlen = MAX_LENGTH, padding = 'post', truncating = 'post')"
      ]
    },
    {
      "cell_type": "markdown",
      "metadata": {
        "id": "G62y33yDVfg4"
      },
      "source": [
        "### 7.3 Predict"
      ]
    },
    {
      "cell_type": "code",
      "execution_count": null,
      "metadata": {
        "id": "9lqelq2nU9Xw",
        "colab": {
          "base_uri": "https://localhost:8080/"
        },
        "outputId": "f69a4fab-ec98-4dbe-b2cb-2f91e933679c"
      },
      "outputs": [
        {
          "output_type": "stream",
          "name": "stdout",
          "text": [
            "1/1 [==============================] - 0s 47ms/step\n",
            "Offensive Language\n",
            "1/1 [==============================] - 0s 44ms/step\n",
            "Offensive Language\n"
          ]
        }
      ],
      "source": [
        "# This function predicts the class of a provided tweet\n",
        "def predict_tweet(model, data):\n",
        "    predictions = model.predict(data)\n",
        "    prediction = np.argmax(predictions, axis = 1)\n",
        "    if prediction == 0:\n",
        "        print(\"Hate Speech\")\n",
        "    elif prediction == 1:\n",
        "        print(\"Offensive Language\")\n",
        "    else:\n",
        "        print(\"Neither\")\n",
        "        \n",
        "# Predict class of a tweet\n",
        "\n",
        "# Prediction using unweighted lstm model\n",
        "predict_tweet(gru_model, test_data_padding)\n",
        "\n",
        "# Prediction using weighted lstm model\n",
        "predict_tweet(weighted_gru_model, test_data_padding)"
      ]
    }
  ],
  "metadata": {
    "accelerator": "GPU",
    "colab": {
      "collapsed_sections": [
        "tXkEC8zyKGwl",
        "LCAZUmjTL9wM"
      ],
      "provenance": [],
      "include_colab_link": true
    },
    "gpuClass": "standard",
    "kernelspec": {
      "display_name": "Python 3",
      "name": "python3"
    },
    "language_info": {
      "name": "python"
    }
  },
  "nbformat": 4,
  "nbformat_minor": 0
}